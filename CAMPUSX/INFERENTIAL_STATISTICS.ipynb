{
  "nbformat": 4,
  "nbformat_minor": 0,
  "metadata": {
    "colab": {
      "provenance": []
    },
    "kernelspec": {
      "name": "python3",
      "display_name": "Python 3"
    },
    "language_info": {
      "name": "python"
    }
  },
  "cells": [
    {
      "cell_type": "markdown",
      "source": [
        "# CI WITH Z-PROCEDURE"
      ],
      "metadata": {
        "id": "W3SDCLB2kW0D"
      }
    },
    {
      "cell_type": "code",
      "execution_count": null,
      "metadata": {
        "id": "fm6NxSMSTSww"
      },
      "outputs": [],
      "source": [
        "from scipy.stats import norm"
      ]
    },
    {
      "cell_type": "code",
      "source": [
        "#code to calculate z value\n",
        "norm.ppf(0.995)"
      ],
      "metadata": {
        "colab": {
          "base_uri": "https://localhost:8080/"
        },
        "id": "Leryu7_VTU_D",
        "outputId": "9c3ba063-b617-4900-bb13-ac002bf165c9"
      },
      "execution_count": null,
      "outputs": [
        {
          "output_type": "execute_result",
          "data": {
            "text/plain": [
              "2.5758293035489004"
            ]
          },
          "metadata": {},
          "execution_count": 9
        }
      ]
    },
    {
      "cell_type": "markdown",
      "source": [
        "**A factory produces lightbulbs. The population standard deviation is known to be 50 hours. A random sample of 100 lightbulbs has a mean lifespan of 1,185 hours.\n",
        "Calculate the 95% confidence interval for the true mean lifespan of the lightbulbs using the Z-procedure**"
      ],
      "metadata": {
        "id": "CA-ZtlCYcSHg"
      }
    },
    {
      "cell_type": "code",
      "source": [
        "x_bar = 1185\n",
        "sigma = 50\n",
        "n = 100\n",
        "z = norm.ppf(0.975) #95+0.025\n",
        "\n",
        "upper_bound = x_bar + z * sigma / (n ** 0.5)\n",
        "lower_bound = x_bar - z * sigma / (n ** 0.5)\n",
        "\n",
        "print('With the confidence level of 95%, the population mean is between ', round(lower_bound, 2), 'and', round(upper_bound, 2))"
      ],
      "metadata": {
        "colab": {
          "base_uri": "https://localhost:8080/"
        },
        "id": "083UdDupTbLI",
        "outputId": "2e8205c3-2b81-45a1-d31b-db8a204a2624"
      },
      "execution_count": null,
      "outputs": [
        {
          "output_type": "stream",
          "name": "stdout",
          "text": [
            "With the confidence level of 95%, the population mean is between  1175.2 and 1194.8\n"
          ]
        }
      ]
    },
    {
      "cell_type": "markdown",
      "source": [
        "**A research team want to know the average height of men in a country. The population standard deviation is known to be 6 cm. A random sample of 64 adult males has a mean height of 172 cm.\n",
        "Calculate the 99% confidence interval for the true mean height of adult males in the country.**"
      ],
      "metadata": {
        "id": "u4CJIVcGdloi"
      }
    },
    {
      "cell_type": "code",
      "source": [
        "x_bar = 172\n",
        "sigma = 6\n",
        "n = 64\n",
        "z = norm.ppf(0.995) #95+0.005\n",
        "\n",
        "upper_bound = x_bar + z * sigma / (n ** 0.5)\n",
        "lower_bound = x_bar - z * sigma / (n ** 0.5)\n",
        "\n",
        "print('with the confidence of 99%, the population mean is between', round(lower_bound, 2), 'and', round(upper_bound, 2))"
      ],
      "metadata": {
        "colab": {
          "base_uri": "https://localhost:8080/"
        },
        "id": "xUDcjpAkdFW2",
        "outputId": "890f988e-db72-4ef7-ea22-4ff4710807f9"
      },
      "execution_count": null,
      "outputs": [
        {
          "output_type": "stream",
          "name": "stdout",
          "text": [
            "with the confidence of 99%, the population mean is between 170.07 and 173.93\n"
          ]
        }
      ]
    },
    {
      "cell_type": "markdown",
      "source": [
        "**You are working with the Titanic dataset and want to estimate the average age of passengers. You know that the population standard deviation for the ages of Titanic passengers is approximately 14.5 years (based on historical data).\n",
        "You randomly sample 150 passengers and calculate the sample mean age as 30.88 years.\n",
        "Calculate the 95% confidence interval for the true mean age of Titanic passengers using the Z-procedure.**"
      ],
      "metadata": {
        "id": "pJDCRIn2erTN"
      }
    },
    {
      "cell_type": "code",
      "source": [
        "import pandas as pd"
      ],
      "metadata": {
        "id": "ZMkiA_yEe9Cj"
      },
      "execution_count": null,
      "outputs": []
    },
    {
      "cell_type": "code",
      "source": [
        "df = pd.read_csv('/content/titanic.csv')"
      ],
      "metadata": {
        "id": "qLrZ_bFIeBPC"
      },
      "execution_count": null,
      "outputs": []
    },
    {
      "cell_type": "code",
      "source": [
        "df['Age'].std()"
      ],
      "metadata": {
        "colab": {
          "base_uri": "https://localhost:8080/"
        },
        "id": "G2ZRtm3we72i",
        "outputId": "291a8dcb-4ba8-4e87-99df-8245fffe2ff5"
      },
      "execution_count": null,
      "outputs": [
        {
          "output_type": "execute_result",
          "data": {
            "text/plain": [
              "14.526497332334044"
            ]
          },
          "metadata": {},
          "execution_count": 19
        }
      ]
    },
    {
      "cell_type": "code",
      "source": [
        "sample_df = df.sample(150)"
      ],
      "metadata": {
        "id": "ZGh_fBlgfDb6"
      },
      "execution_count": null,
      "outputs": []
    },
    {
      "cell_type": "code",
      "source": [
        "sample_df['Age'].mean()"
      ],
      "metadata": {
        "colab": {
          "base_uri": "https://localhost:8080/"
        },
        "id": "Qz7SaS1OfFNT",
        "outputId": "8d1076e3-6a64-44e4-827f-3fb5108a3baa"
      },
      "execution_count": null,
      "outputs": [
        {
          "output_type": "execute_result",
          "data": {
            "text/plain": [
              "30.88135593220339"
            ]
          },
          "metadata": {},
          "execution_count": 22
        }
      ]
    },
    {
      "cell_type": "code",
      "source": [
        "# as sample size is greater then 150, CLT is applied automatically (normality assumption is proved)\n",
        "\n",
        "x_bar = 30.88\n",
        "sigma = 14.5\n",
        "n = 150\n",
        "z = norm.ppf(0.975) #95+0.025\n",
        "\n",
        "upper_bound = x_bar + z * sigma / (n ** 0.5)\n",
        "lower_bound = x_bar - z * sigma / (n ** 0.5)\n",
        "\n",
        "print('with 95% of CI, the population mean height is ', round(lower_bound, 2), 'and', round(upper_bound, 2))\n",
        "\n",
        "print(df['Age'].mean()) #Cross-checked that answer is correct"
      ],
      "metadata": {
        "colab": {
          "base_uri": "https://localhost:8080/"
        },
        "id": "DUKWjIg6fSOv",
        "outputId": "656bfa85-e1b0-4db0-a30d-a09de4d1f9f4"
      },
      "execution_count": null,
      "outputs": [
        {
          "output_type": "stream",
          "name": "stdout",
          "text": [
            "with 95% of CI, the population mean height is  28.56 and 33.2\n",
            "29.69911764705882\n"
          ]
        }
      ]
    },
    {
      "cell_type": "markdown",
      "source": [
        "**You are analyzing the salaries of employees at a tech company. The population standard deviation of employee salaries is known to be dollar 12,000. A random sample of 100 employees has a mean salary of $ 55,000.\n",
        "Calculate the 90% confidence interval for the true average salary of all employees at the company using the Z-procedure**"
      ],
      "metadata": {
        "id": "mYkbGqnTgz9M"
      }
    },
    {
      "cell_type": "code",
      "source": [
        "x_bar = 55000\n",
        "sigma = 12000\n",
        "n = 100\n",
        "z = norm.ppf(0.95) #90+0.05\n",
        "\n",
        "upper_bound = x_bar + z * sigma / (n ** 0.5)\n",
        "lower_bound = x_bar - z * sigma / (n ** 0.5)\n",
        "\n",
        "print('95% confidence interval:',( lower_bound , upper_bound, ))"
      ],
      "metadata": {
        "colab": {
          "base_uri": "https://localhost:8080/"
        },
        "id": "eeOIMvsTf79S",
        "outputId": "efa6c82f-b4ec-4b7e-c159-70f0d7dfdbaa"
      },
      "execution_count": null,
      "outputs": [
        {
          "output_type": "stream",
          "name": "stdout",
          "text": [
            "95% confidence interval: (53026.17564765823, 56973.82435234177)\n"
          ]
        }
      ]
    },
    {
      "cell_type": "code",
      "source": [
        "z"
      ],
      "metadata": {
        "colab": {
          "base_uri": "https://localhost:8080/"
        },
        "id": "N1SEmrt_he8s",
        "outputId": "ad072bdb-65b6-4745-b6ee-c6f3038acc03"
      },
      "execution_count": null,
      "outputs": [
        {
          "output_type": "execute_result",
          "data": {
            "text/plain": [
              "1.6448536269514722"
            ]
          },
          "metadata": {},
          "execution_count": 28
        }
      ]
    },
    {
      "cell_type": "markdown",
      "source": [
        "# CI WITH T-PROCEDURE"
      ],
      "metadata": {
        "id": "rNa1mtz7kRX4"
      }
    },
    {
      "cell_type": "markdown",
      "source": [
        "**A researcher is studying the average weight of apples in a farm. A random sample of 30 apples is taken, and the sample has a mean weight of 150 grams and a sample standard deviation of 12 grams.\n",
        "Calculate the 95% confidence interval for the true average weight of all apples using the T-procedure.**"
      ],
      "metadata": {
        "id": "j8moGuMRkiNP"
      }
    },
    {
      "cell_type": "code",
      "source": [
        "from scipy.stats import t"
      ],
      "metadata": {
        "id": "XZHWmZ78ku5H"
      },
      "execution_count": null,
      "outputs": []
    },
    {
      "cell_type": "code",
      "source": [
        "x_bar = 150\n",
        "s = 12\n",
        "n = 30\n",
        "\n",
        "tvalue = t.ppf(0.975, n-1)\n",
        "\n",
        "upper_bound = x_bar + tvalue * s / (n ** 0.5)\n",
        "lower_bound = x_bar - tvalue * s / (n ** 0.5)\n",
        "\n",
        "print('with 95% of CI, the population mean weight is ', round(lower_bound, 2), 'and', round(upper_bound, 2))"
      ],
      "metadata": {
        "colab": {
          "base_uri": "https://localhost:8080/"
        },
        "id": "9LQDCslohwyG",
        "outputId": "cbb0a08f-fc9e-4cdd-b9b9-fb6bc4cd99ff"
      },
      "execution_count": null,
      "outputs": [
        {
          "output_type": "stream",
          "name": "stdout",
          "text": [
            "with 95% of CI, the population mean weight is  145.52 and 154.48\n"
          ]
        }
      ]
    },
    {
      "cell_type": "markdown",
      "source": [
        "**A study is conducted to estimate the average number of hours spent studying per week by college students. A random sample of 40 students is taken. The sample has a mean study time of 15 hours per week, and the sample standard deviation is 5 hours.\n",
        "Calculate the 99% confidence interval for the true average number of hours spent studying per week using the T-procedure.**"
      ],
      "metadata": {
        "id": "Gjr7S07dlSp7"
      }
    },
    {
      "cell_type": "code",
      "source": [
        "x_bar = 15\n",
        "s = 5\n",
        "n = 40\n",
        "\n",
        "t_value = t.ppf(0.995, n-1)\n",
        "\n",
        "upper_bound = x_bar + t_value * s / (n ** 0.5)\n",
        "lower_bound = x_bar - t_value * s / (n ** 0.5)\n",
        "\n",
        "print('with 99% of CI, the population mean weight is ', round(lower_bound, 2), 'and', round(upper_bound, 2))"
      ],
      "metadata": {
        "colab": {
          "base_uri": "https://localhost:8080/"
        },
        "id": "nOwb4l2sk4KD",
        "outputId": "7b87d7c4-4679-45c8-cf54-fd4d94c8016a"
      },
      "execution_count": null,
      "outputs": [
        {
          "output_type": "stream",
          "name": "stdout",
          "text": [
            "with 99% of CI, the population mean weight is  12.86 and 17.14\n"
          ]
        }
      ]
    },
    {
      "cell_type": "markdown",
      "source": [
        "**A researcher wants to estimate the average time it takes for a customer service representative to resolve a customer complaint. A random sample of 25 customer complaints is taken, and the sample has a mean resolution time of 45 minutes with a sample standard deviation of 8 minutes.\n",
        "Calculate the 90% confidence interval for the true average resolution time using the T-procedure.**"
      ],
      "metadata": {
        "id": "W4uG0k2kmG1_"
      }
    },
    {
      "cell_type": "code",
      "source": [
        "x_bar = 45\n",
        "s = 8\n",
        "n = 25\n",
        "\n",
        "t_value = t.ppf(0.95, n-1)\n",
        "\n",
        "upper_bound = x_bar + t_value * s / (n ** 0.5)\n",
        "lower_bound = x_bar - t_value * s / (n ** 0.5)\n",
        "\n",
        "print('with 90 percent of C, population mean minutes to resolve a customer complaint is', round(lower_bound, 2), 'and', round(upper_bound, 2))"
      ],
      "metadata": {
        "colab": {
          "base_uri": "https://localhost:8080/"
        },
        "id": "bxbSqYdGmAQj",
        "outputId": "1ad33e96-3f77-4727-d8ac-c99f23d64b61"
      },
      "execution_count": null,
      "outputs": [
        {
          "output_type": "stream",
          "name": "stdout",
          "text": [
            "with 90 percent of C, population mean minutes to resolve a customer complaint is 42.26 and 47.74\n"
          ]
        }
      ]
    },
    {
      "cell_type": "markdown",
      "source": [
        "**In a study on the Titanic dataset, a researcher is analyzing the ages of passengers. A random sample of 150 passengers is selected. The sample has a mean age of 30.88 years, with a sample standard deviation of 13.49 years.\n",
        "Calculate the 95% confidence interval for the true average age of all Titanic passengers using the T-procedure.**"
      ],
      "metadata": {
        "id": "MQRqz3aXnFyG"
      }
    },
    {
      "cell_type": "code",
      "source": [
        "sample_df['Age'].std()"
      ],
      "metadata": {
        "colab": {
          "base_uri": "https://localhost:8080/"
        },
        "id": "-WDz8zUTncJp",
        "outputId": "d5b39d64-84af-481c-e8aa-a37fde94d501"
      },
      "execution_count": null,
      "outputs": [
        {
          "output_type": "execute_result",
          "data": {
            "text/plain": [
              "13.492587069870684"
            ]
          },
          "metadata": {},
          "execution_count": 46
        }
      ]
    },
    {
      "cell_type": "code",
      "source": [
        "x_bar = 30.88\n",
        "s = 13.49\n",
        "n = 150\n",
        "\n",
        "t_value = t.ppf(0.975, n-1)\n",
        "\n",
        "upper_bound = x_bar + t_value * s / (n ** 0.5)\n",
        "lower_bound = x_bar - t_value * s / (n ** 0.5)\n",
        "\n",
        "print('population mean age is between', round(lower_bound, 2), 'and', round(upper_bound, 2))"
      ],
      "metadata": {
        "colab": {
          "base_uri": "https://localhost:8080/"
        },
        "id": "qrbNar1Em9mj",
        "outputId": "a7bc9fb4-58d2-4d6a-eab8-1de6d7420467"
      },
      "execution_count": null,
      "outputs": [
        {
          "output_type": "stream",
          "name": "stdout",
          "text": [
            "population mean age is between 28.7 and 33.06\n"
          ]
        }
      ]
    },
    {
      "cell_type": "markdown",
      "source": [
        "# HYPOTHESIS TESTING WITH REJECTION REGION APPROCH"
      ],
      "metadata": {
        "id": "r5IWdAkvBMKU"
      }
    },
    {
      "cell_type": "markdown",
      "source": [
        "A school claims that the average score of its students in a standardized test is 85 points. To test this claim, a researcher collects a random sample of 50 students and finds that the sample mean score is 82 points, with a population standard deviation of 10 points.\n",
        "\n",
        "Using a 5% significance level, test whether the school's claim is valid.\n",
        "\n",
        "Tasks:\n",
        "\n",
        "- State the null (\n",
        "𝐻\n",
        "0\n",
        "H\n",
        "0\n",
        "​\n",
        " ) and alternative (\n",
        "𝐻\n",
        "𝑎\n",
        "H\n",
        "a\n",
        "​\n",
        " ) hypotheses.\n",
        "- Calculate the test statistic (\n",
        "𝑍\n",
        "Z).\n",
        "- Find the critical value(s) and determine the rejection region.\n",
        "- Decide whether to reject or fail to reject\n",
        "𝐻\n",
        "0\n",
        "H\n",
        "0\n",
        "​\n",
        " ."
      ],
      "metadata": {
        "id": "jlRcQ9Oo353J"
      }
    },
    {
      "cell_type": "markdown",
      "source": [
        "# SOLUTION\n",
        "\n",
        "**H0** = The mean score of all student is 85.\n",
        "\n",
        "**H1** = The mean score of all student is not 85."
      ],
      "metadata": {
        "id": "v_it3rBk4LCr"
      }
    },
    {
      "cell_type": "code",
      "source": [
        "z = (82 - 85) / (10 / (50 ** 0.5))\n",
        "\n",
        "# since there is no perticular directional sence in alternate hypothesis we will use two tailed test.\n",
        "\n",
        "z_critical = norm.ppf(0.975) #rejection regions\n",
        "\n",
        "if (z > z_critical) | (z < -z_critical): #deciding whether to reject or failed to reject null hypothesis\n",
        "  print('reject H0')\n",
        "else:\n",
        "  print('fail to reject H0')"
      ],
      "metadata": {
        "colab": {
          "base_uri": "https://localhost:8080/"
        },
        "id": "Wbdjoddsn4J7",
        "outputId": "e56cf919-d3b3-4d15-a77a-3c0012bd62e0"
      },
      "execution_count": null,
      "outputs": [
        {
          "output_type": "stream",
          "name": "stdout",
          "text": [
            "reject H0\n"
          ]
        }
      ]
    },
    {
      "cell_type": "markdown",
      "source": [
        "A company claims that the average time spent by users on their website is 15 minutes. A random sample of 50 users spends an average of 14.2 minutes with a standard deviation of 3 minutes. At a 5% significance level, can you reject the company's claim?"
      ],
      "metadata": {
        "id": "mcvS9SV66Ctw"
      }
    },
    {
      "cell_type": "markdown",
      "source": [
        "#SOLUTION:\n",
        "\n",
        "H0 : average time spend is 15 min.\n",
        "\n",
        "H1 : average time spend is not 15 min."
      ],
      "metadata": {
        "id": "r9tJGnxM6TWB"
      }
    },
    {
      "cell_type": "code",
      "source": [
        "z = (14.2 - 15) / (3 / (50 ** 0.5))\n",
        "\n",
        "z_critical = norm.ppf(0.975)\n",
        "\n",
        "if (z > z_critical) | (z < -z_critical):\n",
        "  print('reject H0')\n",
        "else:\n",
        "  print('fail to reject H0')"
      ],
      "metadata": {
        "colab": {
          "base_uri": "https://localhost:8080/"
        },
        "id": "vB3xcrPG4rME",
        "outputId": "c9283e54-7246-4236-fbd6-15dc948ca16a"
      },
      "execution_count": null,
      "outputs": [
        {
          "output_type": "stream",
          "name": "stdout",
          "text": [
            "fail to reject H0\n"
          ]
        }
      ]
    },
    {
      "cell_type": "markdown",
      "source": [
        "A survey claims that 60% of people prefer brand A over brand B. Out of a random sample of 200 people, 110 prefer brand A. At a 1% significance level, can you reject the claim?"
      ],
      "metadata": {
        "id": "8NGHJN0C7-kR"
      }
    },
    {
      "cell_type": "markdown",
      "source": [
        "# SOLUTION\n",
        "\n",
        "H0 : 60% people prefer brand A.\n",
        "\n",
        "H1 : rejecting survey claim of 60% people prefer brand A."
      ],
      "metadata": {
        "id": "iCA6zVjV8BDN"
      }
    },
    {
      "cell_type": "code",
      "source": [
        "population_proporiton = 0.6\n",
        "sample_proportion = 110/200\n",
        "n = 200\n",
        "\n",
        "z = (sample_proportion - population_proporiton) / ((population_proporiton * (1 - population_proporiton)) / n) ** 0.5\n",
        "\n",
        "z_critical = norm.ppf(0.995)\n",
        "\n",
        "if (z > z_critical) | (z < -z_critical):\n",
        "  print('reject H0')\n",
        "else:\n",
        "  print('fail to reject H0')"
      ],
      "metadata": {
        "colab": {
          "base_uri": "https://localhost:8080/"
        },
        "id": "sLYctcsw7jPy",
        "outputId": "00e46ee9-55a0-418d-d186-6feb204fc47d"
      },
      "execution_count": null,
      "outputs": [
        {
          "output_type": "stream",
          "name": "stdout",
          "text": [
            "fail to reject H0\n"
          ]
        }
      ]
    },
    {
      "cell_type": "markdown",
      "source": [
        "**One-Sample Z-Test for Means (Upper-Tailed Test)**\n",
        "\n",
        "A manufacturer claims that the average size of the bolts it produces is exactly 10 cm. However, a quality control team suspects that the bolts may actually be longer than 10 cm. To test this suspicion, the quality control team collects a sample of 30 bolts and finds that the sample mean size is 10.2 cm, with a known standard deviation of 0.5 cm. At a 5% significance level, can the claim that the bolts are longer than 10 cm be supported?\n",
        "\n"
      ],
      "metadata": {
        "id": "yf_aicCB-Jjz"
      }
    },
    {
      "cell_type": "markdown",
      "source": [
        "# SOLUTION:\n",
        "\n",
        "H0 : average size of bolt is 10 cm.\n",
        "H1 : average size is greater than 10 cm."
      ],
      "metadata": {
        "id": "_JCoVVf6Aym3"
      }
    },
    {
      "cell_type": "code",
      "source": [
        "z = (10.2 - 10) / (0.5 / (30 ** 0.5))\n",
        "\n",
        "z_critical = norm.ppf(0.95)\n",
        "\n",
        "# in this problem a direction sense is involved, thus we will perform one tailed z test\n",
        "if (z > z_critical):\n",
        "  print('reject H0')\n",
        "else:\n",
        "  print('fail to reject H0')"
      ],
      "metadata": {
        "colab": {
          "base_uri": "https://localhost:8080/"
        },
        "id": "i6ArgOPM9uyU",
        "outputId": "eaae7d80-5ecc-4add-dfe1-e5cf0e4ed1ab"
      },
      "execution_count": null,
      "outputs": [
        {
          "output_type": "stream",
          "name": "stdout",
          "text": [
            "reject H0\n"
          ]
        }
      ]
    },
    {
      "cell_type": "markdown",
      "source": [
        "One-Sample Z-Test for Proportions (Lower-Tailed Test)\n",
        "\n",
        "A voting survey predicts that at least 70% of voters will support a candidate. In a random sample of 150 voters, 95 express support. At a 5% significance level, can you prove that less than 70 % will vote that perticular candidate?"
      ],
      "metadata": {
        "id": "og1lviFcBfeI"
      }
    },
    {
      "cell_type": "markdown",
      "source": [
        "# SOLUTION :\n",
        "\n",
        "H0 : 70% of voter support a candidate.\n",
        "\n",
        "H1 : less than 70% will vote that candidate"
      ],
      "metadata": {
        "id": "HA8rs4NPBiz0"
      }
    },
    {
      "cell_type": "code",
      "source": [
        "population = 0.7\n",
        "sample = 95 / 150\n",
        "\n",
        "z = (sample - population) / ((population * (1 - population)) / 150) ** 0.5\n",
        "\n",
        "z_critical = norm.ppf(0.05)\n",
        "\n",
        "if (z < z_critical):\n",
        "  print('reject H0')\n",
        "else:\n",
        "  print('fail to reject H0')"
      ],
      "metadata": {
        "colab": {
          "base_uri": "https://localhost:8080/"
        },
        "id": "5pYmjXDQAg4a",
        "outputId": "a35672f4-9f8a-46e1-9241-25a140d5df3f"
      },
      "execution_count": null,
      "outputs": [
        {
          "output_type": "stream",
          "name": "stdout",
          "text": [
            "reject H0\n"
          ]
        }
      ]
    },
    {
      "cell_type": "markdown",
      "source": [
        "One-Sample Z-Test for Means (Two-Tailed Test)\n",
        "\n",
        "A nutritionist claims that the average sodium content in a particular brand of chips is 150 mg. A random sample of 25 packets has an average sodium content of 145 mg with a standard deviation of 10 mg. At a 1% significance level, can you reject the nutritionist's claim?"
      ],
      "metadata": {
        "id": "JCV1-3RRGA4O"
      }
    },
    {
      "cell_type": "markdown",
      "source": [
        "# SOLUTION:\n",
        "\n",
        "H0 : sodium content is 150mg.\n",
        "\n",
        "H1 : sodium content is not 150mg."
      ],
      "metadata": {
        "id": "fkb7PrjcGC4v"
      }
    },
    {
      "cell_type": "code",
      "source": [
        "z = (145-150) / (10/(25**0.5))\n",
        "\n",
        "z_critical = norm.ppf(0.995)\n",
        "\n",
        "if (z > z_critical) or (z < -z_critical):\n",
        "  print('reject H0')\n",
        "else:\n",
        "  print('fail to reject H0')"
      ],
      "metadata": {
        "colab": {
          "base_uri": "https://localhost:8080/"
        },
        "id": "O1Q_vvTHFwzA",
        "outputId": "f9a45c53-c070-4c6d-9e21-6617628155f3"
      },
      "execution_count": null,
      "outputs": [
        {
          "output_type": "stream",
          "name": "stdout",
          "text": [
            "fail to reject H0\n"
          ]
        }
      ]
    },
    {
      "cell_type": "markdown",
      "source": [
        "# P VALUE WITH Z TEST"
      ],
      "metadata": {
        "id": "gPnU7k2UQH4w"
      }
    },
    {
      "cell_type": "markdown",
      "source": [
        "You are testing whether the mean height of students in a class is different from 66. You collect a sample of 50 students and find the sample mean height is 68 inches, with a standard deviation of 3 inches. Conduct a Z-test for the mean with a significance level of 0.05. What is the p-value, and can you reject the null hypothesis?"
      ],
      "metadata": {
        "id": "PYFAxh4TM4os"
      }
    },
    {
      "cell_type": "markdown",
      "source": [
        "# SOLUTION :\n",
        "\n",
        "H0 : mean height is 5.6\n",
        "\n",
        "H1 : mean height is not 5.6"
      ],
      "metadata": {
        "id": "g3EIGOyXM_DC"
      }
    },
    {
      "cell_type": "code",
      "source": [
        "z = (68 - 66) / (3 / (50 ** 0.5))\n",
        "\n",
        "p_value = (1-norm.cdf(abs(z)))*2 #two tailed\n",
        "\n",
        "if p_value < 0.05:\n",
        "  print('reject H0')\n",
        "else:\n",
        "  print('fail to reject H0')"
      ],
      "metadata": {
        "colab": {
          "base_uri": "https://localhost:8080/"
        },
        "id": "QZeEdXhPIInQ",
        "outputId": "a09cc389-631f-4c7b-ee00-1bd14270ea31"
      },
      "execution_count": null,
      "outputs": [
        {
          "output_type": "stream",
          "name": "stdout",
          "text": [
            "reject H0\n"
          ]
        }
      ]
    },
    {
      "cell_type": "markdown",
      "source": [
        "A company claims that their product's average lifespan is 1000 hours. A researcher tests this claim by taking a random sample of 60 products, finding a sample mean of 980 hours and a population standard deviation of 50 hours. Conduct a Z-test and find the p-value. Is there sufficient evidence to dispute the company's claim at a 0.01 significance level?"
      ],
      "metadata": {
        "id": "IVq8HfSfRGR7"
      }
    },
    {
      "cell_type": "markdown",
      "source": [
        "# SOLUTION:\n",
        "\n",
        "H0 : average lifespan is 1000.\n",
        "\n",
        "H1 : average lifespan is not 1000."
      ],
      "metadata": {
        "id": "DRHmGHt3RIUT"
      }
    },
    {
      "cell_type": "code",
      "source": [
        "z = (980-1000) / (50/(60**0.5))\n",
        "\n",
        "p_value = 2*(1-norm.cdf(abs(z)))\n",
        "\n",
        "if p_value < 0.01:\n",
        "  print('reject H0')\n",
        "else:\n",
        "  print('fail to reject H0')"
      ],
      "metadata": {
        "colab": {
          "base_uri": "https://localhost:8080/"
        },
        "id": "mHfkE61TQ1St",
        "outputId": "c5c8dcc1-a5c7-408f-e12f-d7a5230d28ce"
      },
      "execution_count": null,
      "outputs": [
        {
          "output_type": "stream",
          "name": "stdout",
          "text": [
            "reject H0\n"
          ]
        }
      ]
    },
    {
      "cell_type": "markdown",
      "source": [
        "A hospital claims that the average recovery time for a certain surgery is 15 days. A random sample of 40 patients who underwent this surgery shows an average recovery time of 16 days with a population standard deviation of 3.5 days. Conduct a Z-test to determine if the recovery time is significantly different from the claimed average at a significance level of 0.05."
      ],
      "metadata": {
        "id": "EG8GS7mJTqR9"
      }
    },
    {
      "cell_type": "markdown",
      "source": [
        "# SOLUTION:\n",
        "\n",
        "H0 : average recovery time is 15 days.\n",
        "\n",
        "H1 : average recovery time is not 15 days."
      ],
      "metadata": {
        "id": "e9R2FBo5Tt9A"
      }
    },
    {
      "cell_type": "code",
      "source": [
        "z = (16-15) / (3.5/(40**0.5))\n",
        "\n",
        "p_value = 2*(1-norm.cdf(abs(z)))\n",
        "\n",
        "if p_value < 0.05:\n",
        "  print('reject H0')\n",
        "else:\n",
        "  print('fail to reject H0')"
      ],
      "metadata": {
        "colab": {
          "base_uri": "https://localhost:8080/"
        },
        "id": "p1f4dIVDScSr",
        "outputId": "f72f13c3-f792-4dd9-f72f-fb2d3cf08607"
      },
      "execution_count": null,
      "outputs": [
        {
          "output_type": "stream",
          "name": "stdout",
          "text": [
            "fail to reject H0\n"
          ]
        }
      ]
    },
    {
      "cell_type": "markdown",
      "source": [
        "A dietitian claims that a new diet plan helps individuals lose an average of 8 kg in a month. A random sample of 25 individuals following the diet shows a mean weight loss of 7.5 kg with a population standard deviation of 1.2 kg. Conduct a Z-test at a significance level of 0.10 to determine if the dietitian's claim is valid."
      ],
      "metadata": {
        "id": "t28msQjXUhWk"
      }
    },
    {
      "cell_type": "markdown",
      "source": [
        "# SOLUTION\n",
        "\n",
        "H0 : average weight lose is 8kg.\n",
        "\n",
        "H1 : average weight lose is not 8 kg."
      ],
      "metadata": {
        "id": "0mGSIMO2WSPR"
      }
    },
    {
      "cell_type": "code",
      "source": [
        "z = (7.5-8) / (1.2/(25**0.5))\n",
        "\n",
        "p_value = 2*(1-norm.cdf(abs(z)))\n",
        "\n",
        "if p_value < 0.10:\n",
        "  print('reject H0')\n",
        "else:\n",
        "  print('fail to reject H0')\n",
        "\n",
        "# there is much change of type 1 error as significance level is much higher."
      ],
      "metadata": {
        "colab": {
          "base_uri": "https://localhost:8080/"
        },
        "id": "b3Mzc6XlUUCU",
        "outputId": "8c23aada-c367-4dd0-e720-9a08a05ea172"
      },
      "execution_count": null,
      "outputs": [
        {
          "output_type": "stream",
          "name": "stdout",
          "text": [
            "reject H0\n"
          ]
        }
      ]
    },
    {
      "cell_type": "markdown",
      "source": [
        "# SINGLE SAMPLE T TEST"
      ],
      "metadata": {
        "id": "l7gx9rx7XbsS"
      }
    },
    {
      "cell_type": "markdown",
      "source": [
        "A school claims that the average score of its students on a standardized test is 75. A random sample of 30 students from the school has an average score of 78 with a sample standard deviation of 10. Test this claim at a significance level of 0.05 using a one-sample t-test. What is the p-value?"
      ],
      "metadata": {
        "id": "1AWQygrbXf25"
      }
    },
    {
      "cell_type": "markdown",
      "source": [
        "# SOLUTION\n",
        "\n",
        "H0 : average score is 75.\n",
        "\n",
        "H1 : average score is not 75."
      ],
      "metadata": {
        "id": "tlpGpCLUXqV6"
      }
    },
    {
      "cell_type": "code",
      "source": [
        "t_value = (78-75) / (10/(30**0.5))\n",
        "\n",
        "p_value = 2*(1-t.cdf(abs(t_value),df=29))\n",
        "\n",
        "if p_value < 0.05:\n",
        "  print('reject H0')\n",
        "else:\n",
        "  print('fail to reject H0')"
      ],
      "metadata": {
        "colab": {
          "base_uri": "https://localhost:8080/"
        },
        "id": "02wEL6wGWM_e",
        "outputId": "6f7bd57a-3db1-417f-c0ff-7bcd182d5606"
      },
      "execution_count": null,
      "outputs": [
        {
          "output_type": "stream",
          "name": "stdout",
          "text": [
            "fail to reject H0\n"
          ]
        }
      ]
    },
    {
      "cell_type": "markdown",
      "source": [
        "A manufacturer claims that the average lifetime of their light bulbs is 1,000 hours. A quality control team tests a random sample of 40 light bulbs, which results in a sample mean lifetime of 980 hours with a sample standard deviation of 150 hours. Test the manufacturer's claim at a 0.05 significance level. What is the p-value, and do we reject or fail to reject the null hypothesis?"
      ],
      "metadata": {
        "id": "-esqDrLFHLU0"
      }
    },
    {
      "cell_type": "code",
      "source": [
        "t_value = (980-1000) / (150/(40**0.5))\n",
        "\n",
        "p_value = 2*(1-t.cdf(abs(t_value),df=39))\n",
        "\n",
        "if p_value < 0.05:\n",
        "  print('reject H0')\n",
        "else:\n",
        "  print('fail to reject H0')"
      ],
      "metadata": {
        "id": "lIUGvIxPaiCb",
        "colab": {
          "base_uri": "https://localhost:8080/"
        },
        "outputId": "ccdbc1d8-0ff1-44fa-ef27-cccd2716965d"
      },
      "execution_count": null,
      "outputs": [
        {
          "output_type": "stream",
          "name": "stdout",
          "text": [
            "fail to reject H0\n"
          ]
        }
      ]
    },
    {
      "cell_type": "code",
      "source": [
        "p_value"
      ],
      "metadata": {
        "colab": {
          "base_uri": "https://localhost:8080/"
        },
        "id": "xvrdfIGHHqb8",
        "outputId": "6260d56c-0071-48ab-823b-3cbd9b103f07"
      },
      "execution_count": null,
      "outputs": [
        {
          "output_type": "execute_result",
          "data": {
            "text/plain": [
              "0.4042176988711139"
            ]
          },
          "metadata": {},
          "execution_count": 7
        }
      ]
    },
    {
      "cell_type": "markdown",
      "source": [
        "In the Titanic dataset, the average age of passengers is believed to be 30 years. You are given a random sample of 29.69 passengers from the Titanic dataset with the following information:\n",
        "\n",
        "Sample mean age (\n",
        "𝑥\n",
        "ˉ\n",
        "x\n",
        "ˉ\n",
        " ) = 25.7 years\n",
        "\n",
        "Sample standard deviation (\n",
        "𝑠\n",
        "s) = 13.02 years\n",
        "\n",
        "Sample size (\n",
        "𝑛\n",
        "n) = 25\n",
        "\n",
        "Significance level (\n",
        "𝛼\n",
        "α) = 0.05\n",
        "\n",
        "Test\n",
        "- whether the average age of passengers is different from the claimed value of 30 years using a one-sample t-test.\n",
        "- What is the p-value, and do we reject or fail to reject the null hypothesis?"
      ],
      "metadata": {
        "id": "4SBUNtNeIlLn"
      }
    },
    {
      "cell_type": "markdown",
      "source": [
        "# SOLUTION:\n",
        "\n",
        "- H0 : average age is 30\n",
        "\n",
        "- H1 : average age is not 30"
      ],
      "metadata": {
        "id": "6g3IV8fxJ1f_"
      }
    },
    {
      "cell_type": "code",
      "source": [
        "df = pd.read_csv('/content/titanic.csv')"
      ],
      "metadata": {
        "id": "Lysf5ZLULfm9"
      },
      "execution_count": null,
      "outputs": []
    },
    {
      "cell_type": "code",
      "source": [
        "sample_df = df.sample(25,random_state=680)"
      ],
      "metadata": {
        "id": "Hq1Nh_P-H_Zx"
      },
      "execution_count": null,
      "outputs": []
    },
    {
      "cell_type": "markdown",
      "source": [
        "**as number of sample is less than 30, we can't directly assume normality of data, that's why applying shapiro-test for normality**"
      ],
      "metadata": {
        "id": "SRMZBNJcKHrJ"
      }
    },
    {
      "cell_type": "code",
      "source": [
        "from scipy.stats import shapiro\n",
        "\n",
        "statistic, p_value = shapiro(sample_df['Age'])\n",
        "\n",
        "print(f\"P-value: {p_value}\")\n",
        "\n",
        "alpha = 0.05\n",
        "\n",
        "if p_value > alpha:\n",
        "    print(\"Fail to reject the null hypothesis - data is normally distributed.\")\n",
        "else:\n",
        "    print(\"Reject the null hypothesis - data is not normally distributed.\")"
      ],
      "metadata": {
        "colab": {
          "base_uri": "https://localhost:8080/"
        },
        "id": "FdzYRo2vJFjo",
        "outputId": "819f7b4d-18cb-47c5-e0b0-68f3646fe908"
      },
      "execution_count": null,
      "outputs": [
        {
          "output_type": "stream",
          "name": "stdout",
          "text": [
            "P-value: 0.4937495304821514\n",
            "Fail to reject the null hypothesis - data is normally distributed.\n"
          ]
        }
      ]
    },
    {
      "cell_type": "code",
      "source": [
        "sample_df['Age'].mean(),sample_df['Age'].std()"
      ],
      "metadata": {
        "colab": {
          "base_uri": "https://localhost:8080/"
        },
        "id": "SeijXKxPJhcH",
        "outputId": "3751bb9d-8072-4981-976d-80ed807935e7"
      },
      "execution_count": null,
      "outputs": [
        {
          "output_type": "execute_result",
          "data": {
            "text/plain": [
              "(25.7, 13.022416570411705)"
            ]
          },
          "metadata": {},
          "execution_count": 52
        }
      ]
    },
    {
      "cell_type": "code",
      "source": [
        "t_value = (25.7-30) / (13.02/(25**0.5))\n",
        "\n",
        "p_value = 2*(1- t.cdf(abs(t_value),df=24))\n",
        "\n",
        "if p_value < 0.05:\n",
        "  print('reject H0')\n",
        "else:\n",
        "  print('fail to reject H0')\n",
        "\n",
        "#"
      ],
      "metadata": {
        "colab": {
          "base_uri": "https://localhost:8080/"
        },
        "id": "oL1TJyC5K3sH",
        "outputId": "b8def21b-056e-44a4-ec8b-6f46e0dd475c"
      },
      "execution_count": null,
      "outputs": [
        {
          "output_type": "stream",
          "name": "stdout",
          "text": [
            "fail to reject H0\n"
          ]
        }
      ]
    },
    {
      "cell_type": "markdown",
      "source": [
        "# INDEPENDENT 2 SAMPLE T-TEST\n",
        "\n",
        "**SOME ASSUMPTIION**\n",
        "\n",
        "- normality:\n",
        "either the population should be normally distributed, or the sample size should be greater than 30 (so that CLT can be applied), else we can check normality by shapiro test.\n",
        "\n",
        "- homoscedesticity:\n",
        "Homoscedesticity means the two population should have equal varience. to check this assumption we can use leviene test."
      ],
      "metadata": {
        "id": "6KMC-iKWR73R"
      }
    },
    {
      "cell_type": "markdown",
      "source": [
        "**QUESTION**\n",
        "\n",
        "\n",
        "A fitness company claims that two of its training programs, Program A and Program B, result in the same average weight loss. To test this claim, two groups of participants are randomly assigned to each program, and their weight loss (in kg) after 8 weeks is recorded:\n",
        "\n",
        "Program A: Sample size = 30, Mean = 5.2 kg, Standard deviation = 1.5 kg\n",
        "\n",
        "Program B: Sample size = 28, Mean = 4.5 kg, Standard deviation = 1.3 kg\n",
        "\n",
        "At a significance level of 0.05, test whether there is a significant difference in the average weight loss between the two programs. What is the p-value, and do we reject or fail to reject the null hypothesis?"
      ],
      "metadata": {
        "id": "wvUAZ_C3OYC3"
      }
    },
    {
      "cell_type": "code",
      "source": [
        "from scipy.stats import t"
      ],
      "metadata": {
        "id": "4n0V0nuJTLbM"
      },
      "execution_count": null,
      "outputs": []
    },
    {
      "cell_type": "code",
      "source": [
        "t_value = (5.2-4.5) / ((1.5**2/30) + (1.3**2/28))**0.5\n",
        "\n",
        "p_value = 2*(1-t.cdf(abs(t_value),df=56))\n",
        "\n",
        "if p_value < 0.05:\n",
        "  print('reject H0')\n",
        "else:\n",
        "  print('fail to reject H0')"
      ],
      "metadata": {
        "colab": {
          "base_uri": "https://localhost:8080/"
        },
        "id": "ApwD7IFsM-QX",
        "outputId": "a5ab884d-1728-46e6-f0d6-9e78d724c077"
      },
      "execution_count": null,
      "outputs": [
        {
          "output_type": "stream",
          "name": "stdout",
          "text": [
            "fail to reject H0\n"
          ]
        }
      ]
    },
    {
      "cell_type": "markdown",
      "source": [
        "**QUESITON**\n",
        "\n",
        "On the Titanic dataset, test if there is a significant difference in the average age of male and female passengers. Use an independent 2-sample t-test to compare the two groups. take sample of 50 and  significance level of 0.05."
      ],
      "metadata": {
        "id": "7UdL912mUBlk"
      }
    },
    {
      "cell_type": "code",
      "source": [
        "df.dropna(inplace=True)"
      ],
      "metadata": {
        "id": "4DIyBJZNUlsk"
      },
      "execution_count": null,
      "outputs": []
    },
    {
      "cell_type": "code",
      "source": [
        "male_df = df[df['Sex'] == 'male'].sample(50)\n",
        "female_df = df[df['Sex'] == 'female'].sample(50)"
      ],
      "metadata": {
        "id": "5lb2lzB9TbMl"
      },
      "execution_count": null,
      "outputs": []
    },
    {
      "cell_type": "code",
      "source": [
        "male_mean = male_df['Age'].mean()\n",
        "female_mean = female_df['Age'].mean()\n",
        "\n",
        "male_std = male_df['Age'].std()\n",
        "female_std = female_df['Age'].std()"
      ],
      "metadata": {
        "id": "onUZtuWdUk5u"
      },
      "execution_count": null,
      "outputs": []
    },
    {
      "cell_type": "markdown",
      "source": [
        "**checking assumption of homoscedesticity by levine test**"
      ],
      "metadata": {
        "id": "PssBLME3VDF3"
      }
    },
    {
      "cell_type": "code",
      "source": [
        "from scipy.stats import levene\n",
        "\n",
        "statistic, p_value = levene(male_df['Age'], female_df['Age'])\n",
        "\n",
        "print(f\"P-value: {p_value}\")\n",
        "\n",
        "alpha = 0.05\n",
        "if p_value > alpha:\n",
        "    print(\"Fail to reject the null hypothesis - variances are equal.\")\n",
        "else:\n",
        "    print(\"Reject the null hypothesis - variances are not equal.\")"
      ],
      "metadata": {
        "colab": {
          "base_uri": "https://localhost:8080/"
        },
        "id": "EaCNfc8-U-ad",
        "outputId": "df365e4a-9cbb-42f7-a560-1972afd1cdcc"
      },
      "execution_count": null,
      "outputs": [
        {
          "output_type": "stream",
          "name": "stdout",
          "text": [
            "P-value: 0.8801429537514398\n",
            "Fail to reject the null hypothesis - variances are equal.\n"
          ]
        }
      ]
    },
    {
      "cell_type": "code",
      "source": [
        "t_value = (male_mean - female_mean) / ((male_std**2/50) + (female_std**2/50))**0.5\n",
        "\n",
        "p_value = 2*(1-t.cdf(abs(t_value),df=98))\n",
        "\n",
        "if p_value < 0.05:\n",
        "  print('reject H0')\n",
        "else:\n",
        "  print('fail to reject H0')"
      ],
      "metadata": {
        "colab": {
          "base_uri": "https://localhost:8080/"
        },
        "id": "B-QMetgIVTx0",
        "outputId": "8f5c7e87-6251-4eed-8789-31fcb3c94e4d"
      },
      "execution_count": null,
      "outputs": [
        {
          "output_type": "stream",
          "name": "stdout",
          "text": [
            "fail to reject H0\n"
          ]
        }
      ]
    },
    {
      "cell_type": "code",
      "source": [
        "# also we can cross check here, as we have population data,\n",
        "# can clearly see there is difference of only 6 years, which is not significant difference\n",
        "\n",
        "df[df['Sex'] == 'male']['Age'].mean(),df[df['Sex'] == 'female']['Age'].mean()"
      ],
      "metadata": {
        "colab": {
          "base_uri": "https://localhost:8080/"
        },
        "id": "BMXWPWIxVhDz",
        "outputId": "c16484a4-a339-466e-f697-5ad4fc528513"
      },
      "execution_count": null,
      "outputs": [
        {
          "output_type": "execute_result",
          "data": {
            "text/plain": [
              "(38.45178947368421, 32.67613636363637)"
            ]
          },
          "metadata": {},
          "execution_count": 80
        }
      ]
    },
    {
      "cell_type": "markdown",
      "source": [
        "# DEPENDENT PARIED 2 SAMPLE T TEST\n",
        "\n",
        "**ASSUMPTION**\n",
        "\n",
        "The difference between the paried observation should be approx normally distributed."
      ],
      "metadata": {
        "id": "HfjgPcyoWtEE"
      }
    },
    {
      "cell_type": "markdown",
      "source": [
        "### **Question:**\n",
        "\n",
        "A researcher wants to evaluate the effectiveness of a fitness program by comparing participants' weights **before** and **after** the program. The weights (in kg) of 10 participants were recorded as follows:\n",
        "\n",
        "| Participant | Weight Before | Weight After |\n",
        "|-------------|---------------|--------------|\n",
        "| 1           | 80            | 78           |\n",
        "| 2           | 85            | 83           |\n",
        "| 3           | 90            | 88           |\n",
        "| 4           | 75            | 74           |\n",
        "| 5           | 95            | 92           |\n",
        "| 6           | 100           | 97           |\n",
        "| 7           | 88            | 86           |\n",
        "| 8           | 78            | 77           |\n",
        "| 9           | 92            | 89           |\n",
        "| 10          | 89            | 86           |\n",
        "\n",
        "At a significance level of 0.05, test whether the fitness program leads to a significant change in weight, assuming the difference of weight is following normal distribution. Use a **dependent (paired) t-test**.\n",
        "\n",
        "---\n",
        "\n",
        "### **Hypotheses:**\n",
        "- **\\(H_0\\):** There is no significant difference between the weights before and after the program .\n",
        "- **\\(H_1\\):** There is a significant difference between the weights before and after the program ."
      ],
      "metadata": {
        "id": "lv7vFxqrW_nh"
      }
    },
    {
      "cell_type": "code",
      "source": [
        "before = [80, 85, 90, 75, 95, 100, 88, 78, 92, 89]\n",
        "\n",
        "after = [79, 83, 89, 74, 94, 99, 87, 77, 91, 88]"
      ],
      "metadata": {
        "id": "O2EFU51MV7He"
      },
      "execution_count": null,
      "outputs": []
    },
    {
      "cell_type": "markdown",
      "source": [
        "**checking assumption of normality of difference**"
      ],
      "metadata": {
        "id": "UZtoBzoTXlaH"
      }
    },
    {
      "cell_type": "code",
      "source": [
        "import numpy as np"
      ],
      "metadata": {
        "id": "aqZTWgoOYxXO"
      },
      "execution_count": null,
      "outputs": []
    },
    {
      "cell_type": "code",
      "source": [
        "diff = np.array(before) - np.array(after)"
      ],
      "metadata": {
        "id": "QW1SMsxrY_rw"
      },
      "execution_count": null,
      "outputs": []
    },
    {
      "cell_type": "code",
      "source": [
        "t_value = diff.mean() / (diff.std() / (10**0.5))\n",
        "\n",
        "p_value = 2*(1-t.cdf(abs(t_value),df=9))\n",
        "\n",
        "if p_value < 0.05:\n",
        "  print('reject H0')\n",
        "else:\n",
        "  print('fail to reject H0')"
      ],
      "metadata": {
        "colab": {
          "base_uri": "https://localhost:8080/"
        },
        "id": "I9W5-1oFX2Md",
        "outputId": "9ea13be0-9163-4bdf-e015-ecf9d46380d9"
      },
      "execution_count": null,
      "outputs": [
        {
          "output_type": "stream",
          "name": "stdout",
          "text": [
            "reject H0\n"
          ]
        }
      ]
    },
    {
      "cell_type": "markdown",
      "source": [
        "# CHI SQUARE GOODNESS OF FIT TEST"
      ],
      "metadata": {
        "id": "i2x_59F1CNEp"
      }
    },
    {
      "cell_type": "markdown",
      "source": [
        "A dice manufacturer claims that their dice are fair, meaning each face (1 to 6) has an equal probability of appearing. To test this, you roll a die 120 times and record the outcomes:\n",
        "\n",
        "- Face 1: 15 times\n",
        "- Face 2: 20 times\n",
        "- Face 3: 18 times\n",
        "- Face 4: 22 times\n",
        "- Face 5: 25 times\n",
        "- Face 6: 20 times\n",
        "\n",
        "At a 5% significance level, is the die fair?"
      ],
      "metadata": {
        "id": "56yJk0z8CXCL"
      }
    },
    {
      "cell_type": "markdown",
      "source": [
        "# SOLUTION:\n",
        "\n",
        "- H0 : Dice is fair.\n",
        "- H1 : Dice is not fair.\n",
        "\n",
        "Theoritical distribution of dice will be 1/6."
      ],
      "metadata": {
        "id": "6fZLhYEXCsSa"
      }
    },
    {
      "cell_type": "code",
      "source": [
        "from scipy.stats import chi2\n",
        "import numpy as np"
      ],
      "metadata": {
        "id": "wmG-HIA1D7vw"
      },
      "execution_count": null,
      "outputs": []
    },
    {
      "cell_type": "code",
      "source": [
        "dice = [15, 20, 18, 22, 25,20]\n",
        "\n",
        "expected = 120*(1/6)\n",
        "\n",
        "chi_square_value = np.sum((np.array(dice) - expected)**2)/expected\n",
        "\n",
        "p_value = chi2.sf(chi_square_value,df=5) #this will give complement of cdf.\n",
        "\n",
        "if p_value < 0.05:\n",
        "  print('reject H0')\n",
        "else:\n",
        "  print('fail to reject H0')"
      ],
      "metadata": {
        "colab": {
          "base_uri": "https://localhost:8080/"
        },
        "id": "5R4YtH2vCRf7",
        "outputId": "471f6c9b-313a-45fe-c4ae-487246cb209e"
      },
      "execution_count": null,
      "outputs": [
        {
          "output_type": "stream",
          "name": "stdout",
          "text": [
            "fail to reject H0\n"
          ]
        }
      ]
    },
    {
      "cell_type": "code",
      "source": [
        "chi_square_value,p_value"
      ],
      "metadata": {
        "colab": {
          "base_uri": "https://localhost:8080/"
        },
        "id": "AJrYtUqTEDKR",
        "outputId": "b0cdb6f7-f12c-4866-9963-01c40620a749"
      },
      "execution_count": null,
      "outputs": [
        {
          "output_type": "execute_result",
          "data": {
            "text/plain": [
              "(2.9, 0.7153995143435803)"
            ]
          },
          "metadata": {},
          "execution_count": 5
        }
      ]
    },
    {
      "cell_type": "markdown",
      "source": [
        "A factory produces light bulbs, and it is claimed that 5% of the bulbs are defective. To test this claim, a quality inspector randomly selects 100 bulbs, and 10 of them are found to be defective.\n",
        "\n",
        "At a 5% significance level, does the observed data deviate from the claimed defect rate?"
      ],
      "metadata": {
        "id": "dw482BpIJOIo"
      }
    },
    {
      "cell_type": "markdown",
      "source": [
        "SOLUTION:\n",
        "\n",
        "- H0 : defect rate is 5%.\n",
        "- H1 : defect rate is significantly differenct from 5%."
      ],
      "metadata": {
        "id": "BLxdp111JS5l"
      }
    },
    {
      "cell_type": "code",
      "source": [
        "expected = [5,95]\n",
        "\n",
        "observed = [10,90]\n",
        "\n",
        "chi_square_value = np.sum((np.array(observed) - np.array(expected))**2/expected)\n",
        "\n",
        "p_value = chi2.sf(chi_square_value,df=1)\n",
        "\n",
        "if p_value < 0.05:\n",
        "  print('reject H0')\n",
        "else:\n",
        "  print('fail to reject H0')"
      ],
      "metadata": {
        "colab": {
          "base_uri": "https://localhost:8080/"
        },
        "id": "7o1PuPhFJNzw",
        "outputId": "5274e94c-fa0c-444a-90ba-0ff53e8e8c58"
      },
      "execution_count": null,
      "outputs": [
        {
          "output_type": "stream",
          "name": "stdout",
          "text": [
            "reject H0\n"
          ]
        }
      ]
    },
    {
      "cell_type": "markdown",
      "source": [
        "\n",
        "# Chi-Square Test for Independence Question\n",
        "\n",
        "A researcher wants to study the relationship between gender and preference for car types. A random sample of 200 individuals is surveyed, and the results are as follows:\n",
        "\n",
        "| **Car Type**   | **Male** | **Female** |  \n",
        "|----------------|----------|------------|  \n",
        "| Sedan          | 50       | 70         |  \n",
        "| SUV            | 40       | 30         |  \n",
        "| Hatchback      | 30       | 10         |  \n",
        "\n",
        "At a 5% significance level, is there a significant association between gender and car type preference?"
      ],
      "metadata": {
        "id": "okUpohSfPMxP"
      }
    },
    {
      "cell_type": "markdown",
      "source": [
        "#SOLUTION:\n",
        "\n",
        "- H0 : no significant association between gender and car type.\n",
        "- H1 : There is signficant association between this two categorical variable."
      ],
      "metadata": {
        "id": "fTAJkqf5P1_h"
      }
    },
    {
      "cell_type": "code",
      "source": [
        "from scipy.stats import chi2_contingency\n",
        "\n",
        "df = {\n",
        "    'Car Type': ['Sedan', 'SUV', 'Hatchback'],\n",
        "    'Male': [50, 40, 30],\n",
        "    'Female': [70, 30, 10]\n",
        "}\n",
        "\n",
        "crosstab = pd.DataFrame({\n",
        "    'Male': df['Male'],\n",
        "    'Female': df['Female']\n",
        "}, index=df['Car Type'])\n",
        "\n",
        "chi2, p_value, dof, expected = chi2_contingency(crosstab) #this function directly calculat the expected observation, then chi2 statistic and p_value (dof is degree of freedom)\n",
        "\n",
        "print('chi2',chi2)\n",
        "print('p_value',p_value)\n",
        "print('dof',dof)\n",
        "print('expected',expected)\n",
        "\n",
        "if p_value < 0.05:\n",
        "  print('reject H0')\n",
        "else:\n",
        "  print('fail to reject H0')"
      ],
      "metadata": {
        "colab": {
          "base_uri": "https://localhost:8080/"
        },
        "id": "aJ1rBauGPrpM",
        "outputId": "db999181-d6a4-4dfa-8f7e-d63e06d87f0f"
      },
      "execution_count": null,
      "outputs": [
        {
          "output_type": "stream",
          "name": "stdout",
          "text": [
            "chi2 14.354256854256853\n",
            "p_value 0.0007638581702017146\n",
            "dof 2\n",
            "expected [[62.60869565 57.39130435]\n",
            " [36.52173913 33.47826087]\n",
            " [20.86956522 19.13043478]]\n",
            "reject H0\n"
          ]
        }
      ]
    },
    {
      "cell_type": "markdown",
      "source": [
        "You want to test whether there is a significant association between Passenger Class (Pclass) and Survival Status (Survived) on the Titanic. Specifically, you want to know if the probability of survival is independent of the passenger class (1st, 2nd, or 3rd)."
      ],
      "metadata": {
        "id": "WNF5eCUmTr03"
      }
    },
    {
      "cell_type": "markdown",
      "source": [
        "#SOLUTION:\n",
        "\n",
        "- H0 : no association between passenger class and survival status.\n",
        "- H1 : significant association between passenger class and survival status."
      ],
      "metadata": {
        "id": "BWQ7iQaCTu3y"
      }
    },
    {
      "cell_type": "code",
      "source": [
        "df = pd.read_csv('/content/titanic.csv')"
      ],
      "metadata": {
        "id": "0JAG57ugUDho"
      },
      "execution_count": null,
      "outputs": []
    },
    {
      "cell_type": "code",
      "source": [
        "crosstab = pd.crosstab(df['Pclass'],df['Survived'])\n",
        "\n",
        "chi2, p_value, dof, expected = chi2_contingency(crosstab)\n",
        "\n",
        "print('chi2',chi2)\n",
        "print('p_value',p_value)\n",
        "print('dof',dof)\n",
        "print('expected',expected)\n",
        "\n",
        "if p_value < 0.05:\n",
        "  print('reject H0')\n",
        "else:\n",
        "  print('fail to reject H0')"
      ],
      "metadata": {
        "colab": {
          "base_uri": "https://localhost:8080/"
        },
        "id": "FIZcxfLUUF0I",
        "outputId": "b5dbafa3-4640-4979-89a0-abda3c81acbb"
      },
      "execution_count": null,
      "outputs": [
        {
          "output_type": "stream",
          "name": "stdout",
          "text": [
            "chi2 102.88898875696056\n",
            "p_value 4.549251711298793e-23\n",
            "dof 2\n",
            "expected [[133.09090909  82.90909091]\n",
            " [113.37373737  70.62626263]\n",
            " [302.53535354 188.46464646]]\n",
            "reject H0\n"
          ]
        }
      ]
    },
    {
      "cell_type": "markdown",
      "source": [
        "# ONE-WAY ANOVA AND POST-HOC TEST."
      ],
      "metadata": {
        "id": "6m3LVBzFVaH7"
      }
    },
    {
      "cell_type": "markdown",
      "source": [
        "You want to test if there is a significant difference in the average age of passengers across the three passenger classes (1st, 2nd, and 3rd class) on the Titanic."
      ],
      "metadata": {
        "id": "AhdmI7yyWELo"
      }
    },
    {
      "cell_type": "code",
      "source": [
        "from scipy.stats import f_oneway\n",
        "\n",
        "df = pd.read_csv('/content/titanic.csv')\n",
        "\n",
        "df.dropna(inplace=True)\n",
        "\n",
        "p1 = df['Pclass'] == 1\n",
        "p2 = df['Pclass'] == 2\n",
        "p3 = df['Pclass'] == 3\n",
        "\n",
        "f_value, p_value = f_oneway(df[p1]['Age'], df[p2]['Age'], df[p3]['Age'])\n",
        "\n",
        "if p_value < 0.05:\n",
        "  print('reject H0')\n",
        "else:\n",
        "  print('fail to reject H0')"
      ],
      "metadata": {
        "colab": {
          "base_uri": "https://localhost:8080/"
        },
        "id": "36enMfS8WDIy",
        "outputId": "baf9c0b5-47b2-4354-9b22-c346875761e6"
      },
      "execution_count": null,
      "outputs": [
        {
          "output_type": "stream",
          "name": "stdout",
          "text": [
            "reject H0\n"
          ]
        }
      ]
    },
    {
      "cell_type": "markdown",
      "source": [
        "thus by above test we can conclude that there is significant difference between mean age of classes, now to check whether all three class have different mean age, or only one is significantly different from two other we need to use post-hoc test."
      ],
      "metadata": {
        "id": "YGFOEpxoZ8Y-"
      }
    },
    {
      "cell_type": "code",
      "source": [
        "# post-hoc test\n",
        "from statsmodels.stats.multicomp import pairwise_tukeyhsd\n",
        "import matplotlib.pyplot as plt\n",
        "\n",
        "tukey = pairwise_tukeyhsd(endog=df['Age'], groups=df['Pclass'], alpha=0.05)\n",
        "\n",
        "tukey.plot_simultaneous()\n",
        "\n",
        "pd.DataFrame(tukey.summary())\n",
        "\n",
        "# we can clearly see that p_class1 is significantly different from other two."
      ],
      "metadata": {
        "colab": {
          "base_uri": "https://localhost:8080/",
          "height": 703
        },
        "id": "_YCvqQvcZkEn",
        "outputId": "46298fc2-0c00-44d9-99e1-d74b5dff6b29"
      },
      "execution_count": null,
      "outputs": [
        {
          "output_type": "execute_result",
          "data": {
            "text/plain": [
              "        0       1         2       3         4        5       6\n",
              "0  group1  group2  meandiff   p-adj     lower    upper  reject\n",
              "1       1       2  -12.3246  0.0073  -21.8645  -2.7847    True\n",
              "2       1       3  -16.5913  0.0023  -28.1051  -5.0775    True\n",
              "3       2       3   -4.2667  0.7641  -18.6818  10.1484   False"
            ],
            "text/html": [
              "\n",
              "  <div id=\"df-ff828bc6-d2a4-4431-a8aa-5bd8708c8969\" class=\"colab-df-container\">\n",
              "    <div>\n",
              "<style scoped>\n",
              "    .dataframe tbody tr th:only-of-type {\n",
              "        vertical-align: middle;\n",
              "    }\n",
              "\n",
              "    .dataframe tbody tr th {\n",
              "        vertical-align: top;\n",
              "    }\n",
              "\n",
              "    .dataframe thead th {\n",
              "        text-align: right;\n",
              "    }\n",
              "</style>\n",
              "<table border=\"1\" class=\"dataframe\">\n",
              "  <thead>\n",
              "    <tr style=\"text-align: right;\">\n",
              "      <th></th>\n",
              "      <th>0</th>\n",
              "      <th>1</th>\n",
              "      <th>2</th>\n",
              "      <th>3</th>\n",
              "      <th>4</th>\n",
              "      <th>5</th>\n",
              "      <th>6</th>\n",
              "    </tr>\n",
              "  </thead>\n",
              "  <tbody>\n",
              "    <tr>\n",
              "      <th>0</th>\n",
              "      <td>group1</td>\n",
              "      <td>group2</td>\n",
              "      <td>meandiff</td>\n",
              "      <td>p-adj</td>\n",
              "      <td>lower</td>\n",
              "      <td>upper</td>\n",
              "      <td>reject</td>\n",
              "    </tr>\n",
              "    <tr>\n",
              "      <th>1</th>\n",
              "      <td>1</td>\n",
              "      <td>2</td>\n",
              "      <td>-12.3246</td>\n",
              "      <td>0.0073</td>\n",
              "      <td>-21.8645</td>\n",
              "      <td>-2.7847</td>\n",
              "      <td>True</td>\n",
              "    </tr>\n",
              "    <tr>\n",
              "      <th>2</th>\n",
              "      <td>1</td>\n",
              "      <td>3</td>\n",
              "      <td>-16.5913</td>\n",
              "      <td>0.0023</td>\n",
              "      <td>-28.1051</td>\n",
              "      <td>-5.0775</td>\n",
              "      <td>True</td>\n",
              "    </tr>\n",
              "    <tr>\n",
              "      <th>3</th>\n",
              "      <td>2</td>\n",
              "      <td>3</td>\n",
              "      <td>-4.2667</td>\n",
              "      <td>0.7641</td>\n",
              "      <td>-18.6818</td>\n",
              "      <td>10.1484</td>\n",
              "      <td>False</td>\n",
              "    </tr>\n",
              "  </tbody>\n",
              "</table>\n",
              "</div>\n",
              "    <div class=\"colab-df-buttons\">\n",
              "\n",
              "  <div class=\"colab-df-container\">\n",
              "    <button class=\"colab-df-convert\" onclick=\"convertToInteractive('df-ff828bc6-d2a4-4431-a8aa-5bd8708c8969')\"\n",
              "            title=\"Convert this dataframe to an interactive table.\"\n",
              "            style=\"display:none;\">\n",
              "\n",
              "  <svg xmlns=\"http://www.w3.org/2000/svg\" height=\"24px\" viewBox=\"0 -960 960 960\">\n",
              "    <path d=\"M120-120v-720h720v720H120Zm60-500h600v-160H180v160Zm220 220h160v-160H400v160Zm0 220h160v-160H400v160ZM180-400h160v-160H180v160Zm440 0h160v-160H620v160ZM180-180h160v-160H180v160Zm440 0h160v-160H620v160Z\"/>\n",
              "  </svg>\n",
              "    </button>\n",
              "\n",
              "  <style>\n",
              "    .colab-df-container {\n",
              "      display:flex;\n",
              "      gap: 12px;\n",
              "    }\n",
              "\n",
              "    .colab-df-convert {\n",
              "      background-color: #E8F0FE;\n",
              "      border: none;\n",
              "      border-radius: 50%;\n",
              "      cursor: pointer;\n",
              "      display: none;\n",
              "      fill: #1967D2;\n",
              "      height: 32px;\n",
              "      padding: 0 0 0 0;\n",
              "      width: 32px;\n",
              "    }\n",
              "\n",
              "    .colab-df-convert:hover {\n",
              "      background-color: #E2EBFA;\n",
              "      box-shadow: 0px 1px 2px rgba(60, 64, 67, 0.3), 0px 1px 3px 1px rgba(60, 64, 67, 0.15);\n",
              "      fill: #174EA6;\n",
              "    }\n",
              "\n",
              "    .colab-df-buttons div {\n",
              "      margin-bottom: 4px;\n",
              "    }\n",
              "\n",
              "    [theme=dark] .colab-df-convert {\n",
              "      background-color: #3B4455;\n",
              "      fill: #D2E3FC;\n",
              "    }\n",
              "\n",
              "    [theme=dark] .colab-df-convert:hover {\n",
              "      background-color: #434B5C;\n",
              "      box-shadow: 0px 1px 3px 1px rgba(0, 0, 0, 0.15);\n",
              "      filter: drop-shadow(0px 1px 2px rgba(0, 0, 0, 0.3));\n",
              "      fill: #FFFFFF;\n",
              "    }\n",
              "  </style>\n",
              "\n",
              "    <script>\n",
              "      const buttonEl =\n",
              "        document.querySelector('#df-ff828bc6-d2a4-4431-a8aa-5bd8708c8969 button.colab-df-convert');\n",
              "      buttonEl.style.display =\n",
              "        google.colab.kernel.accessAllowed ? 'block' : 'none';\n",
              "\n",
              "      async function convertToInteractive(key) {\n",
              "        const element = document.querySelector('#df-ff828bc6-d2a4-4431-a8aa-5bd8708c8969');\n",
              "        const dataTable =\n",
              "          await google.colab.kernel.invokeFunction('convertToInteractive',\n",
              "                                                    [key], {});\n",
              "        if (!dataTable) return;\n",
              "\n",
              "        const docLinkHtml = 'Like what you see? Visit the ' +\n",
              "          '<a target=\"_blank\" href=https://colab.research.google.com/notebooks/data_table.ipynb>data table notebook</a>'\n",
              "          + ' to learn more about interactive tables.';\n",
              "        element.innerHTML = '';\n",
              "        dataTable['output_type'] = 'display_data';\n",
              "        await google.colab.output.renderOutput(dataTable, element);\n",
              "        const docLink = document.createElement('div');\n",
              "        docLink.innerHTML = docLinkHtml;\n",
              "        element.appendChild(docLink);\n",
              "      }\n",
              "    </script>\n",
              "  </div>\n",
              "\n",
              "\n",
              "<div id=\"df-dcd298aa-a704-478b-bc4a-6754d3391d1a\">\n",
              "  <button class=\"colab-df-quickchart\" onclick=\"quickchart('df-dcd298aa-a704-478b-bc4a-6754d3391d1a')\"\n",
              "            title=\"Suggest charts\"\n",
              "            style=\"display:none;\">\n",
              "\n",
              "<svg xmlns=\"http://www.w3.org/2000/svg\" height=\"24px\"viewBox=\"0 0 24 24\"\n",
              "     width=\"24px\">\n",
              "    <g>\n",
              "        <path d=\"M19 3H5c-1.1 0-2 .9-2 2v14c0 1.1.9 2 2 2h14c1.1 0 2-.9 2-2V5c0-1.1-.9-2-2-2zM9 17H7v-7h2v7zm4 0h-2V7h2v10zm4 0h-2v-4h2v4z\"/>\n",
              "    </g>\n",
              "</svg>\n",
              "  </button>\n",
              "\n",
              "<style>\n",
              "  .colab-df-quickchart {\n",
              "      --bg-color: #E8F0FE;\n",
              "      --fill-color: #1967D2;\n",
              "      --hover-bg-color: #E2EBFA;\n",
              "      --hover-fill-color: #174EA6;\n",
              "      --disabled-fill-color: #AAA;\n",
              "      --disabled-bg-color: #DDD;\n",
              "  }\n",
              "\n",
              "  [theme=dark] .colab-df-quickchart {\n",
              "      --bg-color: #3B4455;\n",
              "      --fill-color: #D2E3FC;\n",
              "      --hover-bg-color: #434B5C;\n",
              "      --hover-fill-color: #FFFFFF;\n",
              "      --disabled-bg-color: #3B4455;\n",
              "      --disabled-fill-color: #666;\n",
              "  }\n",
              "\n",
              "  .colab-df-quickchart {\n",
              "    background-color: var(--bg-color);\n",
              "    border: none;\n",
              "    border-radius: 50%;\n",
              "    cursor: pointer;\n",
              "    display: none;\n",
              "    fill: var(--fill-color);\n",
              "    height: 32px;\n",
              "    padding: 0;\n",
              "    width: 32px;\n",
              "  }\n",
              "\n",
              "  .colab-df-quickchart:hover {\n",
              "    background-color: var(--hover-bg-color);\n",
              "    box-shadow: 0 1px 2px rgba(60, 64, 67, 0.3), 0 1px 3px 1px rgba(60, 64, 67, 0.15);\n",
              "    fill: var(--button-hover-fill-color);\n",
              "  }\n",
              "\n",
              "  .colab-df-quickchart-complete:disabled,\n",
              "  .colab-df-quickchart-complete:disabled:hover {\n",
              "    background-color: var(--disabled-bg-color);\n",
              "    fill: var(--disabled-fill-color);\n",
              "    box-shadow: none;\n",
              "  }\n",
              "\n",
              "  .colab-df-spinner {\n",
              "    border: 2px solid var(--fill-color);\n",
              "    border-color: transparent;\n",
              "    border-bottom-color: var(--fill-color);\n",
              "    animation:\n",
              "      spin 1s steps(1) infinite;\n",
              "  }\n",
              "\n",
              "  @keyframes spin {\n",
              "    0% {\n",
              "      border-color: transparent;\n",
              "      border-bottom-color: var(--fill-color);\n",
              "      border-left-color: var(--fill-color);\n",
              "    }\n",
              "    20% {\n",
              "      border-color: transparent;\n",
              "      border-left-color: var(--fill-color);\n",
              "      border-top-color: var(--fill-color);\n",
              "    }\n",
              "    30% {\n",
              "      border-color: transparent;\n",
              "      border-left-color: var(--fill-color);\n",
              "      border-top-color: var(--fill-color);\n",
              "      border-right-color: var(--fill-color);\n",
              "    }\n",
              "    40% {\n",
              "      border-color: transparent;\n",
              "      border-right-color: var(--fill-color);\n",
              "      border-top-color: var(--fill-color);\n",
              "    }\n",
              "    60% {\n",
              "      border-color: transparent;\n",
              "      border-right-color: var(--fill-color);\n",
              "    }\n",
              "    80% {\n",
              "      border-color: transparent;\n",
              "      border-right-color: var(--fill-color);\n",
              "      border-bottom-color: var(--fill-color);\n",
              "    }\n",
              "    90% {\n",
              "      border-color: transparent;\n",
              "      border-bottom-color: var(--fill-color);\n",
              "    }\n",
              "  }\n",
              "</style>\n",
              "\n",
              "  <script>\n",
              "    async function quickchart(key) {\n",
              "      const quickchartButtonEl =\n",
              "        document.querySelector('#' + key + ' button');\n",
              "      quickchartButtonEl.disabled = true;  // To prevent multiple clicks.\n",
              "      quickchartButtonEl.classList.add('colab-df-spinner');\n",
              "      try {\n",
              "        const charts = await google.colab.kernel.invokeFunction(\n",
              "            'suggestCharts', [key], {});\n",
              "      } catch (error) {\n",
              "        console.error('Error during call to suggestCharts:', error);\n",
              "      }\n",
              "      quickchartButtonEl.classList.remove('colab-df-spinner');\n",
              "      quickchartButtonEl.classList.add('colab-df-quickchart-complete');\n",
              "    }\n",
              "    (() => {\n",
              "      let quickchartButtonEl =\n",
              "        document.querySelector('#df-dcd298aa-a704-478b-bc4a-6754d3391d1a button');\n",
              "      quickchartButtonEl.style.display =\n",
              "        google.colab.kernel.accessAllowed ? 'block' : 'none';\n",
              "    })();\n",
              "  </script>\n",
              "</div>\n",
              "\n",
              "    </div>\n",
              "  </div>\n"
            ],
            "application/vnd.google.colaboratory.intrinsic+json": {
              "type": "dataframe",
              "summary": "{\n  \"name\": \"# we can clearly see that p_class1 is significantly different from other two\",\n  \"rows\": 4,\n  \"fields\": [\n    {\n      \"column\": 0,\n      \"properties\": {\n        \"dtype\": \"string\",\n        \"num_unique_values\": 4,\n        \"samples\": [\n          \"1\",\n          \"2\",\n          \"group1\"\n        ],\n        \"semantic_type\": \"\",\n        \"description\": \"\"\n      }\n    },\n    {\n      \"column\": 1,\n      \"properties\": {\n        \"dtype\": \"string\",\n        \"num_unique_values\": 4,\n        \"samples\": [\n          \"2\",\n          \"3\",\n          \"group2\"\n        ],\n        \"semantic_type\": \"\",\n        \"description\": \"\"\n      }\n    },\n    {\n      \"column\": 2,\n      \"properties\": {\n        \"dtype\": \"string\",\n        \"num_unique_values\": 4,\n        \"samples\": [\n          \"-12.3246\",\n          \"-4.2667\",\n          \"meandiff\"\n        ],\n        \"semantic_type\": \"\",\n        \"description\": \"\"\n      }\n    },\n    {\n      \"column\": 3,\n      \"properties\": {\n        \"dtype\": \"string\",\n        \"num_unique_values\": 4,\n        \"samples\": [\n          \"0.0073\",\n          \"0.7641\",\n          \"p-adj\"\n        ],\n        \"semantic_type\": \"\",\n        \"description\": \"\"\n      }\n    },\n    {\n      \"column\": 4,\n      \"properties\": {\n        \"dtype\": \"string\",\n        \"num_unique_values\": 4,\n        \"samples\": [\n          \"-21.8645\",\n          \"-18.6818\",\n          \"lower\"\n        ],\n        \"semantic_type\": \"\",\n        \"description\": \"\"\n      }\n    },\n    {\n      \"column\": 5,\n      \"properties\": {\n        \"dtype\": \"string\",\n        \"num_unique_values\": 4,\n        \"samples\": [\n          \"-2.7847\",\n          \"10.1484\",\n          \"upper\"\n        ],\n        \"semantic_type\": \"\",\n        \"description\": \"\"\n      }\n    },\n    {\n      \"column\": 6,\n      \"properties\": {\n        \"dtype\": \"string\",\n        \"num_unique_values\": 4,\n        \"samples\": [\n          \"True\",\n          \"False\",\n          \"reject\"\n        ],\n        \"semantic_type\": \"\",\n        \"description\": \"\"\n      }\n    }\n  ]\n}"
            }
          },
          "metadata": {},
          "execution_count": 58
        },
        {
          "output_type": "display_data",
          "data": {
            "text/plain": [
              "<Figure size 1000x600 with 1 Axes>"
            ],
            "image/png": "[encoded data removed]"
          },
          "metadata": {}
        }
      ]
    },
    {
      "cell_type": "code",
      "source": [
        "df[df['Pclass'] == 1]['Age'].mean(),df[df['Pclass'] == 2]['Age'].mean(),df[df['Pclass'] == 3]['Age'].mean()"
      ],
      "metadata": {
        "colab": {
          "base_uri": "https://localhost:8080/"
        },
        "id": "ZsceuHY4arYy",
        "outputId": "a0b12be3-83e2-4ce1-bfc1-65cf54e9a003"
      },
      "execution_count": null,
      "outputs": [
        {
          "output_type": "execute_result",
          "data": {
            "text/plain": [
              "(37.59126582278481, 25.266666666666666, 21.0)"
            ]
          },
          "metadata": {},
          "execution_count": 60
        }
      ]
    },
    {
      "cell_type": "markdown",
      "source": [
        "# IN SUMMARY-\n",
        "\n",
        "One-Sample t-test:\n",
        "✅ Used to compare the sample mean to a known population mean.\n",
        "\n",
        "Two-Independent t-test:\n",
        "✅ Used when you have one categorical variable with two categories and one numerical variable to check for a significant difference in means between the two categories.\n",
        "\n",
        "Two-Dependent t-test (Paired t-test):\n",
        "✅ Used to check before-and-after effects or paired observations to assess if the mean difference is significant.\n",
        "\n",
        "Chi-Square Goodness of Fit Test:\n",
        "✅ Used to determine if the observed data follows a specific distribution.\n",
        "\n",
        "Chi-Square Test for Independence:\n",
        "✅ Used to check if there is a significant association between two categorical variables.\n",
        "\n",
        "One-Way ANOVA:\n",
        "✅ Used when you have one categorical variable with more than two categories and one numerical variable to check for differences in means across the categories."
      ],
      "metadata": {
        "id": "5BLyo_0vJFBr"
      }
    },
    {
      "cell_type": "code",
      "source": [
        "from scipy.stats import norm"
      ],
      "metadata": {
        "id": "XR-y3oLCp5hy"
      },
      "execution_count": null,
      "outputs": []
    },
    {
      "cell_type": "code",
      "source": [
        "x_bar = 37.5\n",
        "s = 3.4\n",
        "n = 20\n",
        "\n",
        "tvalue = t.ppf(0.975, n-1)\n",
        "\n",
        "upper_bound = x_bar + tvalue * s / (n ** 0.5)\n",
        "lower_bound = x_bar - tvalue * s / (n ** 0.5)\n",
        "\n",
        "print('with 95% of CI, the population mean weight is ', round(lower_bound, 2), 'and', round(upper_bound, 2))"
      ],
      "metadata": {
        "colab": {
          "base_uri": "https://localhost:8080/"
        },
        "id": "Gy2ghuH3pyFb",
        "outputId": "c3d6c05b-e0d4-4e99-c788-dc5475865415"
      },
      "execution_count": null,
      "outputs": [
        {
          "output_type": "stream",
          "name": "stdout",
          "text": [
            "with 95% of CI, the population mean weight is  35.91 and 39.09\n"
          ]
        }
      ]
    },
    {
      "cell_type": "code",
      "source": [
        "1-norm.cdf(2)"
      ],
      "metadata": {
        "colab": {
          "base_uri": "https://localhost:8080/"
        },
        "id": "B6f06aGdp4Oz",
        "outputId": "2965c5f3-2d37-400e-dd77-078aff3a669f"
      },
      "execution_count": null,
      "outputs": [
        {
          "output_type": "execute_result",
          "data": {
            "text/plain": [
              "0.02275013194817921"
            ]
          },
          "metadata": {},
          "execution_count": 8
        }
      ]
    },
    {
      "cell_type": "code",
      "source": [],
      "metadata": {
        "id": "rkH8Yztwqxuf"
      },
      "execution_count": null,
      "outputs": []
    }
  ]
}
