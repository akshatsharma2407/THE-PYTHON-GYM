{
  "nbformat": 4,
  "nbformat_minor": 0,
  "metadata": {
    "colab": {
      "provenance": []
    },
    "kernelspec": {
      "name": "python3",
      "display_name": "Python 3"
    },
    "language_info": {
      "name": "python"
    }
  },
  "cells": [
    {
      "cell_type": "markdown",
      "source": [
        "practiced on - https://platform.stratascratch.com/coding?is_freemium=1&difficulties=1&code_type=2"
      ],
      "metadata": {
        "id": "L1oDHC8ZK5uv"
      }
    },
    {
      "cell_type": "markdown",
      "source": [
        "##Salaries Differences `Linkedin`\n",
        "\n",
        "Calculates the difference between the highest salaries in the marketing and engineering departments. Output just the absolute difference in salaries."
      ],
      "metadata": {
        "id": "QjWx2X4tGcKD"
      }
    },
    {
      "cell_type": "code",
      "execution_count": null,
      "metadata": {
        "id": "2z414xu3Fsdy"
      },
      "outputs": [],
      "source": [
        "import pandas as pd\n",
        "\n",
        "# Start writing code\n",
        "df = db_employee.merge(db_dept,left_on='department_id',right_on='id').query('department == \"marketing\" | department == \"engineering\"').groupby('department')['salary'].max()\n",
        "\n",
        "df.max() - df.min()"
      ]
    },
    {
      "cell_type": "markdown",
      "source": [
        "## Finding Updated Records `Microsoft`\n",
        "\n",
        "We have a table with employees and their salaries, however, some of the records are old and contain outdated salary information. Find the current salary of each employee assuming that salaries increase each year. Output their id, first name, last name, department ID, and current salary. Order your list by employee ID in ascending order."
      ],
      "metadata": {
        "id": "SJ77ak28GlrU"
      }
    },
    {
      "cell_type": "code",
      "source": [
        "# Import your libraries\n",
        "import pandas as pd\n",
        "\n",
        "# Start writing code\n",
        "ms_employee_salary.sort_values(by=['first_name','salary'],ascending=[True,False]).drop_duplicates(subset=['first_name','last_name']).sort_values(by='id')[['id','first_name','last_name','department_id','salary']]"
      ],
      "metadata": {
        "id": "D3U_tQgLGrW2"
      },
      "execution_count": null,
      "outputs": []
    },
    {
      "cell_type": "markdown",
      "source": [
        "## Workers With The Highest Salaries `Amazon`\n",
        "\n",
        "Find the job titles of the employees with the highest salary. If multiple employees have the same highest salary, include the job titles for all such employees."
      ],
      "metadata": {
        "id": "SSm7vu0HGzte"
      }
    },
    {
      "cell_type": "code",
      "source": [
        "# Import your libraries\n",
        "import pandas as pd\n",
        "\n",
        "# Start writing code\n",
        "df = worker.merge(title,right_on='worker_ref_id',left_on='worker_id')\n",
        "\n",
        "df[df['salary'] == df['salary'].max()]['worker_title']"
      ],
      "metadata": {
        "id": "wolrAVbBG3My"
      },
      "execution_count": null,
      "outputs": []
    },
    {
      "cell_type": "markdown",
      "source": [
        "## Bikes Last Used `DorrDash`\n",
        "\n",
        "Find the last time each bike was in use. Output both the bike number and the date-timestamp of the bike's last use (i.e., the date-time the bike was returned). Order the results by bikes that were most recently used."
      ],
      "metadata": {
        "id": "yztMyOENG5ga"
      }
    },
    {
      "cell_type": "code",
      "source": [
        "# Import your libraries\n",
        "import pandas as pd\n",
        "\n",
        "# Start writing code\n",
        "dc_bikeshare_q1_2012.groupby('bike_number',as_index=False)['end_time'].max().sort_values(by='end_time',ascending=False)"
      ],
      "metadata": {
        "id": "NQsGbK0yG9rP"
      },
      "execution_count": null,
      "outputs": []
    },
    {
      "cell_type": "markdown",
      "source": [
        "## Average Salaries `Glassdoor`\n",
        "\n",
        "Compare each employee's salary with the average salary of the corresponding department.\n",
        "Output the department, first name, and salary of employees along with the average salary of that department."
      ],
      "metadata": {
        "id": "IF9sbUkfHAPC"
      }
    },
    {
      "cell_type": "code",
      "source": [
        "# Import your libraries\n",
        "import pandas as pd\n",
        "\n",
        "# Start writing code\n",
        "df = employee.groupby('department',as_index=False)['salary'].mean()\n",
        "\n",
        "df.merge(employee,on='department')[['department','first_name','salary_y','salary_x']]"
      ],
      "metadata": {
        "id": "2fO3HCYRHFi4"
      },
      "execution_count": null,
      "outputs": []
    },
    {
      "cell_type": "markdown",
      "source": [
        "## Customer Details `Apple`"
      ],
      "metadata": {
        "id": "Kyr3nqC3HH_j"
      }
    },
    {
      "cell_type": "code",
      "source": [
        "# Import your libraries\n",
        "import pandas as pd\n",
        "\n",
        "# Start writing code\n",
        "customers.merge(orders,left_on='id',right_on='cust_id',how='left')[['first_name','last_name','city','order_details']].sort_values(by=['first_name','order_details'])"
      ],
      "metadata": {
        "id": "8pyMGQ0iHJJL"
      },
      "execution_count": null,
      "outputs": []
    },
    {
      "cell_type": "markdown",
      "source": [
        "## Number Of Bathrooms And Bedrooms `Airbnb`\n",
        "\n",
        "Find the average number of bathrooms and bedrooms for each city’s property types. Output the result along with the city name and the property type."
      ],
      "metadata": {
        "id": "d4Jm-ZZFHNVC"
      }
    },
    {
      "cell_type": "code",
      "source": [
        "# Import your libraries\n",
        "import pandas as pd\n",
        "\n",
        "# Start writing code\n",
        "airbnb_search_details.groupby(['city','property_type'],as_index=False).agg(\n",
        "    {\n",
        "        'bathrooms' : 'mean',\n",
        "        'bedrooms' : 'mean'\n",
        "    })"
      ],
      "metadata": {
        "id": "DATmCpYsHQug"
      },
      "execution_count": 1,
      "outputs": []
    },
    {
      "cell_type": "markdown",
      "source": [
        "## Workers by Department Since April `Amazon`\n",
        "\n",
        "Find the number of workers by department who joined on or after April 1, 2014.\n",
        "\n",
        "\n",
        "Output the department name along with the corresponding number of workers.\n",
        "\n",
        "\n",
        "Sort the results based on the number of workers in descending order."
      ],
      "metadata": {
        "id": "7YDkPuGHHi7E"
      }
    },
    {
      "cell_type": "code",
      "source": [
        "# Import your libraries\n",
        "import pandas as pd\n",
        "\n",
        "# Start writing code\n",
        "worker[worker['joining_date'] >= '2014-04-01']['department'].value_counts().reset_index()"
      ],
      "metadata": {
        "id": "1A_7rQIyHSOH"
      },
      "execution_count": null,
      "outputs": []
    },
    {
      "cell_type": "markdown",
      "source": [
        "## Unique Users Per Client Per Month `Apple`\n",
        "\n",
        "Write a query that returns the number of unique users per client for each month. Assume all events occur within the same year, so only month needs to be be in the output as a number from 1 to 12."
      ],
      "metadata": {
        "id": "DM6kGNrUHqHL"
      }
    },
    {
      "cell_type": "code",
      "source": [
        "# Import your libraries\n",
        "import pandas as pd\n",
        "\n",
        "# Start writing code\n",
        "fact_events['month'] = fact_events['time_id'].dt.month\n",
        "\n",
        "fact_events.groupby(['month','client_id'],as_index=False)['user_id'].nunique()"
      ],
      "metadata": {
        "id": "E5fhAm9xHtp-"
      },
      "execution_count": null,
      "outputs": []
    },
    {
      "cell_type": "markdown",
      "source": [
        "## Top Ranked Songs `Spotify`\n",
        "\n",
        "Find songs that have ranked in the top position. Output the track name and the number of times it ranked at the top. Sort your records by the number of times the song was in the top position in descending order."
      ],
      "metadata": {
        "id": "ev9hFBM_H4_x"
      }
    },
    {
      "cell_type": "code",
      "source": [
        "# Import your libraries\n",
        "import pandas as pd\n",
        "\n",
        "# Start writing code\n",
        "spotify_worldwide_daily_song_ranking.query('position == 1')['trackname'].value_counts().reset_index()"
      ],
      "metadata": {
        "id": "BJlda7w5H7ql"
      },
      "execution_count": null,
      "outputs": []
    },
    {
      "cell_type": "markdown",
      "source": [
        "## Artist Appearance Count `Spotify`\n",
        "\n",
        "Find how many times each artist appeared on the Spotify ranking list.\n",
        "Output the artist name along with the corresponding number of occurrences.\n",
        "Order records by the number of occurrences in descending order."
      ],
      "metadata": {
        "id": "USptaxXuH_Sv"
      }
    },
    {
      "cell_type": "code",
      "source": [
        "# Import your libraries\n",
        "import pandas as pd\n",
        "\n",
        "# Start writing code\n",
        "spotify_worldwide_daily_song_ranking['artist'].value_counts().reset_index()"
      ],
      "metadata": {
        "id": "LietQj-FIBBv"
      },
      "execution_count": null,
      "outputs": []
    },
    {
      "cell_type": "markdown",
      "source": [
        "## Lyft Driver Wages `Lyft`\n",
        "\n",
        "Find all Lyft drivers who earn either equal to or less than 30k USD or equal to or more than 70k USD.\n",
        "Output all details related to retrieved records."
      ],
      "metadata": {
        "id": "ggnSs9EnIGZN"
      }
    },
    {
      "cell_type": "code",
      "source": [
        "# Import your libraries\n",
        "import pandas as pd\n",
        "\n",
        "# Start writing code\n",
        "lyft_drivers[(lyft_drivers['yearly_salary'] <= 30000) | (lyft_drivers['yearly_salary'] >= 70000)]"
      ],
      "metadata": {
        "id": "oJOaRZ4ZIIkw"
      },
      "execution_count": null,
      "outputs": []
    },
    {
      "cell_type": "markdown",
      "source": [
        "## Popularity of Hack `Meta`\n",
        "\n",
        "Meta/Facebook has developed a new programing language called Hack.To measure the popularity of Hack they ran a survey with their employees. The survey included data on previous programing familiarity as well as the number of years of experience, age, gender and most importantly satisfaction with Hack. Due to an error location data was not collected, but your supervisor demands a report showing average popularity of Hack by office location. Luckily the user IDs of employees completing the surveys were stored.\n",
        "Based on the above, find the average popularity of the Hack per office location.\n",
        "Output the location along with the average popularity."
      ],
      "metadata": {
        "id": "cAeANiutILte"
      }
    },
    {
      "cell_type": "code",
      "source": [
        "# Import your libraries\n",
        "import pandas as pd\n",
        "\n",
        "# Start writing code\n",
        "facebook_employees.merge(facebook_hack_survey,left_on='id',right_on='employee_id').groupby('location')['popularity'].mean().sort_values(ascending=False).reset_index()"
      ],
      "metadata": {
        "id": "ij8y5l8KIMoA"
      },
      "execution_count": null,
      "outputs": []
    },
    {
      "cell_type": "markdown",
      "source": [
        "## Order Details `Shopify`\n",
        "\n",
        "Find order details made by Jill and Eva.\n",
        "Consider the Jill and Eva as first names of customers.\n",
        "Output the order date, details and cost along with the first name.\n",
        "Order records based on the customer id in ascending order."
      ],
      "metadata": {
        "id": "IpPzX3oFISby"
      }
    },
    {
      "cell_type": "code",
      "source": [
        "# Import your libraries\n",
        "import pandas as pd\n",
        "\n",
        "# Start writing code\n",
        "customers[customers['first_name'].isin(['Jill','Eva'])].merge(orders,left_on='id',right_on='cust_id')[['first_name','order_date','order_details','total_order_cost']]"
      ],
      "metadata": {
        "id": "ZjjmaVakIVZZ"
      },
      "execution_count": null,
      "outputs": []
    },
    {
      "cell_type": "markdown",
      "source": [
        "## Number of Shipments Per Month `Amazon`\n",
        "\n",
        "Write a query that will calculate the number of shipments per month. The unique key for one shipment is a combination of shipment_id and sub_id. Output the year_month in format YYYY-MM and the number of shipments in that month."
      ],
      "metadata": {
        "id": "h28t1vfhIYOY"
      }
    },
    {
      "cell_type": "code",
      "source": [
        "# Import your libraries\n",
        "import pandas as pd\n",
        "\n",
        "# Start writing code\n",
        "amazon_shipment['month'] = amazon_shipment['shipment_date'].dt.to_period('M')\n",
        "\n",
        "amazon_shipment['uni_id'] = amazon_shipment['shipment_id'].astype(str) + ' '+ amazon_shipment['sub_id'].astype(str)\n",
        "\n",
        "amazon_shipment.groupby('month',as_index=False)['uni_id'].nunique()"
      ],
      "metadata": {
        "id": "jrPduXTaIa1k"
      },
      "execution_count": null,
      "outputs": []
    },
    {
      "cell_type": "markdown",
      "source": [
        "## MacBookPro User Event Count `Apple`\n",
        "\n",
        "Count the number of user events performed by MacBookPro users.\n",
        "Output the result along with the event name.\n",
        "Sort the result based on the event count in the descending order."
      ],
      "metadata": {
        "id": "DtxkgoEGIjDr"
      }
    },
    {
      "cell_type": "code",
      "source": [
        "# Import your libraries\n",
        "import pandas as pd\n",
        "\n",
        "# Start writing code\n",
        "playbook_events.query('device == \"macbook pro\"')['event_name'].value_counts().reset_index()"
      ],
      "metadata": {
        "id": "2BsA3-umIlgi"
      },
      "execution_count": null,
      "outputs": []
    },
    {
      "cell_type": "markdown",
      "source": [
        "## Most Profitable Financial Company `Forbes`\n",
        "\n",
        "Find the most profitable company from the financial sector. Output the result along with the continent."
      ],
      "metadata": {
        "id": "cg8nfFcEIono"
      }
    },
    {
      "cell_type": "code",
      "source": [
        "# Import your libraries\n",
        "import pandas as pd\n",
        "\n",
        "# Start writing code\n",
        "company = forbes_global_2010_2014.query('sector == \"Financials\"').groupby(['company'],as_index=False)['profits'].sum().sort_values(by='profits',ascending=False).head(1)['company'].values[0]\n",
        "\n",
        "forbes_global_2010_2014[forbes_global_2010_2014['company'] == company][['company','continent']]"
      ],
      "metadata": {
        "id": "UksDHCnPIsLI"
      },
      "execution_count": null,
      "outputs": []
    },
    {
      "cell_type": "markdown",
      "source": [
        "## Churro Activity Date `City of Los Angeles`\n",
        "\n",
        "Find the inspection date and risk category (pe_description) of facilities named 'STREET CHURROS' that received a score below 95."
      ],
      "metadata": {
        "id": "T1tyiydsIvAh"
      }
    },
    {
      "cell_type": "code",
      "source": [
        "# Import your libraries\n",
        "import pandas as pd\n",
        "\n",
        "# Start writing code\n",
        "los_angeles_restaurant_health_inspections.query('facility_name == \"STREET CHURROS\" & score < 95')[['activity_date','pe_description']]"
      ],
      "metadata": {
        "id": "OdbOjjcDIzGV"
      },
      "execution_count": null,
      "outputs": []
    },
    {
      "cell_type": "markdown",
      "source": [
        "## Number of violations `City of San Franciso`\n",
        "\n",
        "You are given a dataset of health inspections that includes details about violations. Each row represents an inspection, and if an inspection resulted in a violation, the violation_id column will contain a value.\n",
        "\n",
        "\n",
        "Count the total number of violations that occurred at 'Roxanne Cafe' for each year, based on the inspection date. Output the year and the corresponding number of violations in ascending order of the year."
      ],
      "metadata": {
        "id": "JWGfx5AEI1rl"
      }
    },
    {
      "cell_type": "code",
      "source": [
        "# Import your libraries\n",
        "import pandas as pd\n",
        "\n",
        "# Start writing code\n",
        "df = sf_restaurant_health_violations.query('business_name == \"Roxanne Cafe\"')\n",
        "\n",
        "df['year'] = df['inspection_date'].dt.year\n",
        "\n",
        "df['year'].value_counts().reset_index()"
      ],
      "metadata": {
        "id": "XvY8MSX_I4UF"
      },
      "execution_count": null,
      "outputs": []
    },
    {
      "cell_type": "markdown",
      "source": [
        "## April Admin Employees `Microsoft`\n",
        "\n",
        "Find the number of employees working in the Admin department that joined in April or later, in any year.  "
      ],
      "metadata": {
        "id": "YEbWfL3BI56p"
      }
    },
    {
      "cell_type": "code",
      "source": [
        "# Import your libraries\n",
        "import pandas as pd\n",
        "\n",
        "# Start writing code\n",
        "worker[worker['joining_date'].dt.month > 3].query('department == \"Admin\"').shape[0]"
      ],
      "metadata": {
        "id": "ZFt_iV4uI_n3"
      },
      "execution_count": 2,
      "outputs": []
    }
  ]
}