{
  "nbformat": 4,
  "nbformat_minor": 0,
  "metadata": {
    "colab": {
      "provenance": []
    },
    "kernelspec": {
      "name": "python3",
      "display_name": "Python 3"
    },
    "language_info": {
      "name": "python"
    }
  },
  "cells": [
    {
      "cell_type": "markdown",
      "source": [
        "# PROBLEM - 1"
      ],
      "metadata": {
        "id": "FjPOaD4AAEw4"
      }
    },
    {
      "cell_type": "markdown",
      "source": [
        "# 📊 Breaking the Records\n",
        "\n",
        "Maria plays college basketball and wants to go pro. Each season, she keeps track of her performance. She wants to know how many times she **breaks her records** for:\n",
        "\n",
        "- **Most points** scored in a game\n",
        "- **Least points** scored in a game\n",
        "\n",
        "The points scored in the **first game** set her initial records. She starts counting from there.\n",
        "\n",
        "---\n",
        "\n",
        "## 📌 Example\n",
        "\n",
        "`scores = [12, 24, 10, 24]`\n",
        "\n",
        "Scores are in the same order as the games played. She tracks her records as follows:\n",
        "\n",
        "| Game | Score | Minimum | Maximum | Count Min | Count Max |\n",
        "|------|-------|---------|---------|-----------|-----------|\n",
        "| 0 | 12 | 12 | 12 | 0 | 0 |\n",
        "| 1 | 24 | 12 | 24 | 0 | 1 |\n",
        "| 2 | 10 | 10 | 24 | 1 | 1 |\n",
        "| 3 | 24 | 10 | 24 | 1 | 1 |\n",
        "\n",
        "---\n",
        "\n",
        "## ✅ Problem\n",
        "\n",
        "Given the scores for a season, determine the number of times Maria breaks her records for **most** and **least** points scored during the season.\n",
        "\n",
        "---\n",
        "\n",
        "## 📌 Function Description\n",
        "\n",
        "Complete the `breakingRecords` function.\n",
        "\n",
        "**breakingRecords** has the following parameter(s):\n",
        "\n",
        "- `n`: number of games\n",
        "- `int scores[n]`: points scored per game\n",
        "\n",
        "**Returns**\n",
        "\n",
        "- `int[2]`: An array with the numbers of times she broke her records.  \n",
        "  - Index 0 → breaking **most points** records  \n",
        "  - Index 1 → breaking **least points** records\n",
        "\n",
        "---\n",
        "\n",
        "## 📌 Input Format\n",
        "\n",
        "- `n`: the number of games  \n",
        "- `scores`: integers describing the scores `score0, score1, ..., scoren−1`\n",
        "\n",
        "---\n",
        "\n",
        "## 📌 Constraints\n",
        "\n",
        "- `1 <= n <= 1000`  \n",
        "- `0 <= scores[i] <= 10^8`\n",
        "\n",
        "---\n",
        "\n",
        "## 📌 Sample Input 0\n",
        "\n",
        "10 5 20 20 4 5 2 25 1\n",
        "\n",
        "---\n",
        "\n",
        "## 📌 Sample Output 0\n",
        "\n",
        "2 4\n",
        "\n",
        "---\n",
        "\n",
        "## 📌 Explanation\n",
        "\n",
        "The diagram below shows how many times Maria broke her best and worst records: (OUTPUT THIS TABLE TOO)\n",
        "\n",
        "| Games | 0 | 1 | 2 | 3 | 4 | 5 | 6 | 7 | 8 |\n",
        "|-------|----|----|----|----|----|----|----|----|----|\n",
        "| Score | 10 | 5 | 20 | 20 | 4 | 5 | 2 | 25 | 1 |\n",
        "| Highest Score | 10 | 10 | 20 | 20 | 20 | 20 | 20 | 25 | 25 |\n",
        "| Lowest Score | 10 | 5 | 5 | 5 | 4 | 4 | 2 | 2 | 1 |\n",
        "\n",
        "She broke her best record twice (after games 2 and 7) and her worst record four times (after games 1, 4, 6, and 8), so we print 2 4 as our answer. Note that she did not break her record for best score during game 3, as her score during that game was not strictly greater than her best record at the time."
      ],
      "metadata": {
        "id": "EbhKnbjdANDO"
      }
    },
    {
      "cell_type": "code",
      "source": [
        "import random\n",
        "l = [9, 10, 5, 20, 20, 4, 5, 2, 25, 1]\n",
        "\n",
        "min_record = [l[0]]\n",
        "max_record = [l[0]]\n",
        "\n",
        "min_counter = 0\n",
        "max_counter = 0\n",
        "\n",
        "for i in l[1:]:\n",
        "  if i > max_record[-1]:\n",
        "    max_counter += 1\n",
        "    max_record.append(i)\n",
        "  else:\n",
        "    max_record.append(max_record[-1])\n",
        "\n",
        "  if i < min_record[-1]:\n",
        "    min_counter += 1\n",
        "    min_record.append(i)\n",
        "  else:\n",
        "    min_record.append(min_record[-1])\n",
        "\n",
        "print('max counter - ',max_counter,'\\nmin counter - ',min_counter)\n",
        "\n",
        "ans = {'games':[i for i in range(len(l))],'score':l,'min__':min_record,'max__':max_record}\n",
        "\n",
        "for i,j in ans.items():\n",
        "  print('-'*70)\n",
        "  print(i,end='  |')\n",
        "  print(''.join([str(k)+'  |' if len(str(k)) == 1 else str(k)+' |' for k in j]))\n",
        "print('-'*70)"
      ],
      "metadata": {
        "id": "sTWIe8C19TOz",
        "colab": {
          "base_uri": "https://localhost:8080/"
        },
        "outputId": "cde651ce-d96b-4053-8149-7cc966a4367c"
      },
      "execution_count": 115,
      "outputs": [
        {
          "output_type": "stream",
          "name": "stdout",
          "text": [
            "max counter -  3 \n",
            "min counter -  4\n",
            "----------------------------------------------------------------------\n",
            "games  |0  |1  |2  |3  |4  |5  |6  |7  |8  |9  |\n",
            "----------------------------------------------------------------------\n",
            "score  |9  |10 |5  |20 |20 |4  |5  |2  |25 |1  |\n",
            "----------------------------------------------------------------------\n",
            "min__  |9  |9  |5  |5  |5  |4  |4  |2  |2  |1  |\n",
            "----------------------------------------------------------------------\n",
            "max__  |9  |10 |10 |20 |20 |20 |20 |20 |25 |25 |\n",
            "----------------------------------------------------------------------\n"
          ]
        }
      ]
    },
    {
      "cell_type": "markdown",
      "source": [
        "# PROBLEM-2"
      ],
      "metadata": {
        "id": "HHnJqkvp9Tmb"
      }
    },
    {
      "cell_type": "markdown",
      "source": [
        "Student management system in Python\n",
        "Write a program to build a simple Student Management System using Python which can perform the following operations:\n",
        "1. Accept - This method takes details from the user like name, roll number, and marks for two different subjects.\n",
        "2. Display - This method displays the details of every student.\n",
        "3. Search - This method searches for a particular student from the list of students. This method will ask the user for roll number and then search according to the roll number\n",
        "4. Delete - This method deletes the record of a particular student with a matching roll number.\n",
        "5. Update - This method updates the roll number of the student. This method will ask for the old roll number and new roll number. It will replace the old roll number with a new roll number.\n",
        "\n",
        "\n",
        "Operations used,\n",
        "\n",
        "1.Accept Student details\n",
        "2.Display Student Details\n",
        "3.Search Details of a Student\n",
        "4.Delete Details of Student\n",
        "5.Update Student Details\n",
        "6.Exit\n",
        "\n",
        "\n",
        "\n",
        "List of Students\n",
        "\n",
        "- Name :  A\n",
        "- RollNo :  1\n",
        "- Marks1 :  100\n",
        "- Marks2 :  100\n",
        "\n",
        "\n",
        "- Name :  B\n",
        "- RollNo :  2\n",
        "- Marks1 :  90\n",
        "- Marks2 :  90\n",
        "\n",
        "\n",
        "- Name :  C\n",
        "- RollNo :  3\n",
        "- Marks1 :  80\n",
        "- Marks2 :  80\n",
        "\n",
        "\n",
        "Search method output:\n",
        "\n",
        "- Student Found,\n",
        "- Name :  B\n",
        "- RollNo :  2\n",
        "- Marks1 :  90\n",
        "- Marks2 :  90\n"
      ],
      "metadata": {
        "id": "9oA6rb9D4cGm"
      }
    },
    {
      "cell_type": "code",
      "execution_count": null,
      "metadata": {
        "colab": {
          "base_uri": "https://localhost:8080/"
        },
        "id": "vel1geMR4Uig",
        "outputId": "874b1e8d-af84-4e17-f2a9-3a19e262a269"
      },
      "outputs": [
        {
          "output_type": "stream",
          "name": "stdout",
          "text": [
            "Accepted !!\n",
            "Accepted !!\n",
            "Student Roll Number 22332229\n",
            "Student Name Akshat\n",
            "Student Mark1 90\n",
            "Student Mark2 95\n"
          ]
        }
      ],
      "source": [
        "class Students:\n",
        "\n",
        "  def __init__(self):\n",
        "    self.stu_dict = {}\n",
        "\n",
        "  def Accept(self,name,roll_number,mark1,mark2):\n",
        "    self.stu_dict[roll_number] = {'name' : name,'mark1' : mark1,'mark2' : mark2}\n",
        "    print('Accepted !!')\n",
        "\n",
        "  def Display(self):\n",
        "    for i,j in self.stu_dict.items():\n",
        "      print('Student Roll Number',i)\n",
        "      print('Student Name',j['name'])\n",
        "      print('Student Mark1',j['mark1'])\n",
        "      print('Student Mark2',j['mark2'])\n",
        "      print('='*100)\n",
        "\n",
        "  def Search(self,roll_number):\n",
        "    try:\n",
        "      val = self.stu_dict[roll_number]\n",
        "    except:\n",
        "      print('Invalid Roll Number')\n",
        "    else:\n",
        "      print('Student Roll Number',roll_number)\n",
        "      print('Student Name',val['name'])\n",
        "      print('Student Mark1',val['mark1'])\n",
        "      print('Student Mark2',val['mark2'])\n",
        "\n",
        "  def Delete(self,roll_number):\n",
        "    del self.stu_dict[roll_number]\n",
        "\n",
        "  def Update(self,old_roll_number,new_roll_number):\n",
        "    self.stu_dict[new_roll_number] = self.stu_dict[old_roll_number]\n",
        "    self.Delete(old_roll_number)\n",
        "\n",
        "\n",
        "stu = Students()\n",
        "\n",
        "stu.Accept('Akshat',22332229,90,95)\n",
        "stu.Accept('wasim',22332230,50,55)\n",
        "stu.Search(22332229)\n",
        "stu.Update(22332229,39)\n",
        "stu.Display()"
      ]
    },
    {
      "cell_type": "markdown",
      "source": [
        "# Problem-3"
      ],
      "metadata": {
        "id": "KSEYXtut9eva"
      }
    },
    {
      "cell_type": "markdown",
      "source": [
        "Get current times of different time zones in Python."
      ],
      "metadata": {
        "id": "ijBiL05w9DBd"
      }
    },
    {
      "cell_type": "code",
      "source": [
        "import datetime as dt\n",
        "import pytz\n",
        "\n",
        "for i in pytz.all_timezones:\n",
        "  print(i,' ',dt.datetime.now(pytz.timezone(i)))"
      ],
      "metadata": {
        "id": "m9wQHp11-dIq",
        "colab": {
          "base_uri": "https://localhost:8080/"
        },
        "outputId": "22132256-f620-4fd3-a73c-207eda79b705"
      },
      "execution_count": 74,
      "outputs": [
        {
          "output_type": "stream",
          "name": "stdout",
          "text": [
            "Africa/Abidjan   2025-07-14 07:25:35.378056+00:00\n",
            "Africa/Accra   2025-07-14 07:25:35.379242+00:00\n",
            "Africa/Addis_Ababa   2025-07-14 10:25:35.379287+03:00\n",
            "Africa/Algiers   2025-07-14 08:25:35.379327+01:00\n",
            "Africa/Asmara   2025-07-14 10:25:35.379360+03:00\n",
            "Africa/Asmera   2025-07-14 10:25:35.379389+03:00\n",
            "Africa/Bamako   2025-07-14 07:25:35.379415+00:00\n",
            "Africa/Bangui   2025-07-14 08:25:35.380702+01:00\n",
            "Africa/Banjul   2025-07-14 07:25:35.381595+00:00\n",
            "Africa/Bissau   2025-07-14 07:25:35.381662+00:00\n",
            "Africa/Blantyre   2025-07-14 09:25:35.381835+02:00\n",
            "Africa/Brazzaville   2025-07-14 08:25:35.381871+01:00\n",
            "Africa/Bujumbura   2025-07-14 09:25:35.381902+02:00\n",
            "Africa/Cairo   2025-07-14 10:25:35.381979+03:00\n",
            "Africa/Casablanca   2025-07-14 08:25:35.382015+01:00\n",
            "Africa/Ceuta   2025-07-14 09:25:35.382049+02:00\n",
            "Africa/Conakry   2025-07-14 07:25:35.382085+00:00\n",
            "Africa/Dakar   2025-07-14 07:25:35.382115+00:00\n",
            "Africa/Dar_es_Salaam   2025-07-14 10:25:35.382153+03:00\n",
            "Africa/Djibouti   2025-07-14 10:25:35.382207+03:00\n",
            "Africa/Douala   2025-07-14 08:25:35.382244+01:00\n",
            "Africa/El_Aaiun   2025-07-14 08:25:35.382275+01:00\n",
            "Africa/Freetown   2025-07-14 07:25:35.382306+00:00\n",
            "Africa/Gaborone   2025-07-14 09:25:35.382335+02:00\n",
            "Africa/Harare   2025-07-14 09:25:35.382362+02:00\n",
            "Africa/Johannesburg   2025-07-14 09:25:35.382392+02:00\n",
            "Africa/Juba   2025-07-14 09:25:35.382419+02:00\n",
            "Africa/Kampala   2025-07-14 10:25:35.382448+03:00\n",
            "Africa/Khartoum   2025-07-14 09:25:35.382476+02:00\n",
            "Africa/Kigali   2025-07-14 09:25:35.382503+02:00\n",
            "Africa/Kinshasa   2025-07-14 08:25:35.382530+01:00\n",
            "Africa/Lagos   2025-07-14 08:25:35.382559+01:00\n",
            "Africa/Libreville   2025-07-14 08:25:35.382585+01:00\n",
            "Africa/Lome   2025-07-14 07:25:35.382612+00:00\n",
            "Africa/Luanda   2025-07-14 08:25:35.382641+01:00\n",
            "Africa/Lubumbashi   2025-07-14 09:25:35.382671+02:00\n",
            "Africa/Lusaka   2025-07-14 09:25:35.382701+02:00\n",
            "Africa/Malabo   2025-07-14 08:25:35.382728+01:00\n",
            "Africa/Maputo   2025-07-14 09:25:35.382756+02:00\n",
            "Africa/Maseru   2025-07-14 09:25:35.382784+02:00\n",
            "Africa/Mbabane   2025-07-14 09:25:35.382812+02:00\n",
            "Africa/Mogadishu   2025-07-14 10:25:35.382841+03:00\n",
            "Africa/Monrovia   2025-07-14 07:25:35.382870+00:00\n",
            "Africa/Nairobi   2025-07-14 10:25:35.382899+03:00\n",
            "Africa/Ndjamena   2025-07-14 08:25:35.382945+01:00\n",
            "Africa/Niamey   2025-07-14 08:25:35.382977+01:00\n",
            "Africa/Nouakchott   2025-07-14 07:25:35.383007+00:00\n",
            "Africa/Ouagadougou   2025-07-14 07:25:35.383036+00:00\n",
            "Africa/Porto-Novo   2025-07-14 08:25:35.383066+01:00\n",
            "Africa/Sao_Tome   2025-07-14 07:25:35.383097+00:00\n",
            "Africa/Timbuktu   2025-07-14 07:25:35.383126+00:00\n",
            "Africa/Tripoli   2025-07-14 09:25:35.383155+02:00\n",
            "Africa/Tunis   2025-07-14 08:25:35.383226+01:00\n",
            "Africa/Windhoek   2025-07-14 09:25:35.383258+02:00\n",
            "America/Adak   2025-07-13 22:25:35.383289-09:00\n",
            "America/Anchorage   2025-07-13 23:25:35.383327-08:00\n",
            "America/Anguilla   2025-07-14 03:25:35.383357-04:00\n",
            "America/Antigua   2025-07-14 03:25:35.383385-04:00\n",
            "America/Araguaina   2025-07-14 04:25:35.383414-03:00\n",
            "America/Argentina/Buenos_Aires   2025-07-14 04:25:35.383446-03:00\n",
            "America/Argentina/Catamarca   2025-07-14 04:25:35.383478-03:00\n",
            "America/Argentina/ComodRivadavia   2025-07-14 04:25:35.383509-03:00\n",
            "America/Argentina/Cordoba   2025-07-14 04:25:35.383539-03:00\n",
            "America/Argentina/Jujuy   2025-07-14 04:25:35.383570-03:00\n",
            "America/Argentina/La_Rioja   2025-07-14 04:25:35.383599-03:00\n",
            "America/Argentina/Mendoza   2025-07-14 04:25:35.383627-03:00\n",
            "America/Argentina/Rio_Gallegos   2025-07-14 04:25:35.383654-03:00\n",
            "America/Argentina/Salta   2025-07-14 04:25:35.383691-03:00\n",
            "America/Argentina/San_Juan   2025-07-14 04:25:35.383719-03:00\n",
            "America/Argentina/San_Luis   2025-07-14 04:25:35.383747-03:00\n",
            "America/Argentina/Tucuman   2025-07-14 04:25:35.383776-03:00\n",
            "America/Argentina/Ushuaia   2025-07-14 04:25:35.383805-03:00\n",
            "America/Aruba   2025-07-14 03:25:35.383832-04:00\n",
            "America/Asuncion   2025-07-14 04:25:35.383860-03:00\n",
            "America/Atikokan   2025-07-14 02:25:35.383888-05:00\n",
            "America/Atka   2025-07-13 22:25:35.383917-09:00\n",
            "America/Bahia   2025-07-14 04:25:35.383962-03:00\n",
            "America/Bahia_Banderas   2025-07-14 01:25:35.383993-06:00\n",
            "America/Barbados   2025-07-14 03:25:35.384022-04:00\n",
            "America/Belem   2025-07-14 04:25:35.384058-03:00\n",
            "America/Belize   2025-07-14 01:25:35.384088-06:00\n",
            "America/Blanc-Sablon   2025-07-14 03:25:35.384121-04:00\n",
            "America/Boa_Vista   2025-07-14 03:25:35.384150-04:00\n",
            "America/Bogota   2025-07-14 02:25:35.384210-05:00\n",
            "America/Boise   2025-07-14 01:25:35.384243-06:00\n",
            "America/Buenos_Aires   2025-07-14 04:25:35.384274-03:00\n",
            "America/Cambridge_Bay   2025-07-14 01:25:35.384307-06:00\n",
            "America/Campo_Grande   2025-07-14 03:25:35.384340-04:00\n",
            "America/Cancun   2025-07-14 02:25:35.384371-05:00\n",
            "America/Caracas   2025-07-14 03:25:35.384402-04:00\n",
            "America/Catamarca   2025-07-14 04:25:35.384432-03:00\n",
            "America/Cayenne   2025-07-14 04:25:35.384471-03:00\n",
            "America/Cayman   2025-07-14 02:25:35.384501-05:00\n",
            "America/Chicago   2025-07-14 02:25:35.384529-05:00\n",
            "America/Chihuahua   2025-07-14 01:25:35.384562-06:00\n",
            "America/Ciudad_Juarez   2025-07-14 01:25:35.384595-06:00\n",
            "America/Coral_Harbour   2025-07-14 02:25:35.384627-05:00\n",
            "America/Cordoba   2025-07-14 04:25:35.384658-03:00\n",
            "America/Costa_Rica   2025-07-14 01:25:35.384689-06:00\n",
            "America/Coyhaique   2025-07-14 04:25:35.384721-03:00\n",
            "America/Creston   2025-07-14 00:25:35.384753-07:00\n",
            "America/Cuiaba   2025-07-14 03:25:35.384783-04:00\n",
            "America/Curacao   2025-07-14 03:25:35.384814-04:00\n",
            "America/Danmarkshavn   2025-07-14 07:25:35.384844+00:00\n",
            "America/Dawson   2025-07-14 00:25:35.384874-07:00\n",
            "America/Dawson_Creek   2025-07-14 00:25:35.384903-07:00\n",
            "America/Denver   2025-07-14 01:25:35.384946-06:00\n",
            "America/Detroit   2025-07-14 03:25:35.384976-04:00\n",
            "America/Dominica   2025-07-14 03:25:35.385007-04:00\n",
            "America/Edmonton   2025-07-14 01:25:35.385035-06:00\n",
            "America/Eirunepe   2025-07-14 02:25:35.385063-05:00\n",
            "America/El_Salvador   2025-07-14 01:25:35.385091-06:00\n",
            "America/Ensenada   2025-07-14 00:25:35.385118-07:00\n",
            "America/Fort_Nelson   2025-07-14 00:25:35.385145-07:00\n",
            "America/Fort_Wayne   2025-07-14 03:25:35.385170-04:00\n",
            "America/Fortaleza   2025-07-14 04:25:35.385219-03:00\n",
            "America/Glace_Bay   2025-07-14 04:25:35.385246-03:00\n",
            "America/Godthab   2025-07-14 06:25:35.385281-01:00\n",
            "America/Goose_Bay   2025-07-14 04:25:35.385310-03:00\n",
            "America/Grand_Turk   2025-07-14 03:25:35.385338-04:00\n",
            "America/Grenada   2025-07-14 03:25:35.385368-04:00\n",
            "America/Guadeloupe   2025-07-14 03:25:35.385396-04:00\n",
            "America/Guatemala   2025-07-14 01:25:35.385423-06:00\n",
            "America/Guayaquil   2025-07-14 02:25:35.385451-05:00\n",
            "America/Guyana   2025-07-14 03:25:35.385479-04:00\n",
            "America/Halifax   2025-07-14 04:25:35.385508-03:00\n",
            "America/Havana   2025-07-14 03:25:35.385537-04:00\n",
            "America/Hermosillo   2025-07-14 00:25:35.385569-07:00\n",
            "America/Indiana/Indianapolis   2025-07-14 03:25:35.404298-04:00\n",
            "America/Indiana/Knox   2025-07-14 02:25:35.404388-05:00\n",
            "America/Indiana/Marengo   2025-07-14 03:25:35.404429-04:00\n",
            "America/Indiana/Petersburg   2025-07-14 03:25:35.404465-04:00\n",
            "America/Indiana/Tell_City   2025-07-14 02:25:35.404499-05:00\n",
            "America/Indiana/Vevay   2025-07-14 03:25:35.404530-04:00\n",
            "America/Indiana/Vincennes   2025-07-14 03:25:35.404562-04:00\n",
            "America/Indiana/Winamac   2025-07-14 03:25:35.404593-04:00\n",
            "America/Indianapolis   2025-07-14 03:25:35.404632-04:00\n",
            "America/Inuvik   2025-07-14 01:25:35.404666-06:00\n",
            "America/Iqaluit   2025-07-14 03:25:35.404706-04:00\n",
            "America/Jamaica   2025-07-14 02:25:35.404737-05:00\n",
            "America/Jujuy   2025-07-14 04:25:35.404769-03:00\n",
            "America/Juneau   2025-07-13 23:25:35.404800-08:00\n",
            "America/Kentucky/Louisville   2025-07-14 03:25:35.404833-04:00\n",
            "America/Kentucky/Monticello   2025-07-14 03:25:35.404870-04:00\n",
            "America/Knox_IN   2025-07-14 02:25:35.404904-05:00\n",
            "America/Kralendijk   2025-07-14 03:25:35.404945-04:00\n",
            "America/La_Paz   2025-07-14 03:25:35.404976-04:00\n",
            "America/Lima   2025-07-14 02:25:35.405006-05:00\n",
            "America/Los_Angeles   2025-07-14 00:25:35.405036-07:00\n",
            "America/Louisville   2025-07-14 03:25:35.405067-04:00\n",
            "America/Lower_Princes   2025-07-14 03:25:35.405098-04:00\n",
            "America/Maceio   2025-07-14 04:25:35.405127-03:00\n",
            "America/Managua   2025-07-14 01:25:35.405156-06:00\n",
            "America/Manaus   2025-07-14 03:25:35.405222-04:00\n",
            "America/Marigot   2025-07-14 03:25:35.405263-04:00\n",
            "America/Martinique   2025-07-14 03:25:35.405292-04:00\n",
            "America/Matamoros   2025-07-14 02:25:35.405320-05:00\n",
            "America/Mazatlan   2025-07-14 00:25:35.405349-07:00\n",
            "America/Mendoza   2025-07-14 04:25:35.405380-03:00\n",
            "America/Menominee   2025-07-14 02:25:35.405412-05:00\n",
            "America/Merida   2025-07-14 01:25:35.405443-06:00\n",
            "America/Metlakatla   2025-07-13 23:25:35.405473-08:00\n",
            "America/Mexico_City   2025-07-14 01:25:35.405504-06:00\n",
            "America/Miquelon   2025-07-14 05:25:35.405534-02:00\n",
            "America/Moncton   2025-07-14 04:25:35.405565-03:00\n",
            "America/Monterrey   2025-07-14 01:25:35.405595-06:00\n",
            "America/Montevideo   2025-07-14 04:25:35.405632-03:00\n",
            "America/Montreal   2025-07-14 03:25:35.405664-04:00\n",
            "America/Montserrat   2025-07-14 03:25:35.405695-04:00\n",
            "America/Nassau   2025-07-14 03:25:35.405726-04:00\n",
            "America/New_York   2025-07-14 03:25:35.405756-04:00\n",
            "America/Nipigon   2025-07-14 03:25:35.405785-04:00\n",
            "America/Nome   2025-07-13 23:25:35.405816-08:00\n",
            "America/Noronha   2025-07-14 05:25:35.405847-02:00\n",
            "America/North_Dakota/Beulah   2025-07-14 02:25:35.405879-05:00\n",
            "America/North_Dakota/Center   2025-07-14 02:25:35.405910-05:00\n",
            "America/North_Dakota/New_Salem   2025-07-14 02:25:35.405953-05:00\n",
            "America/Nuuk   2025-07-14 06:25:35.405988-01:00\n",
            "America/Ojinaga   2025-07-14 02:25:35.406019-05:00\n",
            "America/Panama   2025-07-14 02:25:35.406048-05:00\n",
            "America/Pangnirtung   2025-07-14 03:25:35.406078-04:00\n",
            "America/Paramaribo   2025-07-14 04:25:35.406108-03:00\n",
            "America/Phoenix   2025-07-14 00:25:35.406138-07:00\n",
            "America/Port-au-Prince   2025-07-14 03:25:35.406168-04:00\n",
            "America/Port_of_Spain   2025-07-14 03:25:35.406219-04:00\n",
            "America/Porto_Acre   2025-07-14 02:25:35.406248-05:00\n",
            "America/Porto_Velho   2025-07-14 03:25:35.406280-04:00\n",
            "America/Puerto_Rico   2025-07-14 03:25:35.406310-04:00\n",
            "America/Punta_Arenas   2025-07-14 04:25:35.406340-03:00\n",
            "America/Rainy_River   2025-07-14 02:25:35.406371-05:00\n",
            "America/Rankin_Inlet   2025-07-14 02:25:35.406409-05:00\n",
            "America/Recife   2025-07-14 04:25:35.406440-03:00\n",
            "America/Regina   2025-07-14 01:25:35.406471-06:00\n",
            "America/Resolute   2025-07-14 02:25:35.406502-05:00\n",
            "America/Rio_Branco   2025-07-14 02:25:35.406532-05:00\n",
            "America/Rosario   2025-07-14 04:25:35.406563-03:00\n",
            "America/Santa_Isabel   2025-07-14 00:25:35.406592-07:00\n",
            "America/Santarem   2025-07-14 04:25:35.406621-03:00\n",
            "America/Santiago   2025-07-14 03:25:35.406650-04:00\n",
            "America/Santo_Domingo   2025-07-14 03:25:35.406681-04:00\n",
            "America/Sao_Paulo   2025-07-14 04:25:35.406711-03:00\n",
            "America/Scoresbysund   2025-07-14 06:25:35.406742-01:00\n",
            "America/Shiprock   2025-07-14 01:25:35.406773-06:00\n",
            "America/Sitka   2025-07-13 23:25:35.406805-08:00\n",
            "America/St_Barthelemy   2025-07-14 03:25:35.406834-04:00\n",
            "America/St_Johns   2025-07-14 04:55:35.406862-02:30\n",
            "America/St_Kitts   2025-07-14 03:25:35.406894-04:00\n",
            "America/St_Lucia   2025-07-14 03:25:35.406937-04:00\n",
            "America/St_Thomas   2025-07-14 03:25:35.406967-04:00\n",
            "America/St_Vincent   2025-07-14 03:25:35.406997-04:00\n",
            "America/Swift_Current   2025-07-14 01:25:35.407026-06:00\n",
            "America/Tegucigalpa   2025-07-14 01:25:35.407056-06:00\n",
            "America/Thule   2025-07-14 04:25:35.407084-03:00\n",
            "America/Thunder_Bay   2025-07-14 03:25:35.407109-04:00\n",
            "America/Tijuana   2025-07-14 00:25:35.407135-07:00\n",
            "America/Toronto   2025-07-14 03:25:35.407161-04:00\n",
            "America/Tortola   2025-07-14 03:25:35.407206-04:00\n",
            "America/Vancouver   2025-07-14 00:25:35.407232-07:00\n",
            "America/Virgin   2025-07-14 03:25:35.407260-04:00\n",
            "America/Whitehorse   2025-07-14 00:25:35.407288-07:00\n",
            "America/Winnipeg   2025-07-14 02:25:35.407317-05:00\n",
            "America/Yakutat   2025-07-13 23:25:35.407353-08:00\n",
            "America/Yellowknife   2025-07-14 01:25:35.407384-06:00\n",
            "Antarctica/Casey   2025-07-14 15:25:35.407414+08:00\n",
            "Antarctica/Davis   2025-07-14 14:25:35.407442+07:00\n",
            "Antarctica/DumontDUrville   2025-07-14 17:25:35.407472+10:00\n",
            "Antarctica/Macquarie   2025-07-14 17:25:35.407500+10:00\n",
            "Antarctica/Mawson   2025-07-14 12:25:35.407529+05:00\n",
            "Antarctica/McMurdo   2025-07-14 19:25:35.407558+12:00\n",
            "Antarctica/Palmer   2025-07-14 04:25:35.407588-03:00\n",
            "Antarctica/Rothera   2025-07-14 04:25:35.407617-03:00\n",
            "Antarctica/South_Pole   2025-07-14 19:25:35.407642+12:00\n",
            "Antarctica/Syowa   2025-07-14 10:25:35.407669+03:00\n",
            "Antarctica/Troll   2025-07-14 09:25:35.407698+02:00\n",
            "Antarctica/Vostok   2025-07-14 12:25:35.407727+05:00\n",
            "Arctic/Longyearbyen   2025-07-14 09:25:35.407762+02:00\n",
            "Asia/Aden   2025-07-14 10:25:35.407792+03:00\n",
            "Asia/Almaty   2025-07-14 12:25:35.407821+05:00\n",
            "Asia/Amman   2025-07-14 10:25:35.407851+03:00\n",
            "Asia/Anadyr   2025-07-14 19:25:35.407881+12:00\n",
            "Asia/Aqtau   2025-07-14 12:25:35.407911+05:00\n",
            "Asia/Aqtobe   2025-07-14 12:25:35.407950+05:00\n",
            "Asia/Ashgabat   2025-07-14 12:25:35.407980+05:00\n",
            "Asia/Ashkhabad   2025-07-14 12:25:35.408008+05:00\n",
            "Asia/Atyrau   2025-07-14 12:25:35.408037+05:00\n",
            "Asia/Baghdad   2025-07-14 10:25:35.408065+03:00\n",
            "Asia/Bahrain   2025-07-14 10:25:35.408095+03:00\n",
            "Asia/Baku   2025-07-14 11:25:35.408128+04:00\n",
            "Asia/Bangkok   2025-07-14 14:25:35.408160+07:00\n",
            "Asia/Barnaul   2025-07-14 14:25:35.408206+07:00\n",
            "Asia/Beirut   2025-07-14 10:25:35.408236+03:00\n",
            "Asia/Bishkek   2025-07-14 13:25:35.408266+06:00\n",
            "Asia/Brunei   2025-07-14 15:25:35.408294+08:00\n",
            "Asia/Calcutta   2025-07-14 12:55:35.408322+05:30\n",
            "Asia/Chita   2025-07-14 16:25:35.408351+09:00\n",
            "Asia/Choibalsan   2025-07-14 15:25:35.408379+08:00\n",
            "Asia/Chongqing   2025-07-14 15:25:35.408408+08:00\n",
            "Asia/Chungking   2025-07-14 15:25:35.408436+08:00\n",
            "Asia/Colombo   2025-07-14 12:55:35.408463+05:30\n",
            "Asia/Dacca   2025-07-14 13:25:35.408493+06:00\n",
            "Asia/Damascus   2025-07-14 10:25:35.408521+03:00\n",
            "Asia/Dhaka   2025-07-14 13:25:35.408550+06:00\n",
            "Asia/Dili   2025-07-14 16:25:35.408586+09:00\n",
            "Asia/Dubai   2025-07-14 11:25:35.408615+04:00\n",
            "Asia/Dushanbe   2025-07-14 12:25:35.408645+05:00\n",
            "Asia/Famagusta   2025-07-14 10:25:35.408674+03:00\n",
            "Asia/Gaza   2025-07-14 10:25:35.408702+03:00\n",
            "Asia/Harbin   2025-07-14 15:25:35.408733+08:00\n",
            "Asia/Hebron   2025-07-14 10:25:35.408761+03:00\n",
            "Asia/Ho_Chi_Minh   2025-07-14 14:25:35.408790+07:00\n",
            "Asia/Hong_Kong   2025-07-14 15:25:35.408819+08:00\n",
            "Asia/Hovd   2025-07-14 14:25:35.408849+07:00\n",
            "Asia/Irkutsk   2025-07-14 15:25:35.408878+08:00\n",
            "Asia/Istanbul   2025-07-14 10:25:35.408913+03:00\n",
            "Asia/Jakarta   2025-07-14 14:25:35.408955+07:00\n",
            "Asia/Jayapura   2025-07-14 16:25:35.408984+09:00\n",
            "Asia/Jerusalem   2025-07-14 10:25:35.409013+03:00\n",
            "Asia/Kabul   2025-07-14 11:55:35.409045+04:30\n",
            "Asia/Kamchatka   2025-07-14 19:25:35.409074+12:00\n",
            "Asia/Karachi   2025-07-14 12:25:35.409102+05:00\n",
            "Asia/Kashgar   2025-07-14 13:25:35.409129+06:00\n",
            "Asia/Kathmandu   2025-07-14 13:10:35.409156+05:45\n",
            "Asia/Katmandu   2025-07-14 13:10:35.422193+05:45\n",
            "Asia/Khandyga   2025-07-14 16:25:35.422274+09:00\n",
            "Asia/Kolkata   2025-07-14 12:55:35.422312+05:30\n",
            "Asia/Krasnoyarsk   2025-07-14 14:25:35.422347+07:00\n",
            "Asia/Kuala_Lumpur   2025-07-14 15:25:35.422380+08:00\n",
            "Asia/Kuching   2025-07-14 15:25:35.422413+08:00\n",
            "Asia/Kuwait   2025-07-14 10:25:35.422442+03:00\n",
            "Asia/Macao   2025-07-14 15:25:35.422478+08:00\n",
            "Asia/Macau   2025-07-14 15:25:35.422509+08:00\n",
            "Asia/Magadan   2025-07-14 18:25:35.422537+11:00\n",
            "Asia/Makassar   2025-07-14 15:25:35.422567+08:00\n",
            "Asia/Manila   2025-07-14 15:25:35.422601+08:00\n",
            "Asia/Muscat   2025-07-14 11:25:35.422628+04:00\n",
            "Asia/Nicosia   2025-07-14 10:25:35.422663+03:00\n",
            "Asia/Novokuznetsk   2025-07-14 14:25:35.422692+07:00\n",
            "Asia/Novosibirsk   2025-07-14 14:25:35.422728+07:00\n",
            "Asia/Omsk   2025-07-14 13:25:35.422759+06:00\n",
            "Asia/Oral   2025-07-14 12:25:35.422791+05:00\n",
            "Asia/Phnom_Penh   2025-07-14 14:25:35.422820+07:00\n",
            "Asia/Pontianak   2025-07-14 14:25:35.422847+07:00\n",
            "Asia/Pyongyang   2025-07-14 16:25:35.422875+09:00\n",
            "Asia/Qatar   2025-07-14 10:25:35.422908+03:00\n",
            "Asia/Qostanay   2025-07-14 12:25:35.422944+05:00\n",
            "Asia/Qyzylorda   2025-07-14 12:25:35.422974+05:00\n",
            "Asia/Rangoon   2025-07-14 13:55:35.423002+06:30\n",
            "Asia/Riyadh   2025-07-14 10:25:35.423030+03:00\n",
            "Asia/Saigon   2025-07-14 14:25:35.423058+07:00\n",
            "Asia/Sakhalin   2025-07-14 18:25:35.423087+11:00\n",
            "Asia/Samarkand   2025-07-14 12:25:35.423117+05:00\n",
            "Asia/Seoul   2025-07-14 16:25:35.423145+09:00\n",
            "Asia/Shanghai   2025-07-14 15:25:35.423172+08:00\n",
            "Asia/Singapore   2025-07-14 15:25:35.423225+08:00\n",
            "Asia/Srednekolymsk   2025-07-14 18:25:35.423252+11:00\n",
            "Asia/Taipei   2025-07-14 15:25:35.423281+08:00\n",
            "Asia/Tashkent   2025-07-14 12:25:35.423317+05:00\n",
            "Asia/Tbilisi   2025-07-14 11:25:35.423346+04:00\n",
            "Asia/Tehran   2025-07-14 10:55:35.423376+03:30\n",
            "Asia/Tel_Aviv   2025-07-14 10:25:35.423405+03:00\n",
            "Asia/Thimbu   2025-07-14 13:25:35.423437+06:00\n",
            "Asia/Thimphu   2025-07-14 13:25:35.423466+06:00\n",
            "Asia/Tokyo   2025-07-14 16:25:35.423496+09:00\n",
            "Asia/Tomsk   2025-07-14 14:25:35.423525+07:00\n",
            "Asia/Ujung_Pandang   2025-07-14 15:25:35.423554+08:00\n",
            "Asia/Ulaanbaatar   2025-07-14 15:25:35.423581+08:00\n",
            "Asia/Ulan_Bator   2025-07-14 15:25:35.423610+08:00\n",
            "Asia/Urumqi   2025-07-14 13:25:35.423638+06:00\n",
            "Asia/Ust-Nera   2025-07-14 17:25:35.423667+10:00\n",
            "Asia/Vientiane   2025-07-14 14:25:35.423699+07:00\n",
            "Asia/Vladivostok   2025-07-14 17:25:35.423727+10:00\n",
            "Asia/Yakutsk   2025-07-14 16:25:35.423758+09:00\n",
            "Asia/Yangon   2025-07-14 13:55:35.423786+06:30\n",
            "Asia/Yekaterinburg   2025-07-14 12:25:35.423820+05:00\n",
            "Asia/Yerevan   2025-07-14 11:25:35.423850+04:00\n",
            "Atlantic/Azores   2025-07-14 07:25:35.423881+00:00\n",
            "Atlantic/Bermuda   2025-07-14 04:25:35.423912-03:00\n",
            "Atlantic/Canary   2025-07-14 08:25:35.423959+01:00\n",
            "Atlantic/Cape_Verde   2025-07-14 06:25:35.423990-01:00\n",
            "Atlantic/Faeroe   2025-07-14 08:25:35.424019+01:00\n",
            "Atlantic/Faroe   2025-07-14 08:25:35.424048+01:00\n",
            "Atlantic/Jan_Mayen   2025-07-14 09:25:35.424077+02:00\n",
            "Atlantic/Madeira   2025-07-14 08:25:35.424107+01:00\n",
            "Atlantic/Reykjavik   2025-07-14 07:25:35.424136+00:00\n",
            "Atlantic/South_Georgia   2025-07-14 05:25:35.424165-02:00\n",
            "Atlantic/St_Helena   2025-07-14 07:25:35.424216+00:00\n",
            "Atlantic/Stanley   2025-07-14 04:25:35.424250-03:00\n",
            "Australia/ACT   2025-07-14 17:25:35.424281+10:00\n",
            "Australia/Adelaide   2025-07-14 16:55:35.424314+09:30\n",
            "Australia/Brisbane   2025-07-14 17:25:35.424345+10:00\n",
            "Australia/Broken_Hill   2025-07-14 16:55:35.424375+09:30\n",
            "Australia/Canberra   2025-07-14 17:25:35.424403+10:00\n",
            "Australia/Currie   2025-07-14 17:25:35.424433+10:00\n",
            "Australia/Darwin   2025-07-14 16:55:35.424462+09:30\n",
            "Australia/Eucla   2025-07-14 16:10:35.424490+08:45\n",
            "Australia/Hobart   2025-07-14 17:25:35.424518+10:00\n",
            "Australia/LHI   2025-07-14 17:55:35.424547+10:30\n",
            "Australia/Lindeman   2025-07-14 17:25:35.424577+10:00\n",
            "Australia/Lord_Howe   2025-07-14 17:55:35.424607+10:30\n",
            "Australia/Melbourne   2025-07-14 17:25:35.424637+10:00\n",
            "Australia/NSW   2025-07-14 17:25:35.424674+10:00\n",
            "Australia/North   2025-07-14 16:55:35.424705+09:30\n",
            "Australia/Perth   2025-07-14 15:25:35.424735+08:00\n",
            "Australia/Queensland   2025-07-14 17:25:35.424764+10:00\n",
            "Australia/South   2025-07-14 16:55:35.424793+09:30\n",
            "Australia/Sydney   2025-07-14 17:25:35.424824+10:00\n",
            "Australia/Tasmania   2025-07-14 17:25:35.424853+10:00\n",
            "Australia/Victoria   2025-07-14 17:25:35.424881+10:00\n",
            "Australia/West   2025-07-14 15:25:35.424910+08:00\n",
            "Australia/Yancowinna   2025-07-14 16:55:35.424951+09:30\n",
            "Brazil/Acre   2025-07-14 02:25:35.424980-05:00\n",
            "Brazil/DeNoronha   2025-07-14 05:25:35.425010-02:00\n",
            "Brazil/East   2025-07-14 04:25:35.425040-03:00\n",
            "Brazil/West   2025-07-14 03:25:35.425066-04:00\n",
            "CET   2025-07-14 09:25:35.425092+02:00\n",
            "CST6CDT   2025-07-14 02:25:35.425125-05:00\n",
            "Canada/Atlantic   2025-07-14 04:25:35.425154-03:00\n",
            "Canada/Central   2025-07-14 02:25:35.425202-05:00\n",
            "Canada/Eastern   2025-07-14 03:25:35.425232-04:00\n",
            "Canada/Mountain   2025-07-14 01:25:35.425266-06:00\n",
            "Canada/Newfoundland   2025-07-14 04:55:35.425296-02:30\n",
            "Canada/Pacific   2025-07-14 00:25:35.425326-07:00\n",
            "Canada/Saskatchewan   2025-07-14 01:25:35.425356-06:00\n",
            "Canada/Yukon   2025-07-14 00:25:35.425386-07:00\n",
            "Chile/Continental   2025-07-14 03:25:35.425415-04:00\n",
            "Chile/EasterIsland   2025-07-14 01:25:35.425452-06:00\n",
            "Cuba   2025-07-14 03:25:35.425485-04:00\n",
            "EET   2025-07-14 10:25:35.425516+03:00\n",
            "EST   2025-07-14 02:25:35.425546-05:00\n",
            "EST5EDT   2025-07-14 03:25:35.425576-04:00\n",
            "Egypt   2025-07-14 10:25:35.425605+03:00\n",
            "Eire   2025-07-14 08:25:35.425636+01:00\n",
            "Etc/GMT   2025-07-14 07:25:35.425668+00:00\n",
            "Etc/GMT+0   2025-07-14 07:25:35.425695+00:00\n",
            "Etc/GMT+1   2025-07-14 06:25:35.425720-01:00\n",
            "Etc/GMT+10   2025-07-13 21:25:35.425744-10:00\n",
            "Etc/GMT+11   2025-07-13 20:25:35.425767-11:00\n",
            "Etc/GMT+12   2025-07-13 19:25:35.425789-12:00\n",
            "Etc/GMT+2   2025-07-14 05:25:35.425811-02:00\n",
            "Etc/GMT+3   2025-07-14 04:25:35.425834-03:00\n",
            "Etc/GMT+4   2025-07-14 03:25:35.425857-04:00\n",
            "Etc/GMT+5   2025-07-14 02:25:35.425880-05:00\n",
            "Etc/GMT+6   2025-07-14 01:25:35.425902-06:00\n",
            "Etc/GMT+7   2025-07-14 00:25:35.425932-07:00\n",
            "Etc/GMT+8   2025-07-13 23:25:35.425956-08:00\n",
            "Etc/GMT+9   2025-07-13 22:25:35.425978-09:00\n",
            "Etc/GMT-0   2025-07-14 07:25:35.426001+00:00\n",
            "Etc/GMT-1   2025-07-14 08:25:35.426031+01:00\n",
            "Etc/GMT-10   2025-07-14 17:25:35.426055+10:00\n",
            "Etc/GMT-11   2025-07-14 18:25:35.426076+11:00\n",
            "Etc/GMT-12   2025-07-14 19:25:35.426098+12:00\n",
            "Etc/GMT-13   2025-07-14 20:25:35.426119+13:00\n",
            "Etc/GMT-14   2025-07-14 21:25:35.426139+14:00\n",
            "Etc/GMT-2   2025-07-14 09:25:35.426162+02:00\n",
            "Etc/GMT-3   2025-07-14 10:25:35.440293+03:00\n",
            "Etc/GMT-4   2025-07-14 11:25:35.440343+04:00\n",
            "Etc/GMT-5   2025-07-14 12:25:35.440373+05:00\n",
            "Etc/GMT-6   2025-07-14 13:25:35.440398+06:00\n",
            "Etc/GMT-7   2025-07-14 14:25:35.440423+07:00\n",
            "Etc/GMT-8   2025-07-14 15:25:35.440447+08:00\n",
            "Etc/GMT-9   2025-07-14 16:25:35.440478+09:00\n",
            "Etc/GMT0   2025-07-14 07:25:35.440503+00:00\n",
            "Etc/Greenwich   2025-07-14 07:25:35.440528+00:00\n",
            "Etc/UCT   2025-07-14 07:25:35.440552+00:00\n",
            "Etc/UTC   2025-07-14 07:25:35.440578+00:00\n",
            "Etc/Universal   2025-07-14 07:25:35.440602+00:00\n",
            "Etc/Zulu   2025-07-14 07:25:35.440627+00:00\n",
            "Europe/Amsterdam   2025-07-14 09:25:35.440654+02:00\n",
            "Europe/Andorra   2025-07-14 09:25:35.440697+02:00\n",
            "Europe/Astrakhan   2025-07-14 11:25:35.440729+04:00\n",
            "Europe/Athens   2025-07-14 10:25:35.440761+03:00\n",
            "Europe/Belfast   2025-07-14 08:25:35.440794+01:00\n",
            "Europe/Belgrade   2025-07-14 09:25:35.440826+02:00\n",
            "Europe/Berlin   2025-07-14 09:25:35.440856+02:00\n",
            "Europe/Bratislava   2025-07-14 09:25:35.440888+02:00\n",
            "Europe/Brussels   2025-07-14 09:25:35.440915+02:00\n",
            "Europe/Bucharest   2025-07-14 10:25:35.440955+03:00\n",
            "Europe/Budapest   2025-07-14 09:25:35.440984+02:00\n",
            "Europe/Busingen   2025-07-14 09:25:35.441016+02:00\n",
            "Europe/Chisinau   2025-07-14 10:25:35.441046+03:00\n",
            "Europe/Copenhagen   2025-07-14 09:25:35.441079+02:00\n",
            "Europe/Dublin   2025-07-14 08:25:35.441109+01:00\n",
            "Europe/Gibraltar   2025-07-14 09:25:35.441140+02:00\n",
            "Europe/Guernsey   2025-07-14 08:25:35.441171+01:00\n",
            "Europe/Helsinki   2025-07-14 10:25:35.441218+03:00\n",
            "Europe/Isle_of_Man   2025-07-14 08:25:35.441246+01:00\n",
            "Europe/Istanbul   2025-07-14 10:25:35.441274+03:00\n",
            "Europe/Jersey   2025-07-14 08:25:35.441301+01:00\n",
            "Europe/Kaliningrad   2025-07-14 09:25:35.441329+02:00\n",
            "Europe/Kiev   2025-07-14 10:25:35.441356+03:00\n",
            "Europe/Kirov   2025-07-14 10:25:35.441382+03:00\n",
            "Europe/Kyiv   2025-07-14 10:25:35.441409+03:00\n",
            "Europe/Lisbon   2025-07-14 08:25:35.441441+01:00\n",
            "Europe/Ljubljana   2025-07-14 09:25:35.441470+02:00\n",
            "Europe/London   2025-07-14 08:25:35.441498+01:00\n",
            "Europe/Luxembourg   2025-07-14 09:25:35.441526+02:00\n",
            "Europe/Madrid   2025-07-14 09:25:35.441557+02:00\n",
            "Europe/Malta   2025-07-14 09:25:35.441586+02:00\n",
            "Europe/Mariehamn   2025-07-14 10:25:35.441617+03:00\n",
            "Europe/Minsk   2025-07-14 10:25:35.441647+03:00\n",
            "Europe/Monaco   2025-07-14 09:25:35.441679+02:00\n",
            "Europe/Moscow   2025-07-14 10:25:35.441711+03:00\n",
            "Europe/Nicosia   2025-07-14 10:25:35.441742+03:00\n",
            "Europe/Oslo   2025-07-14 09:25:35.441773+02:00\n",
            "Europe/Paris   2025-07-14 09:25:35.441800+02:00\n",
            "Europe/Podgorica   2025-07-14 09:25:35.441836+02:00\n",
            "Europe/Prague   2025-07-14 09:25:35.441868+02:00\n",
            "Europe/Riga   2025-07-14 10:25:35.441898+03:00\n",
            "Europe/Rome   2025-07-14 09:25:35.441936+02:00\n",
            "Europe/Samara   2025-07-14 11:25:35.441968+04:00\n",
            "Europe/San_Marino   2025-07-14 09:25:35.442000+02:00\n",
            "Europe/Sarajevo   2025-07-14 09:25:35.442028+02:00\n",
            "Europe/Saratov   2025-07-14 11:25:35.442058+04:00\n",
            "Europe/Simferopol   2025-07-14 10:25:35.442088+03:00\n",
            "Europe/Skopje   2025-07-14 09:25:35.442119+02:00\n",
            "Europe/Sofia   2025-07-14 10:25:35.442150+03:00\n",
            "Europe/Stockholm   2025-07-14 09:25:35.442204+02:00\n",
            "Europe/Tallinn   2025-07-14 10:25:35.442237+03:00\n",
            "Europe/Tirane   2025-07-14 09:25:35.442268+02:00\n",
            "Europe/Tiraspol   2025-07-14 10:25:35.442299+03:00\n",
            "Europe/Ulyanovsk   2025-07-14 11:25:35.442331+04:00\n",
            "Europe/Uzhgorod   2025-07-14 10:25:35.442363+03:00\n",
            "Europe/Vaduz   2025-07-14 09:25:35.442394+02:00\n",
            "Europe/Vatican   2025-07-14 09:25:35.442424+02:00\n",
            "Europe/Vienna   2025-07-14 09:25:35.442454+02:00\n",
            "Europe/Vilnius   2025-07-14 10:25:35.442487+03:00\n",
            "Europe/Volgograd   2025-07-14 10:25:35.442517+03:00\n",
            "Europe/Warsaw   2025-07-14 09:25:35.442555+02:00\n",
            "Europe/Zagreb   2025-07-14 09:25:35.442586+02:00\n",
            "Europe/Zaporozhye   2025-07-14 10:25:35.442615+03:00\n",
            "Europe/Zurich   2025-07-14 09:25:35.442645+02:00\n",
            "GB   2025-07-14 08:25:35.442674+01:00\n",
            "GB-Eire   2025-07-14 08:25:35.442704+01:00\n",
            "GMT   2025-07-14 07:25:35.442735+00:00\n",
            "GMT+0   2025-07-14 07:25:35.442761+00:00\n",
            "GMT-0   2025-07-14 07:25:35.442786+00:00\n",
            "GMT0   2025-07-14 07:25:35.442810+00:00\n",
            "Greenwich   2025-07-14 07:25:35.442834+00:00\n",
            "HST   2025-07-13 21:25:35.442856-10:00\n",
            "Hongkong   2025-07-14 15:25:35.442887+08:00\n",
            "Iceland   2025-07-14 07:25:35.442919+00:00\n",
            "Indian/Antananarivo   2025-07-14 10:25:35.442968+03:00\n",
            "Indian/Chagos   2025-07-14 13:25:35.442998+06:00\n",
            "Indian/Christmas   2025-07-14 14:25:35.443030+07:00\n",
            "Indian/Cocos   2025-07-14 13:55:35.443061+06:30\n",
            "Indian/Comoro   2025-07-14 10:25:35.443091+03:00\n",
            "Indian/Kerguelen   2025-07-14 12:25:35.443120+05:00\n",
            "Indian/Mahe   2025-07-14 11:25:35.443150+04:00\n",
            "Indian/Maldives   2025-07-14 12:25:35.443201+05:00\n",
            "Indian/Mauritius   2025-07-14 11:25:35.443231+04:00\n",
            "Indian/Mayotte   2025-07-14 10:25:35.443260+03:00\n",
            "Indian/Reunion   2025-07-14 11:25:35.443290+04:00\n",
            "Iran   2025-07-14 10:55:35.443321+03:30\n",
            "Israel   2025-07-14 10:25:35.443352+03:00\n",
            "Jamaica   2025-07-14 02:25:35.443391-05:00\n",
            "Japan   2025-07-14 16:25:35.443423+09:00\n",
            "Kwajalein   2025-07-14 19:25:35.443456+12:00\n",
            "Libya   2025-07-14 09:25:35.443486+02:00\n",
            "MET   2025-07-14 09:25:35.443517+02:00\n",
            "MST   2025-07-14 00:25:35.443550-07:00\n",
            "MST7MDT   2025-07-14 01:25:35.443582-06:00\n",
            "Mexico/BajaNorte   2025-07-14 00:25:35.443614-07:00\n",
            "Mexico/BajaSur   2025-07-14 00:25:35.443646-07:00\n",
            "Mexico/General   2025-07-14 01:25:35.443679-06:00\n",
            "NZ   2025-07-14 19:25:35.443708+12:00\n",
            "NZ-CHAT   2025-07-14 20:10:35.443739+12:45\n",
            "Navajo   2025-07-14 01:25:35.443777-06:00\n",
            "PRC   2025-07-14 15:25:35.443808+08:00\n",
            "PST8PDT   2025-07-14 00:25:35.443837-07:00\n",
            "Pacific/Apia   2025-07-14 20:25:35.443871+13:00\n",
            "Pacific/Auckland   2025-07-14 19:25:35.443902+12:00\n",
            "Pacific/Bougainville   2025-07-14 18:25:35.443977+11:00\n",
            "Pacific/Chatham   2025-07-14 20:10:35.444005+12:45\n",
            "Pacific/Chuuk   2025-07-14 17:25:35.444030+10:00\n",
            "Pacific/Easter   2025-07-14 01:25:35.444055-06:00\n",
            "Pacific/Efate   2025-07-14 18:25:35.444083+11:00\n",
            "Pacific/Enderbury   2025-07-14 20:25:35.444110+13:00\n",
            "Pacific/Fakaofo   2025-07-14 20:25:35.444137+13:00\n",
            "Pacific/Fiji   2025-07-14 19:25:35.444170+12:00\n",
            "Pacific/Funafuti   2025-07-14 19:25:35.454253+12:00\n",
            "Pacific/Galapagos   2025-07-14 01:25:35.454293-06:00\n",
            "Pacific/Gambier   2025-07-13 22:25:35.454334-09:00\n",
            "Pacific/Guadalcanal   2025-07-14 18:25:35.454367+11:00\n",
            "Pacific/Guam   2025-07-14 17:25:35.454398+10:00\n",
            "Pacific/Honolulu   2025-07-13 21:25:35.454428-10:00\n",
            "Pacific/Johnston   2025-07-13 21:25:35.454458-10:00\n",
            "Pacific/Kanton   2025-07-14 20:25:35.454488+13:00\n",
            "Pacific/Kiritimati   2025-07-14 21:25:35.454520+14:00\n",
            "Pacific/Kosrae   2025-07-14 18:25:35.454553+11:00\n",
            "Pacific/Kwajalein   2025-07-14 19:25:35.454585+12:00\n",
            "Pacific/Majuro   2025-07-14 19:25:35.454615+12:00\n",
            "Pacific/Marquesas   2025-07-13 21:55:35.454646-09:30\n",
            "Pacific/Midway   2025-07-13 20:25:35.454675-11:00\n",
            "Pacific/Nauru   2025-07-14 19:25:35.454706+12:00\n",
            "Pacific/Niue   2025-07-13 20:25:35.454734-11:00\n",
            "Pacific/Norfolk   2025-07-14 18:25:35.454764+11:00\n",
            "Pacific/Noumea   2025-07-14 18:25:35.454794+11:00\n",
            "Pacific/Pago_Pago   2025-07-13 20:25:35.454825-11:00\n",
            "Pacific/Palau   2025-07-14 16:25:35.454854+09:00\n",
            "Pacific/Pitcairn   2025-07-13 23:25:35.454885-08:00\n",
            "Pacific/Pohnpei   2025-07-14 18:25:35.454915+11:00\n",
            "Pacific/Ponape   2025-07-14 18:25:35.454954+11:00\n",
            "Pacific/Port_Moresby   2025-07-14 17:25:35.454981+10:00\n",
            "Pacific/Rarotonga   2025-07-13 21:25:35.455010-10:00\n",
            "Pacific/Saipan   2025-07-14 17:25:35.455037+10:00\n",
            "Pacific/Samoa   2025-07-13 20:25:35.455066-11:00\n",
            "Pacific/Tahiti   2025-07-13 21:25:35.455094-10:00\n",
            "Pacific/Tarawa   2025-07-14 19:25:35.455122+12:00\n",
            "Pacific/Tongatapu   2025-07-14 20:25:35.455151+13:00\n",
            "Pacific/Truk   2025-07-14 17:25:35.455198+10:00\n",
            "Pacific/Wake   2025-07-14 19:25:35.455228+12:00\n",
            "Pacific/Wallis   2025-07-14 19:25:35.455256+12:00\n",
            "Pacific/Yap   2025-07-14 17:25:35.455285+10:00\n",
            "Poland   2025-07-14 09:25:35.455313+02:00\n",
            "Portugal   2025-07-14 08:25:35.455344+01:00\n",
            "ROC   2025-07-14 15:25:35.455376+08:00\n",
            "ROK   2025-07-14 16:25:35.455406+09:00\n",
            "Singapore   2025-07-14 15:25:35.455436+08:00\n",
            "Turkey   2025-07-14 10:25:35.455468+03:00\n",
            "UCT   2025-07-14 07:25:35.455498+00:00\n",
            "US/Alaska   2025-07-13 23:25:35.455525-08:00\n",
            "US/Aleutian   2025-07-13 22:25:35.455557-09:00\n",
            "US/Arizona   2025-07-14 00:25:35.455588-07:00\n",
            "US/Central   2025-07-14 02:25:35.455617-05:00\n",
            "US/East-Indiana   2025-07-14 03:25:35.455647-04:00\n",
            "US/Eastern   2025-07-14 03:25:35.455678-04:00\n",
            "US/Hawaii   2025-07-13 21:25:35.455709-10:00\n",
            "US/Indiana-Starke   2025-07-14 02:25:35.455739-05:00\n",
            "US/Michigan   2025-07-14 03:25:35.455771-04:00\n",
            "US/Mountain   2025-07-14 01:25:35.455802-06:00\n",
            "US/Pacific   2025-07-14 00:25:35.455833-07:00\n",
            "US/Samoa   2025-07-13 20:25:35.455863-11:00\n",
            "UTC   2025-07-14 07:25:35.455892+00:00\n",
            "Universal   2025-07-14 07:25:35.455942+00:00\n",
            "W-SU   2025-07-14 10:25:35.455969+03:00\n",
            "WET   2025-07-14 08:25:35.456002+01:00\n",
            "Zulu   2025-07-14 07:25:35.456033+00:00\n"
          ]
        }
      ]
    },
    {
      "cell_type": "markdown",
      "source": [
        "# Problem - 4"
      ],
      "metadata": {
        "id": "yFtqOJuyAYDX"
      }
    },
    {
      "cell_type": "markdown",
      "source": [
        "Problem-4: Python program to count Even and Odd numbers in a List using list comprehension.\n",
        "\n",
        "Given a list of numbers, write a Python program to count Even and Odd numbers in a List.\n",
        "\n",
        "Example:\n",
        "- Input: list1 = [2, 7, 5, 64, 14]\n",
        "- Output: Even = 3, odd = 2\n",
        "\n",
        "- Input: list2 = [12, 14, 95, 3]\n",
        "- Output: Even = 2, odd = 2\n"
      ],
      "metadata": {
        "id": "I1nFgiVtAiW4"
      }
    },
    {
      "cell_type": "code",
      "source": [
        "l =  [2, 7, 5, 64, 14]\n",
        "z = [12, 14, 95, 3]\n",
        "even = 0\n",
        "odd = 0\n",
        "ans = [True if i%2 == 0 else False for i in z]\n",
        "print('Even =', ans.count(True), 'Odd =', ans.count(False))"
      ],
      "metadata": {
        "colab": {
          "base_uri": "https://localhost:8080/"
        },
        "id": "xLhEdLvoAbH1",
        "outputId": "f1371cd8-b8b5-4f56-9b1b-1169d1ab7d73"
      },
      "execution_count": null,
      "outputs": [
        {
          "output_type": "stream",
          "name": "stdout",
          "text": [
            "Even = 2 Odd = 2\n"
          ]
        }
      ]
    },
    {
      "cell_type": "markdown",
      "source": [
        "# Problem-5"
      ],
      "metadata": {
        "id": "K-peUS5lChKq"
      }
    },
    {
      "cell_type": "markdown",
      "source": [
        "# 🌸 Alphabet Rangoli\n",
        "\n",
        "You are given an integer, `N`. Your task is to print an **alphabet rangoli** of size `N`.  \n",
        "Rangoli is a form of Indian folk art based on creating beautiful patterns.\n",
        "\n",
        "---\n",
        "\n",
        "## 📌 Example Rangolis\n",
        "\n",
        "### ✅ Size 3\n",
        "\n",
        "----c----\n",
        "\n",
        "--c-b-c--\n",
        "\n",
        "c-b-a-b-c\n",
        "\n",
        "--c-b-c--\n",
        "\n",
        "----c----\n",
        "\n",
        "\n",
        "### ✅ Size 5\n",
        "\n",
        "--------e--------\n",
        "\n",
        "------e-d-e------\n",
        "\n",
        "----e-d-c-d-e----\n",
        "\n",
        "--e-d-c-b-c-d-e--\n",
        "\n",
        "e-d-c-b-a-b-c-d-e\n",
        "\n",
        "--e-d-c-b-c-d-e--\n",
        "\n",
        "----e-d-c-d-e----\n",
        "\n",
        "------e-d-e------\n",
        "\n",
        "--------e--------\n",
        "\n",
        "\n",
        "## 📌 Task\n",
        "\n",
        "Given the size `N`, print the alphabet rangoli pattern for that size.\n",
        "\n",
        "The pattern should use **lowercase English letters**, starting from `'a'` in the center to the `N`-th letter outward, with `'-'` as the filler.\n",
        "\n",
        "---\n",
        "\n",
        "## 📌 Input Format\n",
        "\n",
        "- An integer `N` where `1 <= N <= 26`.\n",
        "\n",
        "---\n",
        "\n",
        "## 📌 Output Format\n",
        "\n",
        "- Print the alphabet rangoli of the given size."
      ],
      "metadata": {
        "id": "fAtI_8MOCljU"
      }
    },
    {
      "cell_type": "code",
      "source": [
        "n = 100\n",
        "l = []\n",
        "alpha = ord('a') + (n-1)\n",
        "for i in range(1,(n+1)):\n",
        "  pattern = ''\n",
        "  for j in range(i):\n",
        "    pattern = pattern + chr(alpha-j)\n",
        "    ix = alpha-j\n",
        "  for j in range(i-1):\n",
        "    pattern = pattern + chr(ix+j+1)\n",
        "  l.append(pattern)\n",
        "\n",
        "total_char = ((n*2)-1) + ((n*2)-2)\n",
        "\n",
        "print(total_char)\n",
        "for i in l:\n",
        "  pattern = '-'.join(list(i))\n",
        "  x = len(pattern)\n",
        "  remaining = total_char - x\n",
        "  remaining_pattern = '-'*int(remaining/2)\n",
        "  pattern = remaining_pattern + pattern + remaining_pattern\n",
        "  print(pattern)\n",
        "\n",
        "for i in l[-2::-1]:\n",
        "  pattern = '-'.join(list(i))\n",
        "  x = len(pattern)\n",
        "  remaining = total_char - x\n",
        "  remaining_pattern = '-'*int(remaining/2)\n",
        "  pattern = remaining_pattern + pattern + remaining_pattern\n",
        "  print(pattern)"
      ],
      "metadata": {
        "colab": {
          "base_uri": "https://localhost:8080/"
        },
        "id": "xNKr-mHnDFtd",
        "outputId": "74a8cccc-88bf-471b-9417-3ea17b9d838c"
      },
      "execution_count": null,
      "outputs": [
        {
          "output_type": "stream",
          "name": "stdout",
          "text": [
            "397\n",
            "------------------------------------------------------------------------------------------------------------------------------------------------------------------------------------------------------Ä------------------------------------------------------------------------------------------------------------------------------------------------------------------------------------------------------\n",
            "----------------------------------------------------------------------------------------------------------------------------------------------------------------------------------------------------Ä-Ã-Ä----------------------------------------------------------------------------------------------------------------------------------------------------------------------------------------------------\n",
            "--------------------------------------------------------------------------------------------------------------------------------------------------------------------------------------------------Ä-Ã-Â-Ã-Ä--------------------------------------------------------------------------------------------------------------------------------------------------------------------------------------------------\n",
            "------------------------------------------------------------------------------------------------------------------------------------------------------------------------------------------------Ä-Ã-Â-Á-Â-Ã-Ä------------------------------------------------------------------------------------------------------------------------------------------------------------------------------------------------\n",
            "----------------------------------------------------------------------------------------------------------------------------------------------------------------------------------------------Ä-Ã-Â-Á-À-Á-Â-Ã-Ä----------------------------------------------------------------------------------------------------------------------------------------------------------------------------------------------\n",
            "--------------------------------------------------------------------------------------------------------------------------------------------------------------------------------------------Ä-Ã-Â-Á-À-¿-À-Á-Â-Ã-Ä--------------------------------------------------------------------------------------------------------------------------------------------------------------------------------------------\n",
            "------------------------------------------------------------------------------------------------------------------------------------------------------------------------------------------Ä-Ã-Â-Á-À-¿-¾-¿-À-Á-Â-Ã-Ä------------------------------------------------------------------------------------------------------------------------------------------------------------------------------------------\n",
            "----------------------------------------------------------------------------------------------------------------------------------------------------------------------------------------Ä-Ã-Â-Á-À-¿-¾-½-¾-¿-À-Á-Â-Ã-Ä----------------------------------------------------------------------------------------------------------------------------------------------------------------------------------------\n",
            "--------------------------------------------------------------------------------------------------------------------------------------------------------------------------------------Ä-Ã-Â-Á-À-¿-¾-½-¼-½-¾-¿-À-Á-Â-Ã-Ä--------------------------------------------------------------------------------------------------------------------------------------------------------------------------------------\n",
            "------------------------------------------------------------------------------------------------------------------------------------------------------------------------------------Ä-Ã-Â-Á-À-¿-¾-½-¼-»-¼-½-¾-¿-À-Á-Â-Ã-Ä------------------------------------------------------------------------------------------------------------------------------------------------------------------------------------\n",
            "----------------------------------------------------------------------------------------------------------------------------------------------------------------------------------Ä-Ã-Â-Á-À-¿-¾-½-¼-»-º-»-¼-½-¾-¿-À-Á-Â-Ã-Ä----------------------------------------------------------------------------------------------------------------------------------------------------------------------------------\n",
            "--------------------------------------------------------------------------------------------------------------------------------------------------------------------------------Ä-Ã-Â-Á-À-¿-¾-½-¼-»-º-¹-º-»-¼-½-¾-¿-À-Á-Â-Ã-Ä--------------------------------------------------------------------------------------------------------------------------------------------------------------------------------\n",
            "------------------------------------------------------------------------------------------------------------------------------------------------------------------------------Ä-Ã-Â-Á-À-¿-¾-½-¼-»-º-¹-¸-¹-º-»-¼-½-¾-¿-À-Á-Â-Ã-Ä------------------------------------------------------------------------------------------------------------------------------------------------------------------------------\n",
            "----------------------------------------------------------------------------------------------------------------------------------------------------------------------------Ä-Ã-Â-Á-À-¿-¾-½-¼-»-º-¹-¸-·-¸-¹-º-»-¼-½-¾-¿-À-Á-Â-Ã-Ä----------------------------------------------------------------------------------------------------------------------------------------------------------------------------\n",
            "--------------------------------------------------------------------------------------------------------------------------------------------------------------------------Ä-Ã-Â-Á-À-¿-¾-½-¼-»-º-¹-¸-·-¶-·-¸-¹-º-»-¼-½-¾-¿-À-Á-Â-Ã-Ä--------------------------------------------------------------------------------------------------------------------------------------------------------------------------\n",
            "------------------------------------------------------------------------------------------------------------------------------------------------------------------------Ä-Ã-Â-Á-À-¿-¾-½-¼-»-º-¹-¸-·-¶-µ-¶-·-¸-¹-º-»-¼-½-¾-¿-À-Á-Â-Ã-Ä------------------------------------------------------------------------------------------------------------------------------------------------------------------------\n",
            "----------------------------------------------------------------------------------------------------------------------------------------------------------------------Ä-Ã-Â-Á-À-¿-¾-½-¼-»-º-¹-¸-·-¶-µ-´-µ-¶-·-¸-¹-º-»-¼-½-¾-¿-À-Á-Â-Ã-Ä----------------------------------------------------------------------------------------------------------------------------------------------------------------------\n",
            "--------------------------------------------------------------------------------------------------------------------------------------------------------------------Ä-Ã-Â-Á-À-¿-¾-½-¼-»-º-¹-¸-·-¶-µ-´-³-´-µ-¶-·-¸-¹-º-»-¼-½-¾-¿-À-Á-Â-Ã-Ä--------------------------------------------------------------------------------------------------------------------------------------------------------------------\n",
            "------------------------------------------------------------------------------------------------------------------------------------------------------------------Ä-Ã-Â-Á-À-¿-¾-½-¼-»-º-¹-¸-·-¶-µ-´-³-²-³-´-µ-¶-·-¸-¹-º-»-¼-½-¾-¿-À-Á-Â-Ã-Ä------------------------------------------------------------------------------------------------------------------------------------------------------------------\n",
            "----------------------------------------------------------------------------------------------------------------------------------------------------------------Ä-Ã-Â-Á-À-¿-¾-½-¼-»-º-¹-¸-·-¶-µ-´-³-²-±-²-³-´-µ-¶-·-¸-¹-º-»-¼-½-¾-¿-À-Á-Â-Ã-Ä----------------------------------------------------------------------------------------------------------------------------------------------------------------\n",
            "--------------------------------------------------------------------------------------------------------------------------------------------------------------Ä-Ã-Â-Á-À-¿-¾-½-¼-»-º-¹-¸-·-¶-µ-´-³-²-±-°-±-²-³-´-µ-¶-·-¸-¹-º-»-¼-½-¾-¿-À-Á-Â-Ã-Ä--------------------------------------------------------------------------------------------------------------------------------------------------------------\n",
            "------------------------------------------------------------------------------------------------------------------------------------------------------------Ä-Ã-Â-Á-À-¿-¾-½-¼-»-º-¹-¸-·-¶-µ-´-³-²-±-°-¯-°-±-²-³-´-µ-¶-·-¸-¹-º-»-¼-½-¾-¿-À-Á-Â-Ã-Ä------------------------------------------------------------------------------------------------------------------------------------------------------------\n",
            "----------------------------------------------------------------------------------------------------------------------------------------------------------Ä-Ã-Â-Á-À-¿-¾-½-¼-»-º-¹-¸-·-¶-µ-´-³-²-±-°-¯-®-¯-°-±-²-³-´-µ-¶-·-¸-¹-º-»-¼-½-¾-¿-À-Á-Â-Ã-Ä----------------------------------------------------------------------------------------------------------------------------------------------------------\n",
            "--------------------------------------------------------------------------------------------------------------------------------------------------------Ä-Ã-Â-Á-À-¿-¾-½-¼-»-º-¹-¸-·-¶-µ-´-³-²-±-°-¯-®-­-®-¯-°-±-²-³-´-µ-¶-·-¸-¹-º-»-¼-½-¾-¿-À-Á-Â-Ã-Ä--------------------------------------------------------------------------------------------------------------------------------------------------------\n",
            "------------------------------------------------------------------------------------------------------------------------------------------------------Ä-Ã-Â-Á-À-¿-¾-½-¼-»-º-¹-¸-·-¶-µ-´-³-²-±-°-¯-®-­-¬-­-®-¯-°-±-²-³-´-µ-¶-·-¸-¹-º-»-¼-½-¾-¿-À-Á-Â-Ã-Ä------------------------------------------------------------------------------------------------------------------------------------------------------\n",
            "----------------------------------------------------------------------------------------------------------------------------------------------------Ä-Ã-Â-Á-À-¿-¾-½-¼-»-º-¹-¸-·-¶-µ-´-³-²-±-°-¯-®-­-¬-«-¬-­-®-¯-°-±-²-³-´-µ-¶-·-¸-¹-º-»-¼-½-¾-¿-À-Á-Â-Ã-Ä----------------------------------------------------------------------------------------------------------------------------------------------------\n",
            "--------------------------------------------------------------------------------------------------------------------------------------------------Ä-Ã-Â-Á-À-¿-¾-½-¼-»-º-¹-¸-·-¶-µ-´-³-²-±-°-¯-®-­-¬-«-ª-«-¬-­-®-¯-°-±-²-³-´-µ-¶-·-¸-¹-º-»-¼-½-¾-¿-À-Á-Â-Ã-Ä--------------------------------------------------------------------------------------------------------------------------------------------------\n",
            "------------------------------------------------------------------------------------------------------------------------------------------------Ä-Ã-Â-Á-À-¿-¾-½-¼-»-º-¹-¸-·-¶-µ-´-³-²-±-°-¯-®-­-¬-«-ª-©-ª-«-¬-­-®-¯-°-±-²-³-´-µ-¶-·-¸-¹-º-»-¼-½-¾-¿-À-Á-Â-Ã-Ä------------------------------------------------------------------------------------------------------------------------------------------------\n",
            "----------------------------------------------------------------------------------------------------------------------------------------------Ä-Ã-Â-Á-À-¿-¾-½-¼-»-º-¹-¸-·-¶-µ-´-³-²-±-°-¯-®-­-¬-«-ª-©-¨-©-ª-«-¬-­-®-¯-°-±-²-³-´-µ-¶-·-¸-¹-º-»-¼-½-¾-¿-À-Á-Â-Ã-Ä----------------------------------------------------------------------------------------------------------------------------------------------\n",
            "--------------------------------------------------------------------------------------------------------------------------------------------Ä-Ã-Â-Á-À-¿-¾-½-¼-»-º-¹-¸-·-¶-µ-´-³-²-±-°-¯-®-­-¬-«-ª-©-¨-§-¨-©-ª-«-¬-­-®-¯-°-±-²-³-´-µ-¶-·-¸-¹-º-»-¼-½-¾-¿-À-Á-Â-Ã-Ä--------------------------------------------------------------------------------------------------------------------------------------------\n",
            "------------------------------------------------------------------------------------------------------------------------------------------Ä-Ã-Â-Á-À-¿-¾-½-¼-»-º-¹-¸-·-¶-µ-´-³-²-±-°-¯-®-­-¬-«-ª-©-¨-§-¦-§-¨-©-ª-«-¬-­-®-¯-°-±-²-³-´-µ-¶-·-¸-¹-º-»-¼-½-¾-¿-À-Á-Â-Ã-Ä------------------------------------------------------------------------------------------------------------------------------------------\n",
            "----------------------------------------------------------------------------------------------------------------------------------------Ä-Ã-Â-Á-À-¿-¾-½-¼-»-º-¹-¸-·-¶-µ-´-³-²-±-°-¯-®-­-¬-«-ª-©-¨-§-¦-¥-¦-§-¨-©-ª-«-¬-­-®-¯-°-±-²-³-´-µ-¶-·-¸-¹-º-»-¼-½-¾-¿-À-Á-Â-Ã-Ä----------------------------------------------------------------------------------------------------------------------------------------\n",
            "--------------------------------------------------------------------------------------------------------------------------------------Ä-Ã-Â-Á-À-¿-¾-½-¼-»-º-¹-¸-·-¶-µ-´-³-²-±-°-¯-®-­-¬-«-ª-©-¨-§-¦-¥-¤-¥-¦-§-¨-©-ª-«-¬-­-®-¯-°-±-²-³-´-µ-¶-·-¸-¹-º-»-¼-½-¾-¿-À-Á-Â-Ã-Ä--------------------------------------------------------------------------------------------------------------------------------------\n",
            "------------------------------------------------------------------------------------------------------------------------------------Ä-Ã-Â-Á-À-¿-¾-½-¼-»-º-¹-¸-·-¶-µ-´-³-²-±-°-¯-®-­-¬-«-ª-©-¨-§-¦-¥-¤-£-¤-¥-¦-§-¨-©-ª-«-¬-­-®-¯-°-±-²-³-´-µ-¶-·-¸-¹-º-»-¼-½-¾-¿-À-Á-Â-Ã-Ä------------------------------------------------------------------------------------------------------------------------------------\n",
            "----------------------------------------------------------------------------------------------------------------------------------Ä-Ã-Â-Á-À-¿-¾-½-¼-»-º-¹-¸-·-¶-µ-´-³-²-±-°-¯-®-­-¬-«-ª-©-¨-§-¦-¥-¤-£-¢-£-¤-¥-¦-§-¨-©-ª-«-¬-­-®-¯-°-±-²-³-´-µ-¶-·-¸-¹-º-»-¼-½-¾-¿-À-Á-Â-Ã-Ä----------------------------------------------------------------------------------------------------------------------------------\n",
            "--------------------------------------------------------------------------------------------------------------------------------Ä-Ã-Â-Á-À-¿-¾-½-¼-»-º-¹-¸-·-¶-µ-´-³-²-±-°-¯-®-­-¬-«-ª-©-¨-§-¦-¥-¤-£-¢-¡-¢-£-¤-¥-¦-§-¨-©-ª-«-¬-­-®-¯-°-±-²-³-´-µ-¶-·-¸-¹-º-»-¼-½-¾-¿-À-Á-Â-Ã-Ä--------------------------------------------------------------------------------------------------------------------------------\n",
            "------------------------------------------------------------------------------------------------------------------------------Ä-Ã-Â-Á-À-¿-¾-½-¼-»-º-¹-¸-·-¶-µ-´-³-²-±-°-¯-®-­-¬-«-ª-©-¨-§-¦-¥-¤-£-¢-¡- -¡-¢-£-¤-¥-¦-§-¨-©-ª-«-¬-­-®-¯-°-±-²-³-´-µ-¶-·-¸-¹-º-»-¼-½-¾-¿-À-Á-Â-Ã-Ä------------------------------------------------------------------------------------------------------------------------------\n",
            "----------------------------------------------------------------------------------------------------------------------------Ä-Ã-Â-Á-À-¿-¾-½-¼-»-º-¹-¸-·-¶-µ-´-³-²-±-°-¯-®-­-¬-«-ª-©-¨-§-¦-¥-¤-£-¢-¡- -- -¡-¢-£-¤-¥-¦-§-¨-©-ª-«-¬-­-®-¯-°-±-²-³-´-µ-¶-·-¸-¹-º-»-¼-½-¾-¿-À-Á-Â-Ã-Ä----------------------------------------------------------------------------------------------------------------------------\n",
            "--------------------------------------------------------------------------------------------------------------------------Ä-Ã-Â-Á-À-¿-¾-½-¼-»-º-¹-¸-·-¶-µ-´-³-²-±-°-¯-®-­-¬-«-ª-©-¨-§-¦-¥-¤-£-¢-¡- ---- -¡-¢-£-¤-¥-¦-§-¨-©-ª-«-¬-­-®-¯-°-±-²-³-´-µ-¶-·-¸-¹-º-»-¼-½-¾-¿-À-Á-Â-Ã-Ä--------------------------------------------------------------------------------------------------------------------------\n",
            "------------------------------------------------------------------------------------------------------------------------Ä-Ã-Â-Á-À-¿-¾-½-¼-»-º-¹-¸-·-¶-µ-´-³-²-±-°-¯-®-­-¬-«-ª-©-¨-§-¦-¥-¤-£-¢-¡- ------ -¡-¢-£-¤-¥-¦-§-¨-©-ª-«-¬-­-®-¯-°-±-²-³-´-µ-¶-·-¸-¹-º-»-¼-½-¾-¿-À-Á-Â-Ã-Ä------------------------------------------------------------------------------------------------------------------------\n",
            "----------------------------------------------------------------------------------------------------------------------Ä-Ã-Â-Á-À-¿-¾-½-¼-»-º-¹-¸-·-¶-µ-´-³-²-±-°-¯-®-­-¬-«-ª-©-¨-§-¦-¥-¤-£-¢-¡- -------- -¡-¢-£-¤-¥-¦-§-¨-©-ª-«-¬-­-®-¯-°-±-²-³-´-µ-¶-·-¸-¹-º-»-¼-½-¾-¿-À-Á-Â-Ã-Ä----------------------------------------------------------------------------------------------------------------------\n",
            "--------------------------------------------------------------------------------------------------------------------Ä-Ã-Â-Á-À-¿-¾-½-¼-»-º-¹-¸-·-¶-µ-´-³-²-±-°-¯-®-­-¬-«-ª-©-¨-§-¦-¥-¤-£-¢-¡- ---------- -¡-¢-£-¤-¥-¦-§-¨-©-ª-«-¬-­-®-¯-°-±-²-³-´-µ-¶-·-¸-¹-º-»-¼-½-¾-¿-À-Á-Â-Ã-Ä--------------------------------------------------------------------------------------------------------------------\n",
            "------------------------------------------------------------------------------------------------------------------Ä-Ã-Â-Á-À-¿-¾-½-¼-»-º-¹-¸-·-¶-µ-´-³-²-±-°-¯-®-­-¬-«-ª-©-¨-§-¦-¥-¤-£-¢-¡- ------------ -¡-¢-£-¤-¥-¦-§-¨-©-ª-«-¬-­-®-¯-°-±-²-³-´-µ-¶-·-¸-¹-º-»-¼-½-¾-¿-À-Á-Â-Ã-Ä------------------------------------------------------------------------------------------------------------------\n",
            "----------------------------------------------------------------------------------------------------------------Ä-Ã-Â-Á-À-¿-¾-½-¼-»-º-¹-¸-·-¶-µ-´-³-²-±-°-¯-®-­-¬-«-ª-©-¨-§-¦-¥-¤-£-¢-¡- -------------- -¡-¢-£-¤-¥-¦-§-¨-©-ª-«-¬-­-®-¯-°-±-²-³-´-µ-¶-·-¸-¹-º-»-¼-½-¾-¿-À-Á-Â-Ã-Ä----------------------------------------------------------------------------------------------------------------\n",
            "--------------------------------------------------------------------------------------------------------------Ä-Ã-Â-Á-À-¿-¾-½-¼-»-º-¹-¸-·-¶-µ-´-³-²-±-°-¯-®-­-¬-«-ª-©-¨-§-¦-¥-¤-£-¢-¡- ---------------- -¡-¢-£-¤-¥-¦-§-¨-©-ª-«-¬-­-®-¯-°-±-²-³-´-µ-¶-·-¸-¹-º-»-¼-½-¾-¿-À-Á-Â-Ã-Ä--------------------------------------------------------------------------------------------------------------\n",
            "------------------------------------------------------------------------------------------------------------Ä-Ã-Â-Á-À-¿-¾-½-¼-»-º-¹-¸-·-¶-µ-´-³-²-±-°-¯-®-­-¬-«-ª-©-¨-§-¦-¥-¤-£-¢-¡- ------------------ -¡-¢-£-¤-¥-¦-§-¨-©-ª-«-¬-­-®-¯-°-±-²-³-´-µ-¶-·-¸-¹-º-»-¼-½-¾-¿-À-Á-Â-Ã-Ä------------------------------------------------------------------------------------------------------------\n",
            "----------------------------------------------------------------------------------------------------------Ä-Ã-Â-Á-À-¿-¾-½-¼-»-º-¹-¸-·-¶-µ-´-³-²-±-°-¯-®-­-¬-«-ª-©-¨-§-¦-¥-¤-£-¢-¡- -------------------- -¡-¢-£-¤-¥-¦-§-¨-©-ª-«-¬-­-®-¯-°-±-²-³-´-µ-¶-·-¸-¹-º-»-¼-½-¾-¿-À-Á-Â-Ã-Ä----------------------------------------------------------------------------------------------------------\n",
            "--------------------------------------------------------------------------------------------------------Ä-Ã-Â-Á-À-¿-¾-½-¼-»-º-¹-¸-·-¶-µ-´-³-²-±-°-¯-®-­-¬-«-ª-©-¨-§-¦-¥-¤-£-¢-¡- ---------------------- -¡-¢-£-¤-¥-¦-§-¨-©-ª-«-¬-­-®-¯-°-±-²-³-´-µ-¶-·-¸-¹-º-»-¼-½-¾-¿-À-Á-Â-Ã-Ä--------------------------------------------------------------------------------------------------------\n",
            "------------------------------------------------------------------------------------------------------Ä-Ã-Â-Á-À-¿-¾-½-¼-»-º-¹-¸-·-¶-µ-´-³-²-±-°-¯-®-­-¬-«-ª-©-¨-§-¦-¥-¤-£-¢-¡- ------------------------ -¡-¢-£-¤-¥-¦-§-¨-©-ª-«-¬-­-®-¯-°-±-²-³-´-µ-¶-·-¸-¹-º-»-¼-½-¾-¿-À-Á-Â-Ã-Ä------------------------------------------------------------------------------------------------------\n",
            "----------------------------------------------------------------------------------------------------Ä-Ã-Â-Á-À-¿-¾-½-¼-»-º-¹-¸-·-¶-µ-´-³-²-±-°-¯-®-­-¬-«-ª-©-¨-§-¦-¥-¤-£-¢-¡- -------------------------- -¡-¢-£-¤-¥-¦-§-¨-©-ª-«-¬-­-®-¯-°-±-²-³-´-µ-¶-·-¸-¹-º-»-¼-½-¾-¿-À-Á-Â-Ã-Ä----------------------------------------------------------------------------------------------------\n",
            "--------------------------------------------------------------------------------------------------Ä-Ã-Â-Á-À-¿-¾-½-¼-»-º-¹-¸-·-¶-µ-´-³-²-±-°-¯-®-­-¬-«-ª-©-¨-§-¦-¥-¤-£-¢-¡- ---------------------------- -¡-¢-£-¤-¥-¦-§-¨-©-ª-«-¬-­-®-¯-°-±-²-³-´-µ-¶-·-¸-¹-º-»-¼-½-¾-¿-À-Á-Â-Ã-Ä--------------------------------------------------------------------------------------------------\n",
            "------------------------------------------------------------------------------------------------Ä-Ã-Â-Á-À-¿-¾-½-¼-»-º-¹-¸-·-¶-µ-´-³-²-±-°-¯-®-­-¬-«-ª-©-¨-§-¦-¥-¤-£-¢-¡- ------------------------------ -¡-¢-£-¤-¥-¦-§-¨-©-ª-«-¬-­-®-¯-°-±-²-³-´-µ-¶-·-¸-¹-º-»-¼-½-¾-¿-À-Á-Â-Ã-Ä------------------------------------------------------------------------------------------------\n",
            "----------------------------------------------------------------------------------------------Ä-Ã-Â-Á-À-¿-¾-½-¼-»-º-¹-¸-·-¶-µ-´-³-²-±-°-¯-®-­-¬-«-ª-©-¨-§-¦-¥-¤-£-¢-¡- -------------------------------- -¡-¢-£-¤-¥-¦-§-¨-©-ª-«-¬-­-®-¯-°-±-²-³-´-µ-¶-·-¸-¹-º-»-¼-½-¾-¿-À-Á-Â-Ã-Ä----------------------------------------------------------------------------------------------\n",
            "--------------------------------------------------------------------------------------------Ä-Ã-Â-Á-À-¿-¾-½-¼-»-º-¹-¸-·-¶-µ-´-³-²-±-°-¯-®-­-¬-«-ª-©-¨-§-¦-¥-¤-£-¢-¡- ---------------------------------- -¡-¢-£-¤-¥-¦-§-¨-©-ª-«-¬-­-®-¯-°-±-²-³-´-µ-¶-·-¸-¹-º-»-¼-½-¾-¿-À-Á-Â-Ã-Ä--------------------------------------------------------------------------------------------\n",
            "------------------------------------------------------------------------------------------Ä-Ã-Â-Á-À-¿-¾-½-¼-»-º-¹-¸-·-¶-µ-´-³-²-±-°-¯-®-­-¬-«-ª-©-¨-§-¦-¥-¤-£-¢-¡- ------------------------------------ -¡-¢-£-¤-¥-¦-§-¨-©-ª-«-¬-­-®-¯-°-±-²-³-´-µ-¶-·-¸-¹-º-»-¼-½-¾-¿-À-Á-Â-Ã-Ä------------------------------------------------------------------------------------------\n",
            "----------------------------------------------------------------------------------------Ä-Ã-Â-Á-À-¿-¾-½-¼-»-º-¹-¸-·-¶-µ-´-³-²-±-°-¯-®-­-¬-«-ª-©-¨-§-¦-¥-¤-£-¢-¡- -------------------------------------- -¡-¢-£-¤-¥-¦-§-¨-©-ª-«-¬-­-®-¯-°-±-²-³-´-µ-¶-·-¸-¹-º-»-¼-½-¾-¿-À-Á-Â-Ã-Ä----------------------------------------------------------------------------------------\n",
            "--------------------------------------------------------------------------------------Ä-Ã-Â-Á-À-¿-¾-½-¼-»-º-¹-¸-·-¶-µ-´-³-²-±-°-¯-®-­-¬-«-ª-©-¨-§-¦-¥-¤-£-¢-¡- ---------------------------------------- -¡-¢-£-¤-¥-¦-§-¨-©-ª-«-¬-­-®-¯-°-±-²-³-´-µ-¶-·-¸-¹-º-»-¼-½-¾-¿-À-Á-Â-Ã-Ä--------------------------------------------------------------------------------------\n",
            "------------------------------------------------------------------------------------Ä-Ã-Â-Á-À-¿-¾-½-¼-»-º-¹-¸-·-¶-µ-´-³-²-±-°-¯-®-­-¬-«-ª-©-¨-§-¦-¥-¤-£-¢-¡- ------------------------------------------ -¡-¢-£-¤-¥-¦-§-¨-©-ª-«-¬-­-®-¯-°-±-²-³-´-µ-¶-·-¸-¹-º-»-¼-½-¾-¿-À-Á-Â-Ã-Ä------------------------------------------------------------------------------------\n",
            "----------------------------------------------------------------------------------Ä-Ã-Â-Á-À-¿-¾-½-¼-»-º-¹-¸-·-¶-µ-´-³-²-±-°-¯-®-­-¬-«-ª-©-¨-§-¦-¥-¤-£-¢-¡- -------------------------------------------- -¡-¢-£-¤-¥-¦-§-¨-©-ª-«-¬-­-®-¯-°-±-²-³-´-µ-¶-·-¸-¹-º-»-¼-½-¾-¿-À-Á-Â-Ã-Ä----------------------------------------------------------------------------------\n",
            "--------------------------------------------------------------------------------Ä-Ã-Â-Á-À-¿-¾-½-¼-»-º-¹-¸-·-¶-µ-´-³-²-±-°-¯-®-­-¬-«-ª-©-¨-§-¦-¥-¤-£-¢-¡- ---------------------------------------------- -¡-¢-£-¤-¥-¦-§-¨-©-ª-«-¬-­-®-¯-°-±-²-³-´-µ-¶-·-¸-¹-º-»-¼-½-¾-¿-À-Á-Â-Ã-Ä--------------------------------------------------------------------------------\n",
            "------------------------------------------------------------------------------Ä-Ã-Â-Á-À-¿-¾-½-¼-»-º-¹-¸-·-¶-µ-´-³-²-±-°-¯-®-­-¬-«-ª-©-¨-§-¦-¥-¤-£-¢-¡- ------------------------------------------------ -¡-¢-£-¤-¥-¦-§-¨-©-ª-«-¬-­-®-¯-°-±-²-³-´-µ-¶-·-¸-¹-º-»-¼-½-¾-¿-À-Á-Â-Ã-Ä------------------------------------------------------------------------------\n",
            "----------------------------------------------------------------------------Ä-Ã-Â-Á-À-¿-¾-½-¼-»-º-¹-¸-·-¶-µ-´-³-²-±-°-¯-®-­-¬-«-ª-©-¨-§-¦-¥-¤-£-¢-¡- -------------------------------------------------- -¡-¢-£-¤-¥-¦-§-¨-©-ª-«-¬-­-®-¯-°-±-²-³-´-µ-¶-·-¸-¹-º-»-¼-½-¾-¿-À-Á-Â-Ã-Ä----------------------------------------------------------------------------\n",
            "--------------------------------------------------------------------------Ä-Ã-Â-Á-À-¿-¾-½-¼-»-º-¹-¸-·-¶-µ-´-³-²-±-°-¯-®-­-¬-«-ª-©-¨-§-¦-¥-¤-£-¢-¡- ---------------------------------------------------- -¡-¢-£-¤-¥-¦-§-¨-©-ª-«-¬-­-®-¯-°-±-²-³-´-µ-¶-·-¸-¹-º-»-¼-½-¾-¿-À-Á-Â-Ã-Ä--------------------------------------------------------------------------\n",
            "------------------------------------------------------------------------Ä-Ã-Â-Á-À-¿-¾-½-¼-»-º-¹-¸-·-¶-µ-´-³-²-±-°-¯-®-­-¬-«-ª-©-¨-§-¦-¥-¤-£-¢-¡- ------------------------------------------------------ -¡-¢-£-¤-¥-¦-§-¨-©-ª-«-¬-­-®-¯-°-±-²-³-´-µ-¶-·-¸-¹-º-»-¼-½-¾-¿-À-Á-Â-Ã-Ä------------------------------------------------------------------------\n",
            "----------------------------------------------------------------------Ä-Ã-Â-Á-À-¿-¾-½-¼-»-º-¹-¸-·-¶-µ-´-³-²-±-°-¯-®-­-¬-«-ª-©-¨-§-¦-¥-¤-£-¢-¡- -------------------------------------------------------- -¡-¢-£-¤-¥-¦-§-¨-©-ª-«-¬-­-®-¯-°-±-²-³-´-µ-¶-·-¸-¹-º-»-¼-½-¾-¿-À-Á-Â-Ã-Ä----------------------------------------------------------------------\n",
            "--------------------------------------------------------------------Ä-Ã-Â-Á-À-¿-¾-½-¼-»-º-¹-¸-·-¶-µ-´-³-²-±-°-¯-®-­-¬-«-ª-©-¨-§-¦-¥-¤-£-¢-¡- ---------------------------------------------------------- -¡-¢-£-¤-¥-¦-§-¨-©-ª-«-¬-­-®-¯-°-±-²-³-´-µ-¶-·-¸-¹-º-»-¼-½-¾-¿-À-Á-Â-Ã-Ä--------------------------------------------------------------------\n",
            "------------------------------------------------------------------Ä-Ã-Â-Á-À-¿-¾-½-¼-»-º-¹-¸-·-¶-µ-´-³-²-±-°-¯-®-­-¬-«-ª-©-¨-§-¦-¥-¤-£-¢-¡- ------------------------------------------------------------ -¡-¢-£-¤-¥-¦-§-¨-©-ª-«-¬-­-®-¯-°-±-²-³-´-µ-¶-·-¸-¹-º-»-¼-½-¾-¿-À-Á-Â-Ã-Ä------------------------------------------------------------------\n",
            "----------------------------------------------------------------Ä-Ã-Â-Á-À-¿-¾-½-¼-»-º-¹-¸-·-¶-µ-´-³-²-±-°-¯-®-­-¬-«-ª-©-¨-§-¦-¥-¤-£-¢-¡- -------------------------------------------------------------- -¡-¢-£-¤-¥-¦-§-¨-©-ª-«-¬-­-®-¯-°-±-²-³-´-µ-¶-·-¸-¹-º-»-¼-½-¾-¿-À-Á-Â-Ã-Ä----------------------------------------------------------------\n",
            "--------------------------------------------------------------Ä-Ã-Â-Á-À-¿-¾-½-¼-»-º-¹-¸-·-¶-µ-´-³-²-±-°-¯-®-­-¬-«-ª-©-¨-§-¦-¥-¤-£-¢-¡- ---------------------------------------------------------------- -¡-¢-£-¤-¥-¦-§-¨-©-ª-«-¬-­-®-¯-°-±-²-³-´-µ-¶-·-¸-¹-º-»-¼-½-¾-¿-À-Á-Â-Ã-Ä--------------------------------------------------------------\n",
            "------------------------------------------------------------Ä-Ã-Â-Á-À-¿-¾-½-¼-»-º-¹-¸-·-¶-µ-´-³-²-±-°-¯-®-­-¬-«-ª-©-¨-§-¦-¥-¤-£-¢-¡- ------------------------------------------------------------------ -¡-¢-£-¤-¥-¦-§-¨-©-ª-«-¬-­-®-¯-°-±-²-³-´-µ-¶-·-¸-¹-º-»-¼-½-¾-¿-À-Á-Â-Ã-Ä------------------------------------------------------------\n",
            "----------------------------------------------------------Ä-Ã-Â-Á-À-¿-¾-½-¼-»-º-¹-¸-·-¶-µ-´-³-²-±-°-¯-®-­-¬-«-ª-©-¨-§-¦-¥-¤-£-¢-¡- ----------------------------------~---------------------------------- -¡-¢-£-¤-¥-¦-§-¨-©-ª-«-¬-­-®-¯-°-±-²-³-´-µ-¶-·-¸-¹-º-»-¼-½-¾-¿-À-Á-Â-Ã-Ä----------------------------------------------------------\n",
            "--------------------------------------------------------Ä-Ã-Â-Á-À-¿-¾-½-¼-»-º-¹-¸-·-¶-µ-´-³-²-±-°-¯-®-­-¬-«-ª-©-¨-§-¦-¥-¤-£-¢-¡- ----------------------------------~-}-~---------------------------------- -¡-¢-£-¤-¥-¦-§-¨-©-ª-«-¬-­-®-¯-°-±-²-³-´-µ-¶-·-¸-¹-º-»-¼-½-¾-¿-À-Á-Â-Ã-Ä--------------------------------------------------------\n",
            "------------------------------------------------------Ä-Ã-Â-Á-À-¿-¾-½-¼-»-º-¹-¸-·-¶-µ-´-³-²-±-°-¯-®-­-¬-«-ª-©-¨-§-¦-¥-¤-£-¢-¡- ----------------------------------~-}-|-}-~---------------------------------- -¡-¢-£-¤-¥-¦-§-¨-©-ª-«-¬-­-®-¯-°-±-²-³-´-µ-¶-·-¸-¹-º-»-¼-½-¾-¿-À-Á-Â-Ã-Ä------------------------------------------------------\n",
            "----------------------------------------------------Ä-Ã-Â-Á-À-¿-¾-½-¼-»-º-¹-¸-·-¶-µ-´-³-²-±-°-¯-®-­-¬-«-ª-©-¨-§-¦-¥-¤-£-¢-¡- ----------------------------------~-}-|-{-|-}-~---------------------------------- -¡-¢-£-¤-¥-¦-§-¨-©-ª-«-¬-­-®-¯-°-±-²-³-´-µ-¶-·-¸-¹-º-»-¼-½-¾-¿-À-Á-Â-Ã-Ä----------------------------------------------------\n",
            "--------------------------------------------------Ä-Ã-Â-Á-À-¿-¾-½-¼-»-º-¹-¸-·-¶-µ-´-³-²-±-°-¯-®-­-¬-«-ª-©-¨-§-¦-¥-¤-£-¢-¡- ----------------------------------~-}-|-{-z-{-|-}-~---------------------------------- -¡-¢-£-¤-¥-¦-§-¨-©-ª-«-¬-­-®-¯-°-±-²-³-´-µ-¶-·-¸-¹-º-»-¼-½-¾-¿-À-Á-Â-Ã-Ä--------------------------------------------------\n",
            "------------------------------------------------Ä-Ã-Â-Á-À-¿-¾-½-¼-»-º-¹-¸-·-¶-µ-´-³-²-±-°-¯-®-­-¬-«-ª-©-¨-§-¦-¥-¤-£-¢-¡- ----------------------------------~-}-|-{-z-y-z-{-|-}-~---------------------------------- -¡-¢-£-¤-¥-¦-§-¨-©-ª-«-¬-­-®-¯-°-±-²-³-´-µ-¶-·-¸-¹-º-»-¼-½-¾-¿-À-Á-Â-Ã-Ä------------------------------------------------\n",
            "----------------------------------------------Ä-Ã-Â-Á-À-¿-¾-½-¼-»-º-¹-¸-·-¶-µ-´-³-²-±-°-¯-®-­-¬-«-ª-©-¨-§-¦-¥-¤-£-¢-¡- ----------------------------------~-}-|-{-z-y-x-y-z-{-|-}-~---------------------------------- -¡-¢-£-¤-¥-¦-§-¨-©-ª-«-¬-­-®-¯-°-±-²-³-´-µ-¶-·-¸-¹-º-»-¼-½-¾-¿-À-Á-Â-Ã-Ä----------------------------------------------\n",
            "--------------------------------------------Ä-Ã-Â-Á-À-¿-¾-½-¼-»-º-¹-¸-·-¶-µ-´-³-²-±-°-¯-®-­-¬-«-ª-©-¨-§-¦-¥-¤-£-¢-¡- ----------------------------------~-}-|-{-z-y-x-w-x-y-z-{-|-}-~---------------------------------- -¡-¢-£-¤-¥-¦-§-¨-©-ª-«-¬-­-®-¯-°-±-²-³-´-µ-¶-·-¸-¹-º-»-¼-½-¾-¿-À-Á-Â-Ã-Ä--------------------------------------------\n",
            "------------------------------------------Ä-Ã-Â-Á-À-¿-¾-½-¼-»-º-¹-¸-·-¶-µ-´-³-²-±-°-¯-®-­-¬-«-ª-©-¨-§-¦-¥-¤-£-¢-¡- ----------------------------------~-}-|-{-z-y-x-w-v-w-x-y-z-{-|-}-~---------------------------------- -¡-¢-£-¤-¥-¦-§-¨-©-ª-«-¬-­-®-¯-°-±-²-³-´-µ-¶-·-¸-¹-º-»-¼-½-¾-¿-À-Á-Â-Ã-Ä------------------------------------------\n",
            "----------------------------------------Ä-Ã-Â-Á-À-¿-¾-½-¼-»-º-¹-¸-·-¶-µ-´-³-²-±-°-¯-®-­-¬-«-ª-©-¨-§-¦-¥-¤-£-¢-¡- ----------------------------------~-}-|-{-z-y-x-w-v-u-v-w-x-y-z-{-|-}-~---------------------------------- -¡-¢-£-¤-¥-¦-§-¨-©-ª-«-¬-­-®-¯-°-±-²-³-´-µ-¶-·-¸-¹-º-»-¼-½-¾-¿-À-Á-Â-Ã-Ä----------------------------------------\n",
            "--------------------------------------Ä-Ã-Â-Á-À-¿-¾-½-¼-»-º-¹-¸-·-¶-µ-´-³-²-±-°-¯-®-­-¬-«-ª-©-¨-§-¦-¥-¤-£-¢-¡- ----------------------------------~-}-|-{-z-y-x-w-v-u-t-u-v-w-x-y-z-{-|-}-~---------------------------------- -¡-¢-£-¤-¥-¦-§-¨-©-ª-«-¬-­-®-¯-°-±-²-³-´-µ-¶-·-¸-¹-º-»-¼-½-¾-¿-À-Á-Â-Ã-Ä--------------------------------------\n",
            "------------------------------------Ä-Ã-Â-Á-À-¿-¾-½-¼-»-º-¹-¸-·-¶-µ-´-³-²-±-°-¯-®-­-¬-«-ª-©-¨-§-¦-¥-¤-£-¢-¡- ----------------------------------~-}-|-{-z-y-x-w-v-u-t-s-t-u-v-w-x-y-z-{-|-}-~---------------------------------- -¡-¢-£-¤-¥-¦-§-¨-©-ª-«-¬-­-®-¯-°-±-²-³-´-µ-¶-·-¸-¹-º-»-¼-½-¾-¿-À-Á-Â-Ã-Ä------------------------------------\n",
            "----------------------------------Ä-Ã-Â-Á-À-¿-¾-½-¼-»-º-¹-¸-·-¶-µ-´-³-²-±-°-¯-®-­-¬-«-ª-©-¨-§-¦-¥-¤-£-¢-¡- ----------------------------------~-}-|-{-z-y-x-w-v-u-t-s-r-s-t-u-v-w-x-y-z-{-|-}-~---------------------------------- -¡-¢-£-¤-¥-¦-§-¨-©-ª-«-¬-­-®-¯-°-±-²-³-´-µ-¶-·-¸-¹-º-»-¼-½-¾-¿-À-Á-Â-Ã-Ä----------------------------------\n",
            "--------------------------------Ä-Ã-Â-Á-À-¿-¾-½-¼-»-º-¹-¸-·-¶-µ-´-³-²-±-°-¯-®-­-¬-«-ª-©-¨-§-¦-¥-¤-£-¢-¡- ----------------------------------~-}-|-{-z-y-x-w-v-u-t-s-r-q-r-s-t-u-v-w-x-y-z-{-|-}-~---------------------------------- -¡-¢-£-¤-¥-¦-§-¨-©-ª-«-¬-­-®-¯-°-±-²-³-´-µ-¶-·-¸-¹-º-»-¼-½-¾-¿-À-Á-Â-Ã-Ä--------------------------------\n",
            "------------------------------Ä-Ã-Â-Á-À-¿-¾-½-¼-»-º-¹-¸-·-¶-µ-´-³-²-±-°-¯-®-­-¬-«-ª-©-¨-§-¦-¥-¤-£-¢-¡- ----------------------------------~-}-|-{-z-y-x-w-v-u-t-s-r-q-p-q-r-s-t-u-v-w-x-y-z-{-|-}-~---------------------------------- -¡-¢-£-¤-¥-¦-§-¨-©-ª-«-¬-­-®-¯-°-±-²-³-´-µ-¶-·-¸-¹-º-»-¼-½-¾-¿-À-Á-Â-Ã-Ä------------------------------\n",
            "----------------------------Ä-Ã-Â-Á-À-¿-¾-½-¼-»-º-¹-¸-·-¶-µ-´-³-²-±-°-¯-®-­-¬-«-ª-©-¨-§-¦-¥-¤-£-¢-¡- ----------------------------------~-}-|-{-z-y-x-w-v-u-t-s-r-q-p-o-p-q-r-s-t-u-v-w-x-y-z-{-|-}-~---------------------------------- -¡-¢-£-¤-¥-¦-§-¨-©-ª-«-¬-­-®-¯-°-±-²-³-´-µ-¶-·-¸-¹-º-»-¼-½-¾-¿-À-Á-Â-Ã-Ä----------------------------\n",
            "--------------------------Ä-Ã-Â-Á-À-¿-¾-½-¼-»-º-¹-¸-·-¶-µ-´-³-²-±-°-¯-®-­-¬-«-ª-©-¨-§-¦-¥-¤-£-¢-¡- ----------------------------------~-}-|-{-z-y-x-w-v-u-t-s-r-q-p-o-n-o-p-q-r-s-t-u-v-w-x-y-z-{-|-}-~---------------------------------- -¡-¢-£-¤-¥-¦-§-¨-©-ª-«-¬-­-®-¯-°-±-²-³-´-µ-¶-·-¸-¹-º-»-¼-½-¾-¿-À-Á-Â-Ã-Ä--------------------------\n",
            "------------------------Ä-Ã-Â-Á-À-¿-¾-½-¼-»-º-¹-¸-·-¶-µ-´-³-²-±-°-¯-®-­-¬-«-ª-©-¨-§-¦-¥-¤-£-¢-¡- ----------------------------------~-}-|-{-z-y-x-w-v-u-t-s-r-q-p-o-n-m-n-o-p-q-r-s-t-u-v-w-x-y-z-{-|-}-~---------------------------------- -¡-¢-£-¤-¥-¦-§-¨-©-ª-«-¬-­-®-¯-°-±-²-³-´-µ-¶-·-¸-¹-º-»-¼-½-¾-¿-À-Á-Â-Ã-Ä------------------------\n",
            "----------------------Ä-Ã-Â-Á-À-¿-¾-½-¼-»-º-¹-¸-·-¶-µ-´-³-²-±-°-¯-®-­-¬-«-ª-©-¨-§-¦-¥-¤-£-¢-¡- ----------------------------------~-}-|-{-z-y-x-w-v-u-t-s-r-q-p-o-n-m-l-m-n-o-p-q-r-s-t-u-v-w-x-y-z-{-|-}-~---------------------------------- -¡-¢-£-¤-¥-¦-§-¨-©-ª-«-¬-­-®-¯-°-±-²-³-´-µ-¶-·-¸-¹-º-»-¼-½-¾-¿-À-Á-Â-Ã-Ä----------------------\n",
            "--------------------Ä-Ã-Â-Á-À-¿-¾-½-¼-»-º-¹-¸-·-¶-µ-´-³-²-±-°-¯-®-­-¬-«-ª-©-¨-§-¦-¥-¤-£-¢-¡- ----------------------------------~-}-|-{-z-y-x-w-v-u-t-s-r-q-p-o-n-m-l-k-l-m-n-o-p-q-r-s-t-u-v-w-x-y-z-{-|-}-~---------------------------------- -¡-¢-£-¤-¥-¦-§-¨-©-ª-«-¬-­-®-¯-°-±-²-³-´-µ-¶-·-¸-¹-º-»-¼-½-¾-¿-À-Á-Â-Ã-Ä--------------------\n",
            "------------------Ä-Ã-Â-Á-À-¿-¾-½-¼-»-º-¹-¸-·-¶-µ-´-³-²-±-°-¯-®-­-¬-«-ª-©-¨-§-¦-¥-¤-£-¢-¡- ----------------------------------~-}-|-{-z-y-x-w-v-u-t-s-r-q-p-o-n-m-l-k-j-k-l-m-n-o-p-q-r-s-t-u-v-w-x-y-z-{-|-}-~---------------------------------- -¡-¢-£-¤-¥-¦-§-¨-©-ª-«-¬-­-®-¯-°-±-²-³-´-µ-¶-·-¸-¹-º-»-¼-½-¾-¿-À-Á-Â-Ã-Ä------------------\n",
            "----------------Ä-Ã-Â-Á-À-¿-¾-½-¼-»-º-¹-¸-·-¶-µ-´-³-²-±-°-¯-®-­-¬-«-ª-©-¨-§-¦-¥-¤-£-¢-¡- ----------------------------------~-}-|-{-z-y-x-w-v-u-t-s-r-q-p-o-n-m-l-k-j-i-j-k-l-m-n-o-p-q-r-s-t-u-v-w-x-y-z-{-|-}-~---------------------------------- -¡-¢-£-¤-¥-¦-§-¨-©-ª-«-¬-­-®-¯-°-±-²-³-´-µ-¶-·-¸-¹-º-»-¼-½-¾-¿-À-Á-Â-Ã-Ä----------------\n",
            "--------------Ä-Ã-Â-Á-À-¿-¾-½-¼-»-º-¹-¸-·-¶-µ-´-³-²-±-°-¯-®-­-¬-«-ª-©-¨-§-¦-¥-¤-£-¢-¡- ----------------------------------~-}-|-{-z-y-x-w-v-u-t-s-r-q-p-o-n-m-l-k-j-i-h-i-j-k-l-m-n-o-p-q-r-s-t-u-v-w-x-y-z-{-|-}-~---------------------------------- -¡-¢-£-¤-¥-¦-§-¨-©-ª-«-¬-­-®-¯-°-±-²-³-´-µ-¶-·-¸-¹-º-»-¼-½-¾-¿-À-Á-Â-Ã-Ä--------------\n",
            "------------Ä-Ã-Â-Á-À-¿-¾-½-¼-»-º-¹-¸-·-¶-µ-´-³-²-±-°-¯-®-­-¬-«-ª-©-¨-§-¦-¥-¤-£-¢-¡- ----------------------------------~-}-|-{-z-y-x-w-v-u-t-s-r-q-p-o-n-m-l-k-j-i-h-g-h-i-j-k-l-m-n-o-p-q-r-s-t-u-v-w-x-y-z-{-|-}-~---------------------------------- -¡-¢-£-¤-¥-¦-§-¨-©-ª-«-¬-­-®-¯-°-±-²-³-´-µ-¶-·-¸-¹-º-»-¼-½-¾-¿-À-Á-Â-Ã-Ä------------\n",
            "----------Ä-Ã-Â-Á-À-¿-¾-½-¼-»-º-¹-¸-·-¶-µ-´-³-²-±-°-¯-®-­-¬-«-ª-©-¨-§-¦-¥-¤-£-¢-¡- ----------------------------------~-}-|-{-z-y-x-w-v-u-t-s-r-q-p-o-n-m-l-k-j-i-h-g-f-g-h-i-j-k-l-m-n-o-p-q-r-s-t-u-v-w-x-y-z-{-|-}-~---------------------------------- -¡-¢-£-¤-¥-¦-§-¨-©-ª-«-¬-­-®-¯-°-±-²-³-´-µ-¶-·-¸-¹-º-»-¼-½-¾-¿-À-Á-Â-Ã-Ä----------\n",
            "--------Ä-Ã-Â-Á-À-¿-¾-½-¼-»-º-¹-¸-·-¶-µ-´-³-²-±-°-¯-®-­-¬-«-ª-©-¨-§-¦-¥-¤-£-¢-¡- ----------------------------------~-}-|-{-z-y-x-w-v-u-t-s-r-q-p-o-n-m-l-k-j-i-h-g-f-e-f-g-h-i-j-k-l-m-n-o-p-q-r-s-t-u-v-w-x-y-z-{-|-}-~---------------------------------- -¡-¢-£-¤-¥-¦-§-¨-©-ª-«-¬-­-®-¯-°-±-²-³-´-µ-¶-·-¸-¹-º-»-¼-½-¾-¿-À-Á-Â-Ã-Ä--------\n",
            "------Ä-Ã-Â-Á-À-¿-¾-½-¼-»-º-¹-¸-·-¶-µ-´-³-²-±-°-¯-®-­-¬-«-ª-©-¨-§-¦-¥-¤-£-¢-¡- ----------------------------------~-}-|-{-z-y-x-w-v-u-t-s-r-q-p-o-n-m-l-k-j-i-h-g-f-e-d-e-f-g-h-i-j-k-l-m-n-o-p-q-r-s-t-u-v-w-x-y-z-{-|-}-~---------------------------------- -¡-¢-£-¤-¥-¦-§-¨-©-ª-«-¬-­-®-¯-°-±-²-³-´-µ-¶-·-¸-¹-º-»-¼-½-¾-¿-À-Á-Â-Ã-Ä------\n",
            "----Ä-Ã-Â-Á-À-¿-¾-½-¼-»-º-¹-¸-·-¶-µ-´-³-²-±-°-¯-®-­-¬-«-ª-©-¨-§-¦-¥-¤-£-¢-¡- ----------------------------------~-}-|-{-z-y-x-w-v-u-t-s-r-q-p-o-n-m-l-k-j-i-h-g-f-e-d-c-d-e-f-g-h-i-j-k-l-m-n-o-p-q-r-s-t-u-v-w-x-y-z-{-|-}-~---------------------------------- -¡-¢-£-¤-¥-¦-§-¨-©-ª-«-¬-­-®-¯-°-±-²-³-´-µ-¶-·-¸-¹-º-»-¼-½-¾-¿-À-Á-Â-Ã-Ä----\n",
            "--Ä-Ã-Â-Á-À-¿-¾-½-¼-»-º-¹-¸-·-¶-µ-´-³-²-±-°-¯-®-­-¬-«-ª-©-¨-§-¦-¥-¤-£-¢-¡- ----------------------------------~-}-|-{-z-y-x-w-v-u-t-s-r-q-p-o-n-m-l-k-j-i-h-g-f-e-d-c-b-c-d-e-f-g-h-i-j-k-l-m-n-o-p-q-r-s-t-u-v-w-x-y-z-{-|-}-~---------------------------------- -¡-¢-£-¤-¥-¦-§-¨-©-ª-«-¬-­-®-¯-°-±-²-³-´-µ-¶-·-¸-¹-º-»-¼-½-¾-¿-À-Á-Â-Ã-Ä--\n",
            "Ä-Ã-Â-Á-À-¿-¾-½-¼-»-º-¹-¸-·-¶-µ-´-³-²-±-°-¯-®-­-¬-«-ª-©-¨-§-¦-¥-¤-£-¢-¡- ----------------------------------~-}-|-{-z-y-x-w-v-u-t-s-r-q-p-o-n-m-l-k-j-i-h-g-f-e-d-c-b-a-b-c-d-e-f-g-h-i-j-k-l-m-n-o-p-q-r-s-t-u-v-w-x-y-z-{-|-}-~---------------------------------- -¡-¢-£-¤-¥-¦-§-¨-©-ª-«-¬-­-®-¯-°-±-²-³-´-µ-¶-·-¸-¹-º-»-¼-½-¾-¿-À-Á-Â-Ã-Ä\n",
            "--Ä-Ã-Â-Á-À-¿-¾-½-¼-»-º-¹-¸-·-¶-µ-´-³-²-±-°-¯-®-­-¬-«-ª-©-¨-§-¦-¥-¤-£-¢-¡- ----------------------------------~-}-|-{-z-y-x-w-v-u-t-s-r-q-p-o-n-m-l-k-j-i-h-g-f-e-d-c-b-c-d-e-f-g-h-i-j-k-l-m-n-o-p-q-r-s-t-u-v-w-x-y-z-{-|-}-~---------------------------------- -¡-¢-£-¤-¥-¦-§-¨-©-ª-«-¬-­-®-¯-°-±-²-³-´-µ-¶-·-¸-¹-º-»-¼-½-¾-¿-À-Á-Â-Ã-Ä--\n",
            "----Ä-Ã-Â-Á-À-¿-¾-½-¼-»-º-¹-¸-·-¶-µ-´-³-²-±-°-¯-®-­-¬-«-ª-©-¨-§-¦-¥-¤-£-¢-¡- ----------------------------------~-}-|-{-z-y-x-w-v-u-t-s-r-q-p-o-n-m-l-k-j-i-h-g-f-e-d-c-d-e-f-g-h-i-j-k-l-m-n-o-p-q-r-s-t-u-v-w-x-y-z-{-|-}-~---------------------------------- -¡-¢-£-¤-¥-¦-§-¨-©-ª-«-¬-­-®-¯-°-±-²-³-´-µ-¶-·-¸-¹-º-»-¼-½-¾-¿-À-Á-Â-Ã-Ä----\n",
            "------Ä-Ã-Â-Á-À-¿-¾-½-¼-»-º-¹-¸-·-¶-µ-´-³-²-±-°-¯-®-­-¬-«-ª-©-¨-§-¦-¥-¤-£-¢-¡- ----------------------------------~-}-|-{-z-y-x-w-v-u-t-s-r-q-p-o-n-m-l-k-j-i-h-g-f-e-d-e-f-g-h-i-j-k-l-m-n-o-p-q-r-s-t-u-v-w-x-y-z-{-|-}-~---------------------------------- -¡-¢-£-¤-¥-¦-§-¨-©-ª-«-¬-­-®-¯-°-±-²-³-´-µ-¶-·-¸-¹-º-»-¼-½-¾-¿-À-Á-Â-Ã-Ä------\n",
            "--------Ä-Ã-Â-Á-À-¿-¾-½-¼-»-º-¹-¸-·-¶-µ-´-³-²-±-°-¯-®-­-¬-«-ª-©-¨-§-¦-¥-¤-£-¢-¡- ----------------------------------~-}-|-{-z-y-x-w-v-u-t-s-r-q-p-o-n-m-l-k-j-i-h-g-f-e-f-g-h-i-j-k-l-m-n-o-p-q-r-s-t-u-v-w-x-y-z-{-|-}-~---------------------------------- -¡-¢-£-¤-¥-¦-§-¨-©-ª-«-¬-­-®-¯-°-±-²-³-´-µ-¶-·-¸-¹-º-»-¼-½-¾-¿-À-Á-Â-Ã-Ä--------\n",
            "----------Ä-Ã-Â-Á-À-¿-¾-½-¼-»-º-¹-¸-·-¶-µ-´-³-²-±-°-¯-®-­-¬-«-ª-©-¨-§-¦-¥-¤-£-¢-¡- ----------------------------------~-}-|-{-z-y-x-w-v-u-t-s-r-q-p-o-n-m-l-k-j-i-h-g-f-g-h-i-j-k-l-m-n-o-p-q-r-s-t-u-v-w-x-y-z-{-|-}-~---------------------------------- -¡-¢-£-¤-¥-¦-§-¨-©-ª-«-¬-­-®-¯-°-±-²-³-´-µ-¶-·-¸-¹-º-»-¼-½-¾-¿-À-Á-Â-Ã-Ä----------\n",
            "------------Ä-Ã-Â-Á-À-¿-¾-½-¼-»-º-¹-¸-·-¶-µ-´-³-²-±-°-¯-®-­-¬-«-ª-©-¨-§-¦-¥-¤-£-¢-¡- ----------------------------------~-}-|-{-z-y-x-w-v-u-t-s-r-q-p-o-n-m-l-k-j-i-h-g-h-i-j-k-l-m-n-o-p-q-r-s-t-u-v-w-x-y-z-{-|-}-~---------------------------------- -¡-¢-£-¤-¥-¦-§-¨-©-ª-«-¬-­-®-¯-°-±-²-³-´-µ-¶-·-¸-¹-º-»-¼-½-¾-¿-À-Á-Â-Ã-Ä------------\n",
            "--------------Ä-Ã-Â-Á-À-¿-¾-½-¼-»-º-¹-¸-·-¶-µ-´-³-²-±-°-¯-®-­-¬-«-ª-©-¨-§-¦-¥-¤-£-¢-¡- ----------------------------------~-}-|-{-z-y-x-w-v-u-t-s-r-q-p-o-n-m-l-k-j-i-h-i-j-k-l-m-n-o-p-q-r-s-t-u-v-w-x-y-z-{-|-}-~---------------------------------- -¡-¢-£-¤-¥-¦-§-¨-©-ª-«-¬-­-®-¯-°-±-²-³-´-µ-¶-·-¸-¹-º-»-¼-½-¾-¿-À-Á-Â-Ã-Ä--------------\n",
            "----------------Ä-Ã-Â-Á-À-¿-¾-½-¼-»-º-¹-¸-·-¶-µ-´-³-²-±-°-¯-®-­-¬-«-ª-©-¨-§-¦-¥-¤-£-¢-¡- ----------------------------------~-}-|-{-z-y-x-w-v-u-t-s-r-q-p-o-n-m-l-k-j-i-j-k-l-m-n-o-p-q-r-s-t-u-v-w-x-y-z-{-|-}-~---------------------------------- -¡-¢-£-¤-¥-¦-§-¨-©-ª-«-¬-­-®-¯-°-±-²-³-´-µ-¶-·-¸-¹-º-»-¼-½-¾-¿-À-Á-Â-Ã-Ä----------------\n",
            "------------------Ä-Ã-Â-Á-À-¿-¾-½-¼-»-º-¹-¸-·-¶-µ-´-³-²-±-°-¯-®-­-¬-«-ª-©-¨-§-¦-¥-¤-£-¢-¡- ----------------------------------~-}-|-{-z-y-x-w-v-u-t-s-r-q-p-o-n-m-l-k-j-k-l-m-n-o-p-q-r-s-t-u-v-w-x-y-z-{-|-}-~---------------------------------- -¡-¢-£-¤-¥-¦-§-¨-©-ª-«-¬-­-®-¯-°-±-²-³-´-µ-¶-·-¸-¹-º-»-¼-½-¾-¿-À-Á-Â-Ã-Ä------------------\n",
            "--------------------Ä-Ã-Â-Á-À-¿-¾-½-¼-»-º-¹-¸-·-¶-µ-´-³-²-±-°-¯-®-­-¬-«-ª-©-¨-§-¦-¥-¤-£-¢-¡- ----------------------------------~-}-|-{-z-y-x-w-v-u-t-s-r-q-p-o-n-m-l-k-l-m-n-o-p-q-r-s-t-u-v-w-x-y-z-{-|-}-~---------------------------------- -¡-¢-£-¤-¥-¦-§-¨-©-ª-«-¬-­-®-¯-°-±-²-³-´-µ-¶-·-¸-¹-º-»-¼-½-¾-¿-À-Á-Â-Ã-Ä--------------------\n",
            "----------------------Ä-Ã-Â-Á-À-¿-¾-½-¼-»-º-¹-¸-·-¶-µ-´-³-²-±-°-¯-®-­-¬-«-ª-©-¨-§-¦-¥-¤-£-¢-¡- ----------------------------------~-}-|-{-z-y-x-w-v-u-t-s-r-q-p-o-n-m-l-m-n-o-p-q-r-s-t-u-v-w-x-y-z-{-|-}-~---------------------------------- -¡-¢-£-¤-¥-¦-§-¨-©-ª-«-¬-­-®-¯-°-±-²-³-´-µ-¶-·-¸-¹-º-»-¼-½-¾-¿-À-Á-Â-Ã-Ä----------------------\n",
            "------------------------Ä-Ã-Â-Á-À-¿-¾-½-¼-»-º-¹-¸-·-¶-µ-´-³-²-±-°-¯-®-­-¬-«-ª-©-¨-§-¦-¥-¤-£-¢-¡- ----------------------------------~-}-|-{-z-y-x-w-v-u-t-s-r-q-p-o-n-m-n-o-p-q-r-s-t-u-v-w-x-y-z-{-|-}-~---------------------------------- -¡-¢-£-¤-¥-¦-§-¨-©-ª-«-¬-­-®-¯-°-±-²-³-´-µ-¶-·-¸-¹-º-»-¼-½-¾-¿-À-Á-Â-Ã-Ä------------------------\n",
            "--------------------------Ä-Ã-Â-Á-À-¿-¾-½-¼-»-º-¹-¸-·-¶-µ-´-³-²-±-°-¯-®-­-¬-«-ª-©-¨-§-¦-¥-¤-£-¢-¡- ----------------------------------~-}-|-{-z-y-x-w-v-u-t-s-r-q-p-o-n-o-p-q-r-s-t-u-v-w-x-y-z-{-|-}-~---------------------------------- -¡-¢-£-¤-¥-¦-§-¨-©-ª-«-¬-­-®-¯-°-±-²-³-´-µ-¶-·-¸-¹-º-»-¼-½-¾-¿-À-Á-Â-Ã-Ä--------------------------\n",
            "----------------------------Ä-Ã-Â-Á-À-¿-¾-½-¼-»-º-¹-¸-·-¶-µ-´-³-²-±-°-¯-®-­-¬-«-ª-©-¨-§-¦-¥-¤-£-¢-¡- ----------------------------------~-}-|-{-z-y-x-w-v-u-t-s-r-q-p-o-p-q-r-s-t-u-v-w-x-y-z-{-|-}-~---------------------------------- -¡-¢-£-¤-¥-¦-§-¨-©-ª-«-¬-­-®-¯-°-±-²-³-´-µ-¶-·-¸-¹-º-»-¼-½-¾-¿-À-Á-Â-Ã-Ä----------------------------\n",
            "------------------------------Ä-Ã-Â-Á-À-¿-¾-½-¼-»-º-¹-¸-·-¶-µ-´-³-²-±-°-¯-®-­-¬-«-ª-©-¨-§-¦-¥-¤-£-¢-¡- ----------------------------------~-}-|-{-z-y-x-w-v-u-t-s-r-q-p-q-r-s-t-u-v-w-x-y-z-{-|-}-~---------------------------------- -¡-¢-£-¤-¥-¦-§-¨-©-ª-«-¬-­-®-¯-°-±-²-³-´-µ-¶-·-¸-¹-º-»-¼-½-¾-¿-À-Á-Â-Ã-Ä------------------------------\n",
            "--------------------------------Ä-Ã-Â-Á-À-¿-¾-½-¼-»-º-¹-¸-·-¶-µ-´-³-²-±-°-¯-®-­-¬-«-ª-©-¨-§-¦-¥-¤-£-¢-¡- ----------------------------------~-}-|-{-z-y-x-w-v-u-t-s-r-q-r-s-t-u-v-w-x-y-z-{-|-}-~---------------------------------- -¡-¢-£-¤-¥-¦-§-¨-©-ª-«-¬-­-®-¯-°-±-²-³-´-µ-¶-·-¸-¹-º-»-¼-½-¾-¿-À-Á-Â-Ã-Ä--------------------------------\n",
            "----------------------------------Ä-Ã-Â-Á-À-¿-¾-½-¼-»-º-¹-¸-·-¶-µ-´-³-²-±-°-¯-®-­-¬-«-ª-©-¨-§-¦-¥-¤-£-¢-¡- ----------------------------------~-}-|-{-z-y-x-w-v-u-t-s-r-s-t-u-v-w-x-y-z-{-|-}-~---------------------------------- -¡-¢-£-¤-¥-¦-§-¨-©-ª-«-¬-­-®-¯-°-±-²-³-´-µ-¶-·-¸-¹-º-»-¼-½-¾-¿-À-Á-Â-Ã-Ä----------------------------------\n",
            "------------------------------------Ä-Ã-Â-Á-À-¿-¾-½-¼-»-º-¹-¸-·-¶-µ-´-³-²-±-°-¯-®-­-¬-«-ª-©-¨-§-¦-¥-¤-£-¢-¡- ----------------------------------~-}-|-{-z-y-x-w-v-u-t-s-t-u-v-w-x-y-z-{-|-}-~---------------------------------- -¡-¢-£-¤-¥-¦-§-¨-©-ª-«-¬-­-®-¯-°-±-²-³-´-µ-¶-·-¸-¹-º-»-¼-½-¾-¿-À-Á-Â-Ã-Ä------------------------------------\n",
            "--------------------------------------Ä-Ã-Â-Á-À-¿-¾-½-¼-»-º-¹-¸-·-¶-µ-´-³-²-±-°-¯-®-­-¬-«-ª-©-¨-§-¦-¥-¤-£-¢-¡- ----------------------------------~-}-|-{-z-y-x-w-v-u-t-u-v-w-x-y-z-{-|-}-~---------------------------------- -¡-¢-£-¤-¥-¦-§-¨-©-ª-«-¬-­-®-¯-°-±-²-³-´-µ-¶-·-¸-¹-º-»-¼-½-¾-¿-À-Á-Â-Ã-Ä--------------------------------------\n",
            "----------------------------------------Ä-Ã-Â-Á-À-¿-¾-½-¼-»-º-¹-¸-·-¶-µ-´-³-²-±-°-¯-®-­-¬-«-ª-©-¨-§-¦-¥-¤-£-¢-¡- ----------------------------------~-}-|-{-z-y-x-w-v-u-v-w-x-y-z-{-|-}-~---------------------------------- -¡-¢-£-¤-¥-¦-§-¨-©-ª-«-¬-­-®-¯-°-±-²-³-´-µ-¶-·-¸-¹-º-»-¼-½-¾-¿-À-Á-Â-Ã-Ä----------------------------------------\n",
            "------------------------------------------Ä-Ã-Â-Á-À-¿-¾-½-¼-»-º-¹-¸-·-¶-µ-´-³-²-±-°-¯-®-­-¬-«-ª-©-¨-§-¦-¥-¤-£-¢-¡- ----------------------------------~-}-|-{-z-y-x-w-v-w-x-y-z-{-|-}-~---------------------------------- -¡-¢-£-¤-¥-¦-§-¨-©-ª-«-¬-­-®-¯-°-±-²-³-´-µ-¶-·-¸-¹-º-»-¼-½-¾-¿-À-Á-Â-Ã-Ä------------------------------------------\n",
            "--------------------------------------------Ä-Ã-Â-Á-À-¿-¾-½-¼-»-º-¹-¸-·-¶-µ-´-³-²-±-°-¯-®-­-¬-«-ª-©-¨-§-¦-¥-¤-£-¢-¡- ----------------------------------~-}-|-{-z-y-x-w-x-y-z-{-|-}-~---------------------------------- -¡-¢-£-¤-¥-¦-§-¨-©-ª-«-¬-­-®-¯-°-±-²-³-´-µ-¶-·-¸-¹-º-»-¼-½-¾-¿-À-Á-Â-Ã-Ä--------------------------------------------\n",
            "----------------------------------------------Ä-Ã-Â-Á-À-¿-¾-½-¼-»-º-¹-¸-·-¶-µ-´-³-²-±-°-¯-®-­-¬-«-ª-©-¨-§-¦-¥-¤-£-¢-¡- ----------------------------------~-}-|-{-z-y-x-y-z-{-|-}-~---------------------------------- -¡-¢-£-¤-¥-¦-§-¨-©-ª-«-¬-­-®-¯-°-±-²-³-´-µ-¶-·-¸-¹-º-»-¼-½-¾-¿-À-Á-Â-Ã-Ä----------------------------------------------\n",
            "------------------------------------------------Ä-Ã-Â-Á-À-¿-¾-½-¼-»-º-¹-¸-·-¶-µ-´-³-²-±-°-¯-®-­-¬-«-ª-©-¨-§-¦-¥-¤-£-¢-¡- ----------------------------------~-}-|-{-z-y-z-{-|-}-~---------------------------------- -¡-¢-£-¤-¥-¦-§-¨-©-ª-«-¬-­-®-¯-°-±-²-³-´-µ-¶-·-¸-¹-º-»-¼-½-¾-¿-À-Á-Â-Ã-Ä------------------------------------------------\n",
            "--------------------------------------------------Ä-Ã-Â-Á-À-¿-¾-½-¼-»-º-¹-¸-·-¶-µ-´-³-²-±-°-¯-®-­-¬-«-ª-©-¨-§-¦-¥-¤-£-¢-¡- ----------------------------------~-}-|-{-z-{-|-}-~---------------------------------- -¡-¢-£-¤-¥-¦-§-¨-©-ª-«-¬-­-®-¯-°-±-²-³-´-µ-¶-·-¸-¹-º-»-¼-½-¾-¿-À-Á-Â-Ã-Ä--------------------------------------------------\n",
            "----------------------------------------------------Ä-Ã-Â-Á-À-¿-¾-½-¼-»-º-¹-¸-·-¶-µ-´-³-²-±-°-¯-®-­-¬-«-ª-©-¨-§-¦-¥-¤-£-¢-¡- ----------------------------------~-}-|-{-|-}-~---------------------------------- -¡-¢-£-¤-¥-¦-§-¨-©-ª-«-¬-­-®-¯-°-±-²-³-´-µ-¶-·-¸-¹-º-»-¼-½-¾-¿-À-Á-Â-Ã-Ä----------------------------------------------------\n",
            "------------------------------------------------------Ä-Ã-Â-Á-À-¿-¾-½-¼-»-º-¹-¸-·-¶-µ-´-³-²-±-°-¯-®-­-¬-«-ª-©-¨-§-¦-¥-¤-£-¢-¡- ----------------------------------~-}-|-}-~---------------------------------- -¡-¢-£-¤-¥-¦-§-¨-©-ª-«-¬-­-®-¯-°-±-²-³-´-µ-¶-·-¸-¹-º-»-¼-½-¾-¿-À-Á-Â-Ã-Ä------------------------------------------------------\n",
            "--------------------------------------------------------Ä-Ã-Â-Á-À-¿-¾-½-¼-»-º-¹-¸-·-¶-µ-´-³-²-±-°-¯-®-­-¬-«-ª-©-¨-§-¦-¥-¤-£-¢-¡- ----------------------------------~-}-~---------------------------------- -¡-¢-£-¤-¥-¦-§-¨-©-ª-«-¬-­-®-¯-°-±-²-³-´-µ-¶-·-¸-¹-º-»-¼-½-¾-¿-À-Á-Â-Ã-Ä--------------------------------------------------------\n",
            "----------------------------------------------------------Ä-Ã-Â-Á-À-¿-¾-½-¼-»-º-¹-¸-·-¶-µ-´-³-²-±-°-¯-®-­-¬-«-ª-©-¨-§-¦-¥-¤-£-¢-¡- ----------------------------------~---------------------------------- -¡-¢-£-¤-¥-¦-§-¨-©-ª-«-¬-­-®-¯-°-±-²-³-´-µ-¶-·-¸-¹-º-»-¼-½-¾-¿-À-Á-Â-Ã-Ä----------------------------------------------------------\n",
            "------------------------------------------------------------Ä-Ã-Â-Á-À-¿-¾-½-¼-»-º-¹-¸-·-¶-µ-´-³-²-±-°-¯-®-­-¬-«-ª-©-¨-§-¦-¥-¤-£-¢-¡- ------------------------------------------------------------------ -¡-¢-£-¤-¥-¦-§-¨-©-ª-«-¬-­-®-¯-°-±-²-³-´-µ-¶-·-¸-¹-º-»-¼-½-¾-¿-À-Á-Â-Ã-Ä------------------------------------------------------------\n",
            "--------------------------------------------------------------Ä-Ã-Â-Á-À-¿-¾-½-¼-»-º-¹-¸-·-¶-µ-´-³-²-±-°-¯-®-­-¬-«-ª-©-¨-§-¦-¥-¤-£-¢-¡- ---------------------------------------------------------------- -¡-¢-£-¤-¥-¦-§-¨-©-ª-«-¬-­-®-¯-°-±-²-³-´-µ-¶-·-¸-¹-º-»-¼-½-¾-¿-À-Á-Â-Ã-Ä--------------------------------------------------------------\n",
            "----------------------------------------------------------------Ä-Ã-Â-Á-À-¿-¾-½-¼-»-º-¹-¸-·-¶-µ-´-³-²-±-°-¯-®-­-¬-«-ª-©-¨-§-¦-¥-¤-£-¢-¡- -------------------------------------------------------------- -¡-¢-£-¤-¥-¦-§-¨-©-ª-«-¬-­-®-¯-°-±-²-³-´-µ-¶-·-¸-¹-º-»-¼-½-¾-¿-À-Á-Â-Ã-Ä----------------------------------------------------------------\n",
            "------------------------------------------------------------------Ä-Ã-Â-Á-À-¿-¾-½-¼-»-º-¹-¸-·-¶-µ-´-³-²-±-°-¯-®-­-¬-«-ª-©-¨-§-¦-¥-¤-£-¢-¡- ------------------------------------------------------------ -¡-¢-£-¤-¥-¦-§-¨-©-ª-«-¬-­-®-¯-°-±-²-³-´-µ-¶-·-¸-¹-º-»-¼-½-¾-¿-À-Á-Â-Ã-Ä------------------------------------------------------------------\n",
            "--------------------------------------------------------------------Ä-Ã-Â-Á-À-¿-¾-½-¼-»-º-¹-¸-·-¶-µ-´-³-²-±-°-¯-®-­-¬-«-ª-©-¨-§-¦-¥-¤-£-¢-¡- ---------------------------------------------------------- -¡-¢-£-¤-¥-¦-§-¨-©-ª-«-¬-­-®-¯-°-±-²-³-´-µ-¶-·-¸-¹-º-»-¼-½-¾-¿-À-Á-Â-Ã-Ä--------------------------------------------------------------------\n",
            "----------------------------------------------------------------------Ä-Ã-Â-Á-À-¿-¾-½-¼-»-º-¹-¸-·-¶-µ-´-³-²-±-°-¯-®-­-¬-«-ª-©-¨-§-¦-¥-¤-£-¢-¡- -------------------------------------------------------- -¡-¢-£-¤-¥-¦-§-¨-©-ª-«-¬-­-®-¯-°-±-²-³-´-µ-¶-·-¸-¹-º-»-¼-½-¾-¿-À-Á-Â-Ã-Ä----------------------------------------------------------------------\n",
            "------------------------------------------------------------------------Ä-Ã-Â-Á-À-¿-¾-½-¼-»-º-¹-¸-·-¶-µ-´-³-²-±-°-¯-®-­-¬-«-ª-©-¨-§-¦-¥-¤-£-¢-¡- ------------------------------------------------------ -¡-¢-£-¤-¥-¦-§-¨-©-ª-«-¬-­-®-¯-°-±-²-³-´-µ-¶-·-¸-¹-º-»-¼-½-¾-¿-À-Á-Â-Ã-Ä------------------------------------------------------------------------\n",
            "--------------------------------------------------------------------------Ä-Ã-Â-Á-À-¿-¾-½-¼-»-º-¹-¸-·-¶-µ-´-³-²-±-°-¯-®-­-¬-«-ª-©-¨-§-¦-¥-¤-£-¢-¡- ---------------------------------------------------- -¡-¢-£-¤-¥-¦-§-¨-©-ª-«-¬-­-®-¯-°-±-²-³-´-µ-¶-·-¸-¹-º-»-¼-½-¾-¿-À-Á-Â-Ã-Ä--------------------------------------------------------------------------\n",
            "----------------------------------------------------------------------------Ä-Ã-Â-Á-À-¿-¾-½-¼-»-º-¹-¸-·-¶-µ-´-³-²-±-°-¯-®-­-¬-«-ª-©-¨-§-¦-¥-¤-£-¢-¡- -------------------------------------------------- -¡-¢-£-¤-¥-¦-§-¨-©-ª-«-¬-­-®-¯-°-±-²-³-´-µ-¶-·-¸-¹-º-»-¼-½-¾-¿-À-Á-Â-Ã-Ä----------------------------------------------------------------------------\n",
            "------------------------------------------------------------------------------Ä-Ã-Â-Á-À-¿-¾-½-¼-»-º-¹-¸-·-¶-µ-´-³-²-±-°-¯-®-­-¬-«-ª-©-¨-§-¦-¥-¤-£-¢-¡- ------------------------------------------------ -¡-¢-£-¤-¥-¦-§-¨-©-ª-«-¬-­-®-¯-°-±-²-³-´-µ-¶-·-¸-¹-º-»-¼-½-¾-¿-À-Á-Â-Ã-Ä------------------------------------------------------------------------------\n",
            "--------------------------------------------------------------------------------Ä-Ã-Â-Á-À-¿-¾-½-¼-»-º-¹-¸-·-¶-µ-´-³-²-±-°-¯-®-­-¬-«-ª-©-¨-§-¦-¥-¤-£-¢-¡- ---------------------------------------------- -¡-¢-£-¤-¥-¦-§-¨-©-ª-«-¬-­-®-¯-°-±-²-³-´-µ-¶-·-¸-¹-º-»-¼-½-¾-¿-À-Á-Â-Ã-Ä--------------------------------------------------------------------------------\n",
            "----------------------------------------------------------------------------------Ä-Ã-Â-Á-À-¿-¾-½-¼-»-º-¹-¸-·-¶-µ-´-³-²-±-°-¯-®-­-¬-«-ª-©-¨-§-¦-¥-¤-£-¢-¡- -------------------------------------------- -¡-¢-£-¤-¥-¦-§-¨-©-ª-«-¬-­-®-¯-°-±-²-³-´-µ-¶-·-¸-¹-º-»-¼-½-¾-¿-À-Á-Â-Ã-Ä----------------------------------------------------------------------------------\n",
            "------------------------------------------------------------------------------------Ä-Ã-Â-Á-À-¿-¾-½-¼-»-º-¹-¸-·-¶-µ-´-³-²-±-°-¯-®-­-¬-«-ª-©-¨-§-¦-¥-¤-£-¢-¡- ------------------------------------------ -¡-¢-£-¤-¥-¦-§-¨-©-ª-«-¬-­-®-¯-°-±-²-³-´-µ-¶-·-¸-¹-º-»-¼-½-¾-¿-À-Á-Â-Ã-Ä------------------------------------------------------------------------------------\n",
            "--------------------------------------------------------------------------------------Ä-Ã-Â-Á-À-¿-¾-½-¼-»-º-¹-¸-·-¶-µ-´-³-²-±-°-¯-®-­-¬-«-ª-©-¨-§-¦-¥-¤-£-¢-¡- ---------------------------------------- -¡-¢-£-¤-¥-¦-§-¨-©-ª-«-¬-­-®-¯-°-±-²-³-´-µ-¶-·-¸-¹-º-»-¼-½-¾-¿-À-Á-Â-Ã-Ä--------------------------------------------------------------------------------------\n",
            "----------------------------------------------------------------------------------------Ä-Ã-Â-Á-À-¿-¾-½-¼-»-º-¹-¸-·-¶-µ-´-³-²-±-°-¯-®-­-¬-«-ª-©-¨-§-¦-¥-¤-£-¢-¡- -------------------------------------- -¡-¢-£-¤-¥-¦-§-¨-©-ª-«-¬-­-®-¯-°-±-²-³-´-µ-¶-·-¸-¹-º-»-¼-½-¾-¿-À-Á-Â-Ã-Ä----------------------------------------------------------------------------------------\n",
            "------------------------------------------------------------------------------------------Ä-Ã-Â-Á-À-¿-¾-½-¼-»-º-¹-¸-·-¶-µ-´-³-²-±-°-¯-®-­-¬-«-ª-©-¨-§-¦-¥-¤-£-¢-¡- ------------------------------------ -¡-¢-£-¤-¥-¦-§-¨-©-ª-«-¬-­-®-¯-°-±-²-³-´-µ-¶-·-¸-¹-º-»-¼-½-¾-¿-À-Á-Â-Ã-Ä------------------------------------------------------------------------------------------\n",
            "--------------------------------------------------------------------------------------------Ä-Ã-Â-Á-À-¿-¾-½-¼-»-º-¹-¸-·-¶-µ-´-³-²-±-°-¯-®-­-¬-«-ª-©-¨-§-¦-¥-¤-£-¢-¡- ---------------------------------- -¡-¢-£-¤-¥-¦-§-¨-©-ª-«-¬-­-®-¯-°-±-²-³-´-µ-¶-·-¸-¹-º-»-¼-½-¾-¿-À-Á-Â-Ã-Ä--------------------------------------------------------------------------------------------\n",
            "----------------------------------------------------------------------------------------------Ä-Ã-Â-Á-À-¿-¾-½-¼-»-º-¹-¸-·-¶-µ-´-³-²-±-°-¯-®-­-¬-«-ª-©-¨-§-¦-¥-¤-£-¢-¡- -------------------------------- -¡-¢-£-¤-¥-¦-§-¨-©-ª-«-¬-­-®-¯-°-±-²-³-´-µ-¶-·-¸-¹-º-»-¼-½-¾-¿-À-Á-Â-Ã-Ä----------------------------------------------------------------------------------------------\n",
            "------------------------------------------------------------------------------------------------Ä-Ã-Â-Á-À-¿-¾-½-¼-»-º-¹-¸-·-¶-µ-´-³-²-±-°-¯-®-­-¬-«-ª-©-¨-§-¦-¥-¤-£-¢-¡- ------------------------------ -¡-¢-£-¤-¥-¦-§-¨-©-ª-«-¬-­-®-¯-°-±-²-³-´-µ-¶-·-¸-¹-º-»-¼-½-¾-¿-À-Á-Â-Ã-Ä------------------------------------------------------------------------------------------------\n",
            "--------------------------------------------------------------------------------------------------Ä-Ã-Â-Á-À-¿-¾-½-¼-»-º-¹-¸-·-¶-µ-´-³-²-±-°-¯-®-­-¬-«-ª-©-¨-§-¦-¥-¤-£-¢-¡- ---------------------------- -¡-¢-£-¤-¥-¦-§-¨-©-ª-«-¬-­-®-¯-°-±-²-³-´-µ-¶-·-¸-¹-º-»-¼-½-¾-¿-À-Á-Â-Ã-Ä--------------------------------------------------------------------------------------------------\n",
            "----------------------------------------------------------------------------------------------------Ä-Ã-Â-Á-À-¿-¾-½-¼-»-º-¹-¸-·-¶-µ-´-³-²-±-°-¯-®-­-¬-«-ª-©-¨-§-¦-¥-¤-£-¢-¡- -------------------------- -¡-¢-£-¤-¥-¦-§-¨-©-ª-«-¬-­-®-¯-°-±-²-³-´-µ-¶-·-¸-¹-º-»-¼-½-¾-¿-À-Á-Â-Ã-Ä----------------------------------------------------------------------------------------------------\n",
            "------------------------------------------------------------------------------------------------------Ä-Ã-Â-Á-À-¿-¾-½-¼-»-º-¹-¸-·-¶-µ-´-³-²-±-°-¯-®-­-¬-«-ª-©-¨-§-¦-¥-¤-£-¢-¡- ------------------------ -¡-¢-£-¤-¥-¦-§-¨-©-ª-«-¬-­-®-¯-°-±-²-³-´-µ-¶-·-¸-¹-º-»-¼-½-¾-¿-À-Á-Â-Ã-Ä------------------------------------------------------------------------------------------------------\n",
            "--------------------------------------------------------------------------------------------------------Ä-Ã-Â-Á-À-¿-¾-½-¼-»-º-¹-¸-·-¶-µ-´-³-²-±-°-¯-®-­-¬-«-ª-©-¨-§-¦-¥-¤-£-¢-¡- ---------------------- -¡-¢-£-¤-¥-¦-§-¨-©-ª-«-¬-­-®-¯-°-±-²-³-´-µ-¶-·-¸-¹-º-»-¼-½-¾-¿-À-Á-Â-Ã-Ä--------------------------------------------------------------------------------------------------------\n",
            "----------------------------------------------------------------------------------------------------------Ä-Ã-Â-Á-À-¿-¾-½-¼-»-º-¹-¸-·-¶-µ-´-³-²-±-°-¯-®-­-¬-«-ª-©-¨-§-¦-¥-¤-£-¢-¡- -------------------- -¡-¢-£-¤-¥-¦-§-¨-©-ª-«-¬-­-®-¯-°-±-²-³-´-µ-¶-·-¸-¹-º-»-¼-½-¾-¿-À-Á-Â-Ã-Ä----------------------------------------------------------------------------------------------------------\n",
            "------------------------------------------------------------------------------------------------------------Ä-Ã-Â-Á-À-¿-¾-½-¼-»-º-¹-¸-·-¶-µ-´-³-²-±-°-¯-®-­-¬-«-ª-©-¨-§-¦-¥-¤-£-¢-¡- ------------------ -¡-¢-£-¤-¥-¦-§-¨-©-ª-«-¬-­-®-¯-°-±-²-³-´-µ-¶-·-¸-¹-º-»-¼-½-¾-¿-À-Á-Â-Ã-Ä------------------------------------------------------------------------------------------------------------\n",
            "--------------------------------------------------------------------------------------------------------------Ä-Ã-Â-Á-À-¿-¾-½-¼-»-º-¹-¸-·-¶-µ-´-³-²-±-°-¯-®-­-¬-«-ª-©-¨-§-¦-¥-¤-£-¢-¡- ---------------- -¡-¢-£-¤-¥-¦-§-¨-©-ª-«-¬-­-®-¯-°-±-²-³-´-µ-¶-·-¸-¹-º-»-¼-½-¾-¿-À-Á-Â-Ã-Ä--------------------------------------------------------------------------------------------------------------\n",
            "----------------------------------------------------------------------------------------------------------------Ä-Ã-Â-Á-À-¿-¾-½-¼-»-º-¹-¸-·-¶-µ-´-³-²-±-°-¯-®-­-¬-«-ª-©-¨-§-¦-¥-¤-£-¢-¡- -------------- -¡-¢-£-¤-¥-¦-§-¨-©-ª-«-¬-­-®-¯-°-±-²-³-´-µ-¶-·-¸-¹-º-»-¼-½-¾-¿-À-Á-Â-Ã-Ä----------------------------------------------------------------------------------------------------------------\n",
            "------------------------------------------------------------------------------------------------------------------Ä-Ã-Â-Á-À-¿-¾-½-¼-»-º-¹-¸-·-¶-µ-´-³-²-±-°-¯-®-­-¬-«-ª-©-¨-§-¦-¥-¤-£-¢-¡- ------------ -¡-¢-£-¤-¥-¦-§-¨-©-ª-«-¬-­-®-¯-°-±-²-³-´-µ-¶-·-¸-¹-º-»-¼-½-¾-¿-À-Á-Â-Ã-Ä------------------------------------------------------------------------------------------------------------------\n",
            "--------------------------------------------------------------------------------------------------------------------Ä-Ã-Â-Á-À-¿-¾-½-¼-»-º-¹-¸-·-¶-µ-´-³-²-±-°-¯-®-­-¬-«-ª-©-¨-§-¦-¥-¤-£-¢-¡- ---------- -¡-¢-£-¤-¥-¦-§-¨-©-ª-«-¬-­-®-¯-°-±-²-³-´-µ-¶-·-¸-¹-º-»-¼-½-¾-¿-À-Á-Â-Ã-Ä--------------------------------------------------------------------------------------------------------------------\n",
            "----------------------------------------------------------------------------------------------------------------------Ä-Ã-Â-Á-À-¿-¾-½-¼-»-º-¹-¸-·-¶-µ-´-³-²-±-°-¯-®-­-¬-«-ª-©-¨-§-¦-¥-¤-£-¢-¡- -------- -¡-¢-£-¤-¥-¦-§-¨-©-ª-«-¬-­-®-¯-°-±-²-³-´-µ-¶-·-¸-¹-º-»-¼-½-¾-¿-À-Á-Â-Ã-Ä----------------------------------------------------------------------------------------------------------------------\n",
            "------------------------------------------------------------------------------------------------------------------------Ä-Ã-Â-Á-À-¿-¾-½-¼-»-º-¹-¸-·-¶-µ-´-³-²-±-°-¯-®-­-¬-«-ª-©-¨-§-¦-¥-¤-£-¢-¡- ------ -¡-¢-£-¤-¥-¦-§-¨-©-ª-«-¬-­-®-¯-°-±-²-³-´-µ-¶-·-¸-¹-º-»-¼-½-¾-¿-À-Á-Â-Ã-Ä------------------------------------------------------------------------------------------------------------------------\n",
            "--------------------------------------------------------------------------------------------------------------------------Ä-Ã-Â-Á-À-¿-¾-½-¼-»-º-¹-¸-·-¶-µ-´-³-²-±-°-¯-®-­-¬-«-ª-©-¨-§-¦-¥-¤-£-¢-¡- ---- -¡-¢-£-¤-¥-¦-§-¨-©-ª-«-¬-­-®-¯-°-±-²-³-´-µ-¶-·-¸-¹-º-»-¼-½-¾-¿-À-Á-Â-Ã-Ä--------------------------------------------------------------------------------------------------------------------------\n",
            "----------------------------------------------------------------------------------------------------------------------------Ä-Ã-Â-Á-À-¿-¾-½-¼-»-º-¹-¸-·-¶-µ-´-³-²-±-°-¯-®-­-¬-«-ª-©-¨-§-¦-¥-¤-£-¢-¡- -- -¡-¢-£-¤-¥-¦-§-¨-©-ª-«-¬-­-®-¯-°-±-²-³-´-µ-¶-·-¸-¹-º-»-¼-½-¾-¿-À-Á-Â-Ã-Ä----------------------------------------------------------------------------------------------------------------------------\n",
            "------------------------------------------------------------------------------------------------------------------------------Ä-Ã-Â-Á-À-¿-¾-½-¼-»-º-¹-¸-·-¶-µ-´-³-²-±-°-¯-®-­-¬-«-ª-©-¨-§-¦-¥-¤-£-¢-¡- -¡-¢-£-¤-¥-¦-§-¨-©-ª-«-¬-­-®-¯-°-±-²-³-´-µ-¶-·-¸-¹-º-»-¼-½-¾-¿-À-Á-Â-Ã-Ä------------------------------------------------------------------------------------------------------------------------------\n",
            "--------------------------------------------------------------------------------------------------------------------------------Ä-Ã-Â-Á-À-¿-¾-½-¼-»-º-¹-¸-·-¶-µ-´-³-²-±-°-¯-®-­-¬-«-ª-©-¨-§-¦-¥-¤-£-¢-¡-¢-£-¤-¥-¦-§-¨-©-ª-«-¬-­-®-¯-°-±-²-³-´-µ-¶-·-¸-¹-º-»-¼-½-¾-¿-À-Á-Â-Ã-Ä--------------------------------------------------------------------------------------------------------------------------------\n",
            "----------------------------------------------------------------------------------------------------------------------------------Ä-Ã-Â-Á-À-¿-¾-½-¼-»-º-¹-¸-·-¶-µ-´-³-²-±-°-¯-®-­-¬-«-ª-©-¨-§-¦-¥-¤-£-¢-£-¤-¥-¦-§-¨-©-ª-«-¬-­-®-¯-°-±-²-³-´-µ-¶-·-¸-¹-º-»-¼-½-¾-¿-À-Á-Â-Ã-Ä----------------------------------------------------------------------------------------------------------------------------------\n",
            "------------------------------------------------------------------------------------------------------------------------------------Ä-Ã-Â-Á-À-¿-¾-½-¼-»-º-¹-¸-·-¶-µ-´-³-²-±-°-¯-®-­-¬-«-ª-©-¨-§-¦-¥-¤-£-¤-¥-¦-§-¨-©-ª-«-¬-­-®-¯-°-±-²-³-´-µ-¶-·-¸-¹-º-»-¼-½-¾-¿-À-Á-Â-Ã-Ä------------------------------------------------------------------------------------------------------------------------------------\n",
            "--------------------------------------------------------------------------------------------------------------------------------------Ä-Ã-Â-Á-À-¿-¾-½-¼-»-º-¹-¸-·-¶-µ-´-³-²-±-°-¯-®-­-¬-«-ª-©-¨-§-¦-¥-¤-¥-¦-§-¨-©-ª-«-¬-­-®-¯-°-±-²-³-´-µ-¶-·-¸-¹-º-»-¼-½-¾-¿-À-Á-Â-Ã-Ä--------------------------------------------------------------------------------------------------------------------------------------\n",
            "----------------------------------------------------------------------------------------------------------------------------------------Ä-Ã-Â-Á-À-¿-¾-½-¼-»-º-¹-¸-·-¶-µ-´-³-²-±-°-¯-®-­-¬-«-ª-©-¨-§-¦-¥-¦-§-¨-©-ª-«-¬-­-®-¯-°-±-²-³-´-µ-¶-·-¸-¹-º-»-¼-½-¾-¿-À-Á-Â-Ã-Ä----------------------------------------------------------------------------------------------------------------------------------------\n",
            "------------------------------------------------------------------------------------------------------------------------------------------Ä-Ã-Â-Á-À-¿-¾-½-¼-»-º-¹-¸-·-¶-µ-´-³-²-±-°-¯-®-­-¬-«-ª-©-¨-§-¦-§-¨-©-ª-«-¬-­-®-¯-°-±-²-³-´-µ-¶-·-¸-¹-º-»-¼-½-¾-¿-À-Á-Â-Ã-Ä------------------------------------------------------------------------------------------------------------------------------------------\n",
            "--------------------------------------------------------------------------------------------------------------------------------------------Ä-Ã-Â-Á-À-¿-¾-½-¼-»-º-¹-¸-·-¶-µ-´-³-²-±-°-¯-®-­-¬-«-ª-©-¨-§-¨-©-ª-«-¬-­-®-¯-°-±-²-³-´-µ-¶-·-¸-¹-º-»-¼-½-¾-¿-À-Á-Â-Ã-Ä--------------------------------------------------------------------------------------------------------------------------------------------\n",
            "----------------------------------------------------------------------------------------------------------------------------------------------Ä-Ã-Â-Á-À-¿-¾-½-¼-»-º-¹-¸-·-¶-µ-´-³-²-±-°-¯-®-­-¬-«-ª-©-¨-©-ª-«-¬-­-®-¯-°-±-²-³-´-µ-¶-·-¸-¹-º-»-¼-½-¾-¿-À-Á-Â-Ã-Ä----------------------------------------------------------------------------------------------------------------------------------------------\n",
            "------------------------------------------------------------------------------------------------------------------------------------------------Ä-Ã-Â-Á-À-¿-¾-½-¼-»-º-¹-¸-·-¶-µ-´-³-²-±-°-¯-®-­-¬-«-ª-©-ª-«-¬-­-®-¯-°-±-²-³-´-µ-¶-·-¸-¹-º-»-¼-½-¾-¿-À-Á-Â-Ã-Ä------------------------------------------------------------------------------------------------------------------------------------------------\n",
            "--------------------------------------------------------------------------------------------------------------------------------------------------Ä-Ã-Â-Á-À-¿-¾-½-¼-»-º-¹-¸-·-¶-µ-´-³-²-±-°-¯-®-­-¬-«-ª-«-¬-­-®-¯-°-±-²-³-´-µ-¶-·-¸-¹-º-»-¼-½-¾-¿-À-Á-Â-Ã-Ä--------------------------------------------------------------------------------------------------------------------------------------------------\n",
            "----------------------------------------------------------------------------------------------------------------------------------------------------Ä-Ã-Â-Á-À-¿-¾-½-¼-»-º-¹-¸-·-¶-µ-´-³-²-±-°-¯-®-­-¬-«-¬-­-®-¯-°-±-²-³-´-µ-¶-·-¸-¹-º-»-¼-½-¾-¿-À-Á-Â-Ã-Ä----------------------------------------------------------------------------------------------------------------------------------------------------\n",
            "------------------------------------------------------------------------------------------------------------------------------------------------------Ä-Ã-Â-Á-À-¿-¾-½-¼-»-º-¹-¸-·-¶-µ-´-³-²-±-°-¯-®-­-¬-­-®-¯-°-±-²-³-´-µ-¶-·-¸-¹-º-»-¼-½-¾-¿-À-Á-Â-Ã-Ä------------------------------------------------------------------------------------------------------------------------------------------------------\n",
            "--------------------------------------------------------------------------------------------------------------------------------------------------------Ä-Ã-Â-Á-À-¿-¾-½-¼-»-º-¹-¸-·-¶-µ-´-³-²-±-°-¯-®-­-®-¯-°-±-²-³-´-µ-¶-·-¸-¹-º-»-¼-½-¾-¿-À-Á-Â-Ã-Ä--------------------------------------------------------------------------------------------------------------------------------------------------------\n",
            "----------------------------------------------------------------------------------------------------------------------------------------------------------Ä-Ã-Â-Á-À-¿-¾-½-¼-»-º-¹-¸-·-¶-µ-´-³-²-±-°-¯-®-¯-°-±-²-³-´-µ-¶-·-¸-¹-º-»-¼-½-¾-¿-À-Á-Â-Ã-Ä----------------------------------------------------------------------------------------------------------------------------------------------------------\n",
            "------------------------------------------------------------------------------------------------------------------------------------------------------------Ä-Ã-Â-Á-À-¿-¾-½-¼-»-º-¹-¸-·-¶-µ-´-³-²-±-°-¯-°-±-²-³-´-µ-¶-·-¸-¹-º-»-¼-½-¾-¿-À-Á-Â-Ã-Ä------------------------------------------------------------------------------------------------------------------------------------------------------------\n",
            "--------------------------------------------------------------------------------------------------------------------------------------------------------------Ä-Ã-Â-Á-À-¿-¾-½-¼-»-º-¹-¸-·-¶-µ-´-³-²-±-°-±-²-³-´-µ-¶-·-¸-¹-º-»-¼-½-¾-¿-À-Á-Â-Ã-Ä--------------------------------------------------------------------------------------------------------------------------------------------------------------\n",
            "----------------------------------------------------------------------------------------------------------------------------------------------------------------Ä-Ã-Â-Á-À-¿-¾-½-¼-»-º-¹-¸-·-¶-µ-´-³-²-±-²-³-´-µ-¶-·-¸-¹-º-»-¼-½-¾-¿-À-Á-Â-Ã-Ä----------------------------------------------------------------------------------------------------------------------------------------------------------------\n",
            "------------------------------------------------------------------------------------------------------------------------------------------------------------------Ä-Ã-Â-Á-À-¿-¾-½-¼-»-º-¹-¸-·-¶-µ-´-³-²-³-´-µ-¶-·-¸-¹-º-»-¼-½-¾-¿-À-Á-Â-Ã-Ä------------------------------------------------------------------------------------------------------------------------------------------------------------------\n",
            "--------------------------------------------------------------------------------------------------------------------------------------------------------------------Ä-Ã-Â-Á-À-¿-¾-½-¼-»-º-¹-¸-·-¶-µ-´-³-´-µ-¶-·-¸-¹-º-»-¼-½-¾-¿-À-Á-Â-Ã-Ä--------------------------------------------------------------------------------------------------------------------------------------------------------------------\n",
            "----------------------------------------------------------------------------------------------------------------------------------------------------------------------Ä-Ã-Â-Á-À-¿-¾-½-¼-»-º-¹-¸-·-¶-µ-´-µ-¶-·-¸-¹-º-»-¼-½-¾-¿-À-Á-Â-Ã-Ä----------------------------------------------------------------------------------------------------------------------------------------------------------------------\n",
            "------------------------------------------------------------------------------------------------------------------------------------------------------------------------Ä-Ã-Â-Á-À-¿-¾-½-¼-»-º-¹-¸-·-¶-µ-¶-·-¸-¹-º-»-¼-½-¾-¿-À-Á-Â-Ã-Ä------------------------------------------------------------------------------------------------------------------------------------------------------------------------\n",
            "--------------------------------------------------------------------------------------------------------------------------------------------------------------------------Ä-Ã-Â-Á-À-¿-¾-½-¼-»-º-¹-¸-·-¶-·-¸-¹-º-»-¼-½-¾-¿-À-Á-Â-Ã-Ä--------------------------------------------------------------------------------------------------------------------------------------------------------------------------\n",
            "----------------------------------------------------------------------------------------------------------------------------------------------------------------------------Ä-Ã-Â-Á-À-¿-¾-½-¼-»-º-¹-¸-·-¸-¹-º-»-¼-½-¾-¿-À-Á-Â-Ã-Ä----------------------------------------------------------------------------------------------------------------------------------------------------------------------------\n",
            "------------------------------------------------------------------------------------------------------------------------------------------------------------------------------Ä-Ã-Â-Á-À-¿-¾-½-¼-»-º-¹-¸-¹-º-»-¼-½-¾-¿-À-Á-Â-Ã-Ä------------------------------------------------------------------------------------------------------------------------------------------------------------------------------\n",
            "--------------------------------------------------------------------------------------------------------------------------------------------------------------------------------Ä-Ã-Â-Á-À-¿-¾-½-¼-»-º-¹-º-»-¼-½-¾-¿-À-Á-Â-Ã-Ä--------------------------------------------------------------------------------------------------------------------------------------------------------------------------------\n",
            "----------------------------------------------------------------------------------------------------------------------------------------------------------------------------------Ä-Ã-Â-Á-À-¿-¾-½-¼-»-º-»-¼-½-¾-¿-À-Á-Â-Ã-Ä----------------------------------------------------------------------------------------------------------------------------------------------------------------------------------\n",
            "------------------------------------------------------------------------------------------------------------------------------------------------------------------------------------Ä-Ã-Â-Á-À-¿-¾-½-¼-»-¼-½-¾-¿-À-Á-Â-Ã-Ä------------------------------------------------------------------------------------------------------------------------------------------------------------------------------------\n",
            "--------------------------------------------------------------------------------------------------------------------------------------------------------------------------------------Ä-Ã-Â-Á-À-¿-¾-½-¼-½-¾-¿-À-Á-Â-Ã-Ä--------------------------------------------------------------------------------------------------------------------------------------------------------------------------------------\n",
            "----------------------------------------------------------------------------------------------------------------------------------------------------------------------------------------Ä-Ã-Â-Á-À-¿-¾-½-¾-¿-À-Á-Â-Ã-Ä----------------------------------------------------------------------------------------------------------------------------------------------------------------------------------------\n",
            "------------------------------------------------------------------------------------------------------------------------------------------------------------------------------------------Ä-Ã-Â-Á-À-¿-¾-¿-À-Á-Â-Ã-Ä------------------------------------------------------------------------------------------------------------------------------------------------------------------------------------------\n",
            "--------------------------------------------------------------------------------------------------------------------------------------------------------------------------------------------Ä-Ã-Â-Á-À-¿-À-Á-Â-Ã-Ä--------------------------------------------------------------------------------------------------------------------------------------------------------------------------------------------\n",
            "----------------------------------------------------------------------------------------------------------------------------------------------------------------------------------------------Ä-Ã-Â-Á-À-Á-Â-Ã-Ä----------------------------------------------------------------------------------------------------------------------------------------------------------------------------------------------\n",
            "------------------------------------------------------------------------------------------------------------------------------------------------------------------------------------------------Ä-Ã-Â-Á-Â-Ã-Ä------------------------------------------------------------------------------------------------------------------------------------------------------------------------------------------------\n",
            "--------------------------------------------------------------------------------------------------------------------------------------------------------------------------------------------------Ä-Ã-Â-Ã-Ä--------------------------------------------------------------------------------------------------------------------------------------------------------------------------------------------------\n",
            "----------------------------------------------------------------------------------------------------------------------------------------------------------------------------------------------------Ä-Ã-Ä----------------------------------------------------------------------------------------------------------------------------------------------------------------------------------------------------\n",
            "------------------------------------------------------------------------------------------------------------------------------------------------------------------------------------------------------Ä------------------------------------------------------------------------------------------------------------------------------------------------------------------------------------------------------\n"
          ]
        }
      ]
    },
    {
      "cell_type": "markdown",
      "source": [
        "## Compress a string!\n",
        "\n",
        "You are given a string S. Suppose a character 'c' occurs consecutively X times in the string. Replace these consecutive occurrences of the character 'c' with $$(X, c) in the string. For a better understanding of the problem, check the explanation.\n",
        "\n",
        "Input Format:\n",
        "\n",
        "A single line of input consisting of the string S.\n",
        "\n",
        "\n",
        "Output Format:\n",
        "\n",
        "A single line of output consisting of the modified string.\n",
        "\n",
        "Sample Input:\n",
        "\n",
        "1222311\n",
        "\n",
        "Sample Output:\n",
        "\n",
        "(1, 1) (3, 2) (1, 3) (2, 1)\n",
        "\n",
        "Explanation:\n",
        "\n",
        "First, the character occurs only once. It is replaced by (1, 1). Then the character 2 occurs three times, and it is replaced by (3, 2 )and so on. Also, note the single space within each compression and between the compressions.\n"
      ],
      "metadata": {
        "id": "KiFO1EUNSM-l"
      }
    },
    {
      "cell_type": "code",
      "source": [
        "s = '1222311'\n",
        "\n",
        "alpha = []\n",
        "\n",
        "for i in s:\n",
        "  alpha.append(i)\n",
        "  if alpha[0] == alpha[-1]:\n",
        "    continue\n",
        "  else:\n",
        "    length = len(alpha[:-1])\n",
        "    print((length,int(alpha[0])),end='')\n",
        "    alpha = [alpha[-1]]\n",
        "print((len(alpha),int(alpha[0])))"
      ],
      "metadata": {
        "colab": {
          "base_uri": "https://localhost:8080/"
        },
        "id": "E8hWMLnfR0Ey",
        "outputId": "1017bd4e-a099-47e3-ef2a-f1add465f046"
      },
      "execution_count": null,
      "outputs": [
        {
          "output_type": "stream",
          "name": "stdout",
          "text": [
            "(1, 1)(3, 2)(1, 3)(2, 1)\n"
          ]
        }
      ]
    },
    {
      "cell_type": "markdown",
      "source": [
        "Problem-7: Word order\n",
        "\n",
        "You are given words. Some words may repeat. For each word, output its number of occurrences. The output order should correspond with the input order of appearance of the word. See the sample input/output for clarification.\n",
        "\n",
        "Note: Each input line ends with a \"\\n\" character.\n",
        "\n",
        "- Input Format:\n",
        "The first line contains the integer, n.\n",
        "\n",
        "The next n lines each contain a word.\n",
        "\n",
        "- Output Format:\n",
        "Output 2 lines.\n",
        "\n",
        "On the first line, output the number of distinct words from the input.\n",
        "\n",
        "On the second line, output the number of occurrences for each distinct word according to their appearance in the input.\n",
        "\n",
        "- Sample Input:\n",
        "\n",
        "4\n",
        "\n",
        "bcdef\n",
        "\n",
        "abcdefg\n",
        "\n",
        "bcde\n",
        "\n",
        "bcdef\n",
        "\n",
        "- Sample output:\n",
        "\n",
        "3\n",
        "\n",
        "2 1 1\n",
        "\n",
        "Explanation:\n",
        "\n",
        "There are 3 distinct words. Here, \"bcdef\" appears twice in the input at the first and last positions. The other words appear once each. The order of the first appearances are \"bcdef\", \"abcdefg\" and \"bcde\" which corresponds to the output.\n"
      ],
      "metadata": {
        "id": "ONWulcxvbk4J"
      }
    },
    {
      "cell_type": "code",
      "source": [
        "inpt = \"4 \\n bcdef \\n abcdefg \\n bcde \\n bcdef\"\n",
        "l = [i.strip() for i in inpt.split('\\n')]\n",
        "\n",
        "dic = {}\n",
        "\n",
        "for i in l[1:]:\n",
        "  if i in dic:\n",
        "    dic[i] += 1\n",
        "  else:\n",
        "    dic[i] = 1\n",
        "\n",
        "print(len(dic))\n",
        "print(dic.values())"
      ],
      "metadata": {
        "colab": {
          "base_uri": "https://localhost:8080/"
        },
        "id": "_Rbf8t5pZ0zK",
        "outputId": "4eb972ad-2ad4-42b9-ec78-0278062d555a"
      },
      "execution_count": null,
      "outputs": [
        {
          "output_type": "stream",
          "name": "stdout",
          "text": [
            "3\n",
            "dict_values([2, 1, 1])\n"
          ]
        }
      ]
    },
    {
      "cell_type": "markdown",
      "source": [
        "###  PROBLEM - 8\n",
        "\n",
        "Iterables & Iterators\n",
        "You are given a list of N lowercase English letters. For a given integer K, you can select any K indices (assume 1-based indexing) with a uniform probability from the list. Find the probability that at least one of the K indices selected will contain the letter 'a'.\n",
        "Input Format:\n",
        "The input consists of three lines. The first line contains the integer N, enoting the length of the list. The next line consists of &N& space-separated lowercase English letters, denoting the elements of the list.\n",
        "The third and the last line of input contains the integer K, denoting the number of indices to be selected.\n",
        "Output Format:\n",
        "Output a single line consisting of the probability that at least one of the K indices selected contains the letter 'a'.\n",
        "\n",
        "Note: The answer must be correct up to 3 decimal places.\n",
        "\n",
        "Sample Input:\n",
        "\n",
        "4\n",
        "\n",
        "a a c d\n",
        "\n",
        "2\n",
        "\n",
        "Sample Output:\n",
        "\n",
        "0.8333\n",
        "\n",
        "Explanation:\n",
        "\n",
        "All possible unordered tuples of length 2 comprising of indices from 1 to 4 are: (1, 2), (1, 3), (1, 4), (2, 3), (2, 4), (3, 4)\n",
        "Out of these 6 combinations, 5 of them contain either index 1 or index 2 which are the indices that contain the letter 'a'. Hence, the answer is 5/6\n",
        "\n"
      ],
      "metadata": {
        "id": "pi_n6FHcryuU"
      }
    },
    {
      "cell_type": "code",
      "source": [
        "inlist = ['a','b','c','d']\n",
        "idx = [1,0]\n",
        "\n",
        "l = [i for i in range(len(inlist))]\n",
        "\n",
        "cl = l.copy()\n",
        "\n",
        "comb = []\n",
        "\n",
        "for i in l:\n",
        "  cl.remove(i)\n",
        "  for j in cl:\n",
        "     comb.append((i,j))\n",
        "\n",
        "sum([True if idx[0] in i or idx[1] in i else False for i in comb])/len([True if idx[0] in i or idx[1] in i else False for i in comb])"
      ],
      "metadata": {
        "id": "fji-DfnIcMAE",
        "colab": {
          "base_uri": "https://localhost:8080/"
        },
        "outputId": "801acd45-3ccb-45cb-906d-e568d5850ea7"
      },
      "execution_count": 105,
      "outputs": [
        {
          "output_type": "execute_result",
          "data": {
            "text/plain": [
              "0.8333333333333334"
            ]
          },
          "metadata": {},
          "execution_count": 105
        }
      ]
    },
    {
      "cell_type": "markdown",
      "source": [
        "## PROLBLEM - 9\n",
        "\n",
        "The Captain's Room\n",
        "\n",
        "Mr. Anant Asankhya is the manager at the INFINITE hotel. The hotel has an infinite amount of rooms.\n",
        "\n",
        "One fine day, a finite number of tourists come to stay at the hotel. The tourists consist of:\n",
        "\n",
        "→ A Captain.\n",
        "\n",
        "→ An unknown group of families consisting of K members per group where K1\n",
        "The Captain was given a separate room, and the rest were given one room per group.\n",
        "\n",
        "Mr. Anant has an unordered list of randomly arranged room entries. The list consists of the room numbers for all of the tourists. The room numbers will appear K times per group except for the Captain's room.\n",
        "\n",
        "Mr. Anant needs you to help him find the Captain's room number. The total number of tourists or the total number of groups of families is not known to you. You only know the value of K and the room number list.\n",
        "\n",
        "Input Format:\n",
        "\n",
        "The first line consists of an integer, K, the size of each group.\n",
        "The second line contains the unordered elements of the room number list.\n",
        "\n",
        "Output Format:\n",
        "\n",
        "Output the Captain's room number.\n",
        "\n",
        "Sample Input:\n",
        "\n",
        "5\n",
        "\n",
        "1 2 3 6 5 4 4 2 5 3 6 1 6 5 3 2 4 1 2 5 1 4 3 6 8 4 3 1 5 6 2\n",
        "\n",
        "Sample Output\n",
        "\n",
        "8\n",
        "\n",
        "Explanation:\n",
        "\n",
        "The list of room numbers contains 31 elements. Since K is 5, there must be groups 6 of families. In the given list, all of the numbers repeat 5 times except for room number 8. Hence, 8 is the Captain's room number.\n"
      ],
      "metadata": {
        "id": "AbywRoSFsIQm"
      }
    },
    {
      "cell_type": "code",
      "source": [
        "k = 5\n",
        "l = [72, 15, 88, 33, 15, 72, 33, 99, 72, 15, 33, 72, 15, 33, 88, 88, 55, 88, 55, 55, 55]"
      ],
      "metadata": {
        "id": "vv6RyNn89roo"
      },
      "execution_count": null,
      "outputs": []
    },
    {
      "cell_type": "code",
      "source": [
        "dic = {}\n",
        "\n",
        "for i in l:\n",
        "  if i in dic:\n",
        "    dic[i] += 1\n",
        "  else:\n",
        "    dic[i] = 1\n",
        "for i,j in dic.items():\n",
        "  if j == 1:\n",
        "    print(i)"
      ],
      "metadata": {
        "colab": {
          "base_uri": "https://localhost:8080/"
        },
        "id": "7q9HMAj-thwN",
        "outputId": "6c7a57fb-ce37-4dfe-a13a-ceb6c31210cc"
      },
      "execution_count": null,
      "outputs": [
        {
          "output_type": "stream",
          "name": "stdout",
          "text": [
            "99\n"
          ]
        }
      ]
    },
    {
      "cell_type": "markdown",
      "source": [
        "## PROBLEM - 10\n",
        "\n",
        "Classes: Dealing with Complex Numbers\n",
        "\n",
        "For this challenge, you are given two complex numbers, and you have to print the result of their addition, subtraction, multiplication, division and modulus operations.\n",
        "\n",
        "The real and imaginary precision part should be correct up to two decimal places.\n",
        "\n",
        "Input Format:\n",
        "\n",
        "One line of input: The real and imaginary part of a number separated by a space.\n",
        "\n",
        "Output Format:\n",
        "\n",
        "For two complex numbers C and D, the output should be in the following sequence on separate lines:\n",
        "\n",
        "$C + D\n",
        "\n",
        "$C - D\n",
        "\n",
        "C*D\n",
        "\n",
        "C/D\n",
        "\n",
        "modC\n",
        "\n",
        "modD\n",
        "\n",
        "For complex numbers with non-zero real (A) and complex part ($B), the output should be in the following format:\n",
        "\n",
        "A+Bi\n",
        "\n",
        "Replace the plus symbol (+) with a minus symbol (−) when `B<0`.\n",
        "\n",
        "For complex numbers with a zero complex part i.e. real numbers, the output should be:\n",
        "\n",
        "A+0.00i\n",
        "\n",
        "For complex numbers where the real part is zero and the complex part (B) is non-zero, the output should be:\n",
        "\n",
        "0.00+Bi\n",
        "\n",
        "Sample Input:\n",
        "\n",
        "2 1\n",
        "\n",
        "5 6\n",
        "\n",
        "Sample Output:\n",
        "\n",
        "7.00+7.00i\n",
        "\n",
        "-3.00-5.00i\n",
        "\n",
        "4.00+17.00i\n",
        "\n",
        "0.26-0.11i\n",
        "\n",
        "2.24+0.00i\n",
        "\n",
        "7.81+0.00i\n",
        "\n",
        "Concept:\n",
        "\n",
        "Solve this problem using Object Oriented way. Methods with a double underscore before and after their name are considered as built-in methods. They are used by interpreters and are generally used in the implementation of overloaded operators or other built-in functionality.\n",
        "\n",
        "- `__add__`-> Can be overloaded for + operation\n",
        "\n",
        "- `__sub__` -> Can be overloaded for - operation\n",
        "\n",
        "- `__mul__` -> Can be overloaded for * operation\n"
      ],
      "metadata": {
        "id": "FOOtSqwxvC5d"
      }
    },
    {
      "cell_type": "code",
      "source": [
        "class complx:\n",
        "\n",
        "  def __init__(self,x,y):\n",
        "    self.x = x\n",
        "    self.y = y\n",
        "\n",
        "  def __str__(self):\n",
        "    if self.y < 0 :\n",
        "      return str(self.x) + str(self.y) + 'j'\n",
        "    else:\n",
        "      return str(self.x) + '+' + str(self.y) + 'j'\n",
        "\n",
        "  def __add__(self,other):\n",
        "    return complx(self.x+other.x,self.y+other.y)\n",
        "\n",
        "  def __sub__(self,other):\n",
        "    return complx(self.x-other.x,self.y-other.y)\n",
        "\n",
        "  def __mul__(self,other):\n",
        "    return complx(((self.x*other.x )- (self.y*other.y)) , ((self.x*other.y) + (self.y*other.x)))\n",
        "\n",
        "  def __truediv__(self,other):\n",
        "    deno = other.__mul__(complx(other.x,-other.y))\n",
        "    num = self.__mul__(complx(other.x,-other.y))\n",
        "    return complx((num.x/deno.x),(num.y/deno.x))\n",
        "\n",
        "  def __abs__(self):\n",
        "    return complx(round(((self.x**2) + (self.y**2))**0.5,2),0)\n",
        "\n",
        "a = complx(0,1)\n",
        "b = complx(0,1)\n",
        "print(a+b)\n",
        "print(a-b)\n",
        "print(a*b)\n",
        "print(a/b)\n",
        "print(abs(a))\n",
        "print(abs(b))"
      ],
      "metadata": {
        "colab": {
          "base_uri": "https://localhost:8080/"
        },
        "id": "MYMVXL6wuVey",
        "outputId": "b317e22e-b8ca-438f-bd24-22d8169a926c"
      },
      "execution_count": null,
      "outputs": [
        {
          "output_type": "stream",
          "name": "stdout",
          "text": [
            "0+2j\n",
            "0+0j\n",
            "-1+0j\n",
            "1.0+0.0j\n",
            "1.0+0j\n",
            "1.0+0j\n"
          ]
        }
      ]
    },
    {
      "cell_type": "markdown",
      "source": [
        "## PROBLEM - 11\n",
        "\n",
        "Find the Torsional angle\n",
        "\n",
        "You are given four points A,B,C and D in a 3-dimensional Carterian coordinate system. You are required to print the angle between the plane made by the points A,B,C and B,C,D in degrees (not radians). Let the angle be .\n",
        "\n",
        "cos=X.Y/XY where `X=AB*BC` and `Y=BC*CD`\n",
        "\n",
        "Here, X.Y means the dot product of X and Y and AB*BC means the cross product of vectors AB and BC. Also, AB=B−A\n",
        "\n",
        "Input Format:\n",
        "\n",
        "One line of input containing the space separated floating number values of the X,Y and Z coordinates of a point.\n",
        "\n",
        "Output Format:\n",
        "\n",
        "Output the angle correct up to two decimal places.\n",
        "\n",
        "Sample Input:\n",
        "\n",
        "0 4 5\n",
        "\n",
        "1 7 6\n",
        "\n",
        "0 5 9\n",
        "\n",
        "1 7 2\n",
        "\n",
        "Sample Output:\n",
        "\n",
        "8.19"
      ],
      "metadata": {
        "id": "v-gn-qf14YcB"
      }
    },
    {
      "cell_type": "code",
      "source": [
        "import numpy as np\n",
        "\n",
        "a = '0 4 5'\n",
        "b = '1 7 6'\n",
        "c = '0 5 9'\n",
        "d = '1 7 2'\n",
        "\n",
        "a = np.array([int(i) for i in a.split(' ')])\n",
        "b = np.array([int(i) for i in b.split(' ')])\n",
        "c = np.array([int(i) for i in c.split(' ')])\n",
        "d = np.array([int(i) for i in d.split(' ')])\n",
        "\n",
        "x = np.cross((b-a),(c-b))\n",
        "y = np.cross((c-b),(d-c))\n",
        "\n",
        "cos_theta = np.dot(x,y)/((np.linalg.norm(x)*np.linalg.norm(y)))\n",
        "theta = np.arccos(cos_theta)\n",
        "angle = np.degrees(theta)\n",
        "print(angle)"
      ],
      "metadata": {
        "colab": {
          "base_uri": "https://localhost:8080/"
        },
        "id": "JnZgRGVE5QU_",
        "outputId": "2ed14ac6-b3c4-4622-f2e5-af4a32891827"
      },
      "execution_count": null,
      "outputs": [
        {
          "output_type": "stream",
          "name": "stdout",
          "text": [
            "8.189205763930197\n"
          ]
        }
      ]
    },
    {
      "cell_type": "markdown",
      "source": [
        "## PROBLEM - 12\n",
        "\n",
        "Maximize it\n",
        "\n",
        "You are given a function fX=X2. You are also given K lists. The ith list consists of Ni elements. You have to pick one element from each list so that the value from the equation below is maximized:\n",
        "\n",
        "$S = (f(X_1) + f(X_2) + ... + f(N_k)) % M $\n",
        "\n",
        "Xi denotes the element picked from the ith list. Find the maximized value Smax obtained.\n",
        "\n",
        "% denotes the modulo operator.\n",
        "\n",
        "Note that you need to take exactly one element from each list, not necessarily the largest element. You add the squares of the chosen elements and perform the modulo operation. The maximum value that you can obtain, will be the answer to the problem.\n",
        "\n",
        "Input Format:\n",
        "\n",
        "The first line contains 2 space separated integers K and M.\n",
        "\n",
        "The next K lines each contains an integer Ni, denoting the number of elements in the ith list, followed by Ni space separated integers denoting the elements in the list.\n",
        "\n",
        "Output Format:\n",
        "\n",
        "Output a single integer denoting the value Smax\n",
        "\n",
        "Sample Input:\n",
        "\n",
        "3 1000\n",
        "\n",
        "2 5 4\n",
        "\n",
        "3 7 8 9\n",
        "\n",
        "5 5 7 8 9 10\n",
        "\n",
        "Sample Output:\n",
        "\n",
        "206\n",
        "\n",
        "Explanation:\n",
        "\n",
        "Picking 5 from 1st list, 9 from the 2nd list and 10 from the 3rd list gives the maximum S value equal to `5**2+9**2+10**2%1000=206`"
      ],
      "metadata": {
        "id": "209qYGxB_DET"
      }
    },
    {
      "cell_type": "code",
      "source": [
        "k,m = 3,1000\n",
        "\n",
        "sum = 0\n",
        "\n",
        "l = [[2,4,5],[3,7,8,9],[5,5,7,8,9,10]]\n",
        "\n",
        "for i in l:\n",
        "  sum += max(i)**2\n",
        "\n",
        "sum%m"
      ],
      "metadata": {
        "id": "y2P7NeUQ-YmS",
        "colab": {
          "base_uri": "https://localhost:8080/"
        },
        "outputId": "2932bfc8-aa54-4182-d382-b2392eddea43"
      },
      "execution_count": 110,
      "outputs": [
        {
          "output_type": "execute_result",
          "data": {
            "text/plain": [
              "206"
            ]
          },
          "metadata": {},
          "execution_count": 110
        }
      ]
    },
    {
      "cell_type": "markdown",
      "source": [
        "## Problem 13\n",
        " Diamond shape\n",
        "Write a python program to print the diamond shape. Given a number n, write a program to print a diamond shape with 2n rows.\n"
      ],
      "metadata": {
        "id": "KAG2ahb6_PtP"
      }
    },
    {
      "cell_type": "code",
      "source": [
        "n = 5\n",
        "for i in range(1,n+1):\n",
        "  print(' '*(n-i),'* '*i)\n",
        "\n",
        "for i in range(n,0,-1):\n",
        "  print(' '*(n-i),'* '*i)"
      ],
      "metadata": {
        "colab": {
          "base_uri": "https://localhost:8080/"
        },
        "id": "dH1lG5yt_gi8",
        "outputId": "99e0fc1b-2c4e-4802-c8f3-191a65d18298"
      },
      "execution_count": null,
      "outputs": [
        {
          "output_type": "stream",
          "name": "stdout",
          "text": [
            "     * \n",
            "    * * \n",
            "   * * * \n",
            "  * * * * \n",
            " * * * * * \n",
            " * * * * * \n",
            "  * * * * \n",
            "   * * * \n",
            "    * * \n",
            "     * \n"
          ]
        }
      ]
    },
    {
      "cell_type": "markdown",
      "source": [
        "## Problem 14"
      ],
      "metadata": {
        "id": "0u9G7kx3BR3f"
      }
    },
    {
      "cell_type": "markdown",
      "source": [
        "Write a python function to print the half-diamond star pattern.\n",
        "Given an integer N, the task is to print half-diamond-star pattern."
      ],
      "metadata": {
        "id": "UdWpyMloBhZE"
      }
    },
    {
      "cell_type": "code",
      "source": [
        "n = 5\n",
        "for i in range(1,n+1):\n",
        "  print('* '*i)\n",
        "\n",
        "for i in range(n-1,0,-1):\n",
        "  print('* '*i)"
      ],
      "metadata": {
        "colab": {
          "base_uri": "https://localhost:8080/"
        },
        "id": "wNHrcfCw_nJA",
        "outputId": "459728ac-69b9-4fe2-a70e-5df8a20bfca2"
      },
      "execution_count": null,
      "outputs": [
        {
          "output_type": "stream",
          "name": "stdout",
          "text": [
            "* \n",
            "* * \n",
            "* * * \n",
            "* * * * \n",
            "* * * * * \n",
            "* * * * \n",
            "* * * \n",
            "* * \n",
            "* \n"
          ]
        }
      ]
    },
    {
      "cell_type": "markdown",
      "source": [
        "## Problem 15\n",
        " Write a Python program to find the power of a given number using recursion.\n",
        "Given a number N and power P, the task is to find the power of a number ( i.e. NP ) using recursion."
      ],
      "metadata": {
        "id": "fQy9fFhMCU-y"
      }
    },
    {
      "cell_type": "code",
      "source": [
        "def pw(n,p):\n",
        "  if p == 1:\n",
        "    return n\n",
        "  else:\n",
        "    return n * pw(n,p-1)\n",
        "\n",
        "pw(3,2)"
      ],
      "metadata": {
        "colab": {
          "base_uri": "https://localhost:8080/"
        },
        "id": "_seeeVPLBqsa",
        "outputId": "d47f6086-4b54-48a3-8f31-823d7ddc2aa9"
      },
      "execution_count": null,
      "outputs": [
        {
          "output_type": "execute_result",
          "data": {
            "text/plain": [
              "9"
            ]
          },
          "metadata": {},
          "execution_count": 138
        }
      ]
    },
    {
      "cell_type": "markdown",
      "source": [
        " ## Problem 16\n",
        "\n",
        " Largest number in a list\n",
        "Write a Python program to find the largest number in a list without using built-in methods.\n"
      ],
      "metadata": {
        "id": "QHthhCh7CvmE"
      }
    },
    {
      "cell_type": "code",
      "source": [
        "l = [3,5,2,24,6,5,30]\n",
        "\n",
        "largest = None\n",
        "flag = True\n",
        "\n",
        "for i in l:\n",
        "  if flag:\n",
        "    largest = i\n",
        "    flag = False\n",
        "  else:\n",
        "    if i > largest:\n",
        "      largest = i\n",
        "largest"
      ],
      "metadata": {
        "colab": {
          "base_uri": "https://localhost:8080/"
        },
        "id": "2cTrWJkeCnYS",
        "outputId": "b86bc1ed-9ad7-44dd-d15b-557f5e8b340e"
      },
      "execution_count": null,
      "outputs": [
        {
          "output_type": "execute_result",
          "data": {
            "text/plain": [
              "30"
            ]
          },
          "metadata": {},
          "execution_count": 142
        }
      ]
    },
    {
      "cell_type": "markdown",
      "source": [
        "## Problem 17\n",
        "\n",
        " Reverse integer\n",
        "Write a python function that accepts any length of the integers and prints that integer in a reverse manner. Don't use any python trick or python special syntax.\n"
      ],
      "metadata": {
        "id": "YtHt21vnEq8E"
      }
    },
    {
      "cell_type": "code",
      "source": [
        "n = 123456789\n",
        "\n",
        "rev = 0\n",
        "flag = True\n",
        "\n",
        "while n > 0:\n",
        "  last = n%10\n",
        "  rev = (rev*10)+last\n",
        "  n = n//10\n",
        "rev"
      ],
      "metadata": {
        "colab": {
          "base_uri": "https://localhost:8080/"
        },
        "id": "L3Yi2c-FGCES",
        "outputId": "ed788960-beaa-497a-f40f-1f4a326eb6bd"
      },
      "execution_count": null,
      "outputs": [
        {
          "output_type": "execute_result",
          "data": {
            "text/plain": [
              "987654321"
            ]
          },
          "metadata": {},
          "execution_count": 159
        }
      ]
    },
    {
      "cell_type": "markdown",
      "source": [
        "## Problem 18\n",
        "\n",
        "Piling Up!\n",
        "\n",
        "There is a horizontal row of n cubes. The length of each cube is given. You need to create a new vertical pile of cubes. The new pile should follow these directions: if cubei is on top of subej then sideLengthj>=sigeLengthi.\n",
        "When stacling the cubes, you can only pick up either leftmost or the rightmost cube each time. Print Yes if it possible to stack the cubes. Otherwise, print No.\n",
        "\n",
        "Example:\n",
        "\n",
        "blocks=1,2,3,8,7\n",
        "\n",
        "Result: No\n",
        "\n",
        "After choosing the rightmost element 7, choose the leftmost element, 1. After than, the choices are 2 and 8. These are both larger than the top block of size 1.\n",
        "\n",
        "blocks=1,2,3,7,8\n",
        "\n",
        "Result: Yes\n",
        "\n",
        "Choose blocks from right to left in order to successfully stack the blocks.\n",
        "\n",
        "Input Format:\n",
        "\n",
        "The first line contains a single integer T, the number of test cases.\n",
        "\n",
        "For each test case, there are 2 lines.\n",
        "\n",
        "The first line of each test case contains n, the number of cubes.\n",
        "\n",
        "The second line contains n space separated integers, denoting the sideLengths of each cube in that order.\n",
        "\n",
        "Output Format:\n",
        "\n",
        "For each test case, output a single line containing either Yes or No.\n",
        "\n",
        "Sample Input:\n",
        "\n",
        "STDIN        Function\n",
        "-----        --------\n",
        "\n",
        "2            T = 2\n",
        "\n",
        "6            blocks[] size n = 6\n",
        "\n",
        "4 3 2 1 3 4  blocks = [4, 3, 2, 1, 3, 4]\n",
        "\n",
        "3            blocks[] size n = 3\n",
        "\n",
        "1 3 2        blocks = [1, 3, 2]\n",
        "\n",
        "Sample Output:\n",
        "\n",
        "Yes\n",
        "\n",
        "No\n",
        "\n",
        "Explanation:\n",
        "\n",
        "In the first test case, pick in this order: left-4, right-4, left-3, right-3,left-2, right-1\n",
        "\n",
        "In the second test case, no order gives an appropriate arrangement of vertical cubes. 3 will always come after either 1 or 2."
      ],
      "metadata": {
        "id": "Qz1f2oKhS-cS"
      }
    },
    {
      "cell_type": "code",
      "source": [
        "def test(l):\n",
        "  mx = 0 if l[0] > l[-1] else -1\n",
        "  num = l[mx]\n",
        "  l.pop(mx)\n",
        "  print(l)\n",
        "  flag = True\n",
        "\n",
        "  while len(l) != 0:\n",
        "    if l[0] <= num and l[-1] <= num:\n",
        "      mx = 0 if l[0] > l[-1] else -1\n",
        "      num = l[mx]\n",
        "      l.pop(mx)\n",
        "      print(l)\n",
        "    else:\n",
        "      flag = False\n",
        "      break\n",
        "  if flag:\n",
        "    print('yes')\n",
        "  else:\n",
        "    print('no')"
      ],
      "metadata": {
        "id": "EgU3Pts1IxRQ"
      },
      "execution_count": null,
      "outputs": []
    },
    {
      "cell_type": "markdown",
      "source": [
        "## PROBLEM - 19\n",
        "The following Python code represents a Tic-Tac-Toe board as a list of\n",
        "\n",
        "lists: [ [ '#' , 'o' , 'x' ] , [ '#' , '#' , 'o' ] , [ 'x' , '#' , 'o' ] ]\n",
        "\n",
        "The # symbols represent blank squares on the board. Write a function\n",
        "print_board that takes a list of lists as an argument and prints out a Tic-Tac-Toe board in the following format:\n",
        "\n",
        "------------\n",
        "   | o | x\n",
        "------------\n",
        "   |   | o\n",
        "------------\n",
        " x |   | o\n",
        "\n",
        "------------\n"
      ],
      "metadata": {
        "id": "SeT3Ntbci4e0"
      }
    },
    {
      "cell_type": "code",
      "source": [
        "# ------------\n",
        "#    | o | x\n",
        "# ------------\n",
        "#    |   | o\n",
        "# ------------\n",
        "#  x |   | o\n",
        "\n",
        "l =  [ [ '#' , 'o' , 'x' ] , [ '#' , '#' , 'o' ] , [ 'x' , '#' , 'o' ] ]\n",
        "\n",
        "for i in l:\n",
        "  i = [' ' if j == '#' else j for j in i]\n",
        "  print('-'*15)\n",
        "  print(i[0],' | ',i[1],' | ',i[2])"
      ],
      "metadata": {
        "colab": {
          "base_uri": "https://localhost:8080/"
        },
        "id": "h5EU5612jH8-",
        "outputId": "e6dcb962-4b58-44b2-c5a4-233931bbb9f3"
      },
      "execution_count": null,
      "outputs": [
        {
          "output_type": "stream",
          "name": "stdout",
          "text": [
            "---------------\n",
            "   |  o  |  x\n",
            "---------------\n",
            "   |     |  o\n",
            "---------------\n",
            "x  |     |  o\n"
          ]
        }
      ]
    },
    {
      "cell_type": "markdown",
      "source": [
        "## PROBLEM - 20\n",
        "\n",
        "Wobbly Number\n",
        "A “wobbly” number is one in which the digits alternate between being higher and lower than the preceding one. Here are some wobbly numbers: 19284756242, 90909, 0909. Write a function that accepts a list of digits to be checked for wobbliness. If the sequence of digits is wobbly, the function should return True, otherwise False.\n"
      ],
      "metadata": {
        "id": "ReJCxNPmkGFM"
      }
    },
    {
      "cell_type": "code",
      "source": [
        "num = str(1928756242)\n",
        "\n",
        "l = [int(i) for i in list(num)]\n",
        "\n",
        "result = True if l[0] > l[1] else False\n",
        "\n",
        "ans = []\n",
        "\n",
        "flag = True\n",
        "\n",
        "for i in range(len(l)-1):\n",
        "  ans.append(True if l[i] > l[i+1] else False)\n",
        "\n",
        "for i in range(len(ans)-1):\n",
        "  if ans[i] == ans[i+1]:\n",
        "    flag = False\n",
        "    break\n",
        "\n",
        "if flag:\n",
        "  print('yes')\n",
        "else:\n",
        "  print('no')"
      ],
      "metadata": {
        "colab": {
          "base_uri": "https://localhost:8080/"
        },
        "id": "aJq9URgkkF5N",
        "outputId": "72d9bb6b-3a06-4695-f50f-5ce7419c9366"
      },
      "execution_count": null,
      "outputs": [
        {
          "output_type": "stream",
          "name": "stdout",
          "text": [
            "no\n"
          ]
        }
      ]
    },
    {
      "cell_type": "markdown",
      "source": [
        "## PROBLEM - 21\n",
        "\n",
        "Imagine a fictional land where monetary units aren’t based on decimal orders.\n",
        "\n",
        "In this land, we have 3 basic units (COINS) of currency:\n",
        "\n",
        "The Blink. The smallest unit of currency.\n",
        "\n",
        "The Hoojim. Worth 12 Blinks.\n",
        "\n",
        "The Bung. Worth 20 Hooja (plural of Hoojim) or 240 Blinks.\n",
        "\n",
        "Write a function called deBung that accepts an integer representing a number of Bungs and displays the number of Hooja and Blink it is worth.\n",
        "\n",
        "For example,calling the function like this:\n",
        "\n",
        "deBung ( 4 )\n",
        "\n",
        "Will produce the following output: 4 Bungs is worth 80 Hoojim or 960 Blinks.\n"
      ],
      "metadata": {
        "id": "psoxR9TIte7i"
      }
    },
    {
      "cell_type": "code",
      "source": [
        "def debung(bung):\n",
        "  return f'{bung*20} Hoojin \\n{bung*20*12} Blinks'"
      ],
      "metadata": {
        "id": "F1M-TOgOtXnF"
      },
      "execution_count": null,
      "outputs": []
    },
    {
      "cell_type": "markdown",
      "source": [
        "## PROBLEM - 22\n",
        "\n",
        "Write a function called enBlinkHoojaBung\n",
        "\n",
        "Write a function called enBlinkHoojaBung that takes a number of Blinks and outputs its equivalent in Blink, Hooja and Bung, using the smallest number of coins. Coins in our imaginary land are made of a very heavy metal, so this is important.\n",
        "\n",
        "If the function is called with the value 506, the output should be: 506 Blinks is worth 2 Bung, 2 Hoojim and 2 Blinks.\n"
      ],
      "metadata": {
        "id": "NFueepJ5upmK"
      }
    },
    {
      "cell_type": "code",
      "source": [
        "def enblinkhoojabung(blinks):\n",
        "  bung = 506//(240)\n",
        "  blinks = 506%(240)\n",
        "\n",
        "  hoojim = blinks//12\n",
        "  blinks = blinks%12\n",
        "\n",
        "  return f'bung = {bung} \\nhoojim = {hoojim}\\nblinks = {blinks}'"
      ],
      "metadata": {
        "id": "GyFCj5vPukZS"
      },
      "execution_count": null,
      "outputs": []
    },
    {
      "cell_type": "code",
      "source": [
        "print(enblinkhoojabung(506))"
      ],
      "metadata": {
        "colab": {
          "base_uri": "https://localhost:8080/"
        },
        "id": "ANBShhUtyeZ2",
        "outputId": "34cc9e5e-dd01-4c67-df80-6a2a7d4a421a"
      },
      "execution_count": null,
      "outputs": [
        {
          "output_type": "stream",
          "name": "stdout",
          "text": [
            "bung = 2 \n",
            "hoojim = 2\n",
            "blinks = 2\n"
          ]
        }
      ]
    },
    {
      "cell_type": "markdown",
      "source": [
        "## PROBLEM - 23\n",
        "\n",
        "Convert the following iterative functions into recursive functions:\n",
        "\n",
        "\n",
        "  `def sum_even ( n : int) :`\n",
        "\n",
        "      total = 0\n",
        "\n",
        "      for i in range ( 2 , n + 1 , 2 ) :\n",
        "\n",
        "          total += i\n",
        "\n",
        "      return total"
      ],
      "metadata": {
        "id": "QH3EhSAs_Qnv"
      }
    },
    {
      "cell_type": "code",
      "source": [
        "def sum_even(n):\n",
        "  if n == 2:\n",
        "    return 2\n",
        "  else:\n",
        "    num = n if n%2 == 0 else n-1\n",
        "    return num + sum_even(num-2)\n",
        "\n",
        "sum_even(10)"
      ],
      "metadata": {
        "colab": {
          "base_uri": "https://localhost:8080/"
        },
        "id": "4XjgUaM3ykvw",
        "outputId": "7aec14ee-756f-46d3-c6e7-f7b7c593f774"
      },
      "execution_count": null,
      "outputs": [
        {
          "output_type": "execute_result",
          "data": {
            "text/plain": [
              "30"
            ]
          },
          "metadata": {},
          "execution_count": 1
        }
      ]
    },
    {
      "cell_type": "markdown",
      "source": [
        "## PROBLEM - 24\n",
        "\n",
        "convert into recursive function  :\n",
        "\n",
        "`def min ( l:list ) :`\n",
        "\n",
        "    m = 0\n",
        "\n",
        "    for i in l :\n",
        "\n",
        "        if i<m :\n",
        "\n",
        "            m = i\n",
        "\n",
        "    return m\n"
      ],
      "metadata": {
        "id": "ueiA586uCAQY"
      }
    },
    {
      "cell_type": "code",
      "source": [
        "\n",
        "def mn(l):\n",
        "\n",
        "  if len(l) == 1:\n",
        "    return l[0]\n",
        "\n",
        "  else:\n",
        "    m = 0 if l[0] > l[1] else 1\n",
        "    l.pop(m)\n",
        "    return mn(l)\n",
        "\n",
        "mn([2,0.2,4,1])"
      ],
      "metadata": {
        "colab": {
          "base_uri": "https://localhost:8080/"
        },
        "id": "Lr6qTpTHBY2X",
        "outputId": "15c808ff-585b-44e5-cca7-1a91ed005f2a"
      },
      "execution_count": null,
      "outputs": [
        {
          "output_type": "execute_result",
          "data": {
            "text/plain": [
              "0.2"
            ]
          },
          "metadata": {},
          "execution_count": 11
        }
      ]
    },
    {
      "cell_type": "markdown",
      "source": [
        "## PROBLEM - 25\n",
        "CONVERT TO RECURSIVE\n",
        "\n",
        "` def prod ( l : list ) :`\n",
        "\n",
        "    product , i = 1 , 0\n",
        "\n",
        "    while i < len ( l ) :\n",
        "\n",
        "        product *= l[i]\n",
        "\n",
        "        i += 1\n",
        "\n",
        "    return product"
      ],
      "metadata": {
        "id": "o8MAy-N3Fcas"
      }
    },
    {
      "cell_type": "code",
      "source": [
        "def prod(l):\n",
        "  if len(l) == 1:\n",
        "    return l[0]\n",
        "  else:\n",
        "    m = l[0] * l[1]\n",
        "    l.pop(1)\n",
        "    l[0] = m\n",
        "    return prod(l)\n",
        "\n",
        "prod([1,2,3,4])"
      ],
      "metadata": {
        "colab": {
          "base_uri": "https://localhost:8080/"
        },
        "id": "ylWEF330CUek",
        "outputId": "9bf4dd4f-52ad-4ca8-e803-b959b04de3c2"
      },
      "execution_count": null,
      "outputs": [
        {
          "output_type": "execute_result",
          "data": {
            "text/plain": [
              "24"
            ]
          },
          "metadata": {},
          "execution_count": 18
        }
      ]
    },
    {
      "cell_type": "markdown",
      "source": [
        "## PROBLEM - 26\n",
        "\n",
        "MAKE A RECURSIVE SUM_ODD FUNCTION"
      ],
      "metadata": {
        "id": "1fs2wY5tGCpW"
      }
    },
    {
      "cell_type": "code",
      "source": [
        "def sum_odd(n):\n",
        "  if n == 1:\n",
        "    return n\n",
        "  else:\n",
        "    n = n if n%2 == 1 else n-1\n",
        "    return n + sum_odd(n-2)\n",
        "\n",
        "sum_odd(10)"
      ],
      "metadata": {
        "colab": {
          "base_uri": "https://localhost:8080/"
        },
        "id": "eMwRUcahdUol",
        "outputId": "4bd72945-5728-43f2-ab35-8062601b84ce"
      },
      "execution_count": null,
      "outputs": [
        {
          "output_type": "execute_result",
          "data": {
            "text/plain": [
              "25"
            ]
          },
          "metadata": {},
          "execution_count": 4
        }
      ]
    },
    {
      "cell_type": "markdown",
      "source": [
        "## problem - 27\n",
        "\n",
        "CREATE A RECURSIVE FUNCTION TO FIND MAX"
      ],
      "metadata": {
        "id": "pqIUyjz6d7eb"
      }
    },
    {
      "cell_type": "code",
      "source": [
        "def mx(l):\n",
        "\n",
        "  if len(l) == 1:\n",
        "    return l[0]\n",
        "  else:\n",
        "    m = 0 if l[0] < l[1] else 1\n",
        "    l.pop(m)\n",
        "    return mx(l)\n",
        "\n",
        "mx([100,2,3,45])"
      ],
      "metadata": {
        "colab": {
          "base_uri": "https://localhost:8080/"
        },
        "id": "AhdGBk4WeDIr",
        "outputId": "5415fad9-6e36-48c5-86ad-7f861a254d50"
      },
      "execution_count": null,
      "outputs": [
        {
          "output_type": "execute_result",
          "data": {
            "text/plain": [
              "100"
            ]
          },
          "metadata": {},
          "execution_count": 9
        }
      ]
    },
    {
      "cell_type": "markdown",
      "source": [
        "## PROBLEM - 28\n",
        "\n",
        "create len() function using recursion"
      ],
      "metadata": {
        "id": "LFbgM54Ceoss"
      }
    },
    {
      "cell_type": "code",
      "source": [
        "def mylnx(l):\n",
        "\n",
        "  if len(l) == 1:\n",
        "    return 1\n",
        "  else:\n",
        "    if type(l) == dict:\n",
        "      l.popitem()\n",
        "      return 1 + mylnx(l)\n",
        "    elif type(l) == set:\n",
        "      l.pop()\n",
        "      return 1 + mylnx(l)\n",
        "    else:\n",
        "      return 1 + mylnx(l[1:])\n",
        "\n",
        "mylnx({1,2,3,64})"
      ],
      "metadata": {
        "colab": {
          "base_uri": "https://localhost:8080/"
        },
        "id": "pt1TYOZJhT40",
        "outputId": "82cf4201-ad78-4a9c-c2b2-1e2fb98c298a"
      },
      "execution_count": null,
      "outputs": [
        {
          "output_type": "execute_result",
          "data": {
            "text/plain": [
              "4"
            ]
          },
          "metadata": {},
          "execution_count": 30
        }
      ]
    },
    {
      "cell_type": "markdown",
      "source": [
        "## PROBLEM - 29\n",
        "Use map and lambda to turn a list of integers from1 to 100into a list of even numbers from2 to 200`."
      ],
      "metadata": {
        "id": "z46QZQ1RmH0g"
      }
    },
    {
      "cell_type": "code",
      "source": [
        "l = list(range(1,101))\n",
        "\n",
        "list(map(lambda x : x*2,l))"
      ],
      "metadata": {
        "colab": {
          "base_uri": "https://localhost:8080/"
        },
        "id": "6CrR3XeFl81Q",
        "outputId": "f570fe67-68d9-42ab-b39a-97815205daf8"
      },
      "execution_count": null,
      "outputs": [
        {
          "output_type": "execute_result",
          "data": {
            "text/plain": [
              "[2,\n",
              " 4,\n",
              " 6,\n",
              " 8,\n",
              " 10,\n",
              " 12,\n",
              " 14,\n",
              " 16,\n",
              " 18,\n",
              " 20,\n",
              " 22,\n",
              " 24,\n",
              " 26,\n",
              " 28,\n",
              " 30,\n",
              " 32,\n",
              " 34,\n",
              " 36,\n",
              " 38,\n",
              " 40,\n",
              " 42,\n",
              " 44,\n",
              " 46,\n",
              " 48,\n",
              " 50,\n",
              " 52,\n",
              " 54,\n",
              " 56,\n",
              " 58,\n",
              " 60,\n",
              " 62,\n",
              " 64,\n",
              " 66,\n",
              " 68,\n",
              " 70,\n",
              " 72,\n",
              " 74,\n",
              " 76,\n",
              " 78,\n",
              " 80,\n",
              " 82,\n",
              " 84,\n",
              " 86,\n",
              " 88,\n",
              " 90,\n",
              " 92,\n",
              " 94,\n",
              " 96,\n",
              " 98,\n",
              " 100,\n",
              " 102,\n",
              " 104,\n",
              " 106,\n",
              " 108,\n",
              " 110,\n",
              " 112,\n",
              " 114,\n",
              " 116,\n",
              " 118,\n",
              " 120,\n",
              " 122,\n",
              " 124,\n",
              " 126,\n",
              " 128,\n",
              " 130,\n",
              " 132,\n",
              " 134,\n",
              " 136,\n",
              " 138,\n",
              " 140,\n",
              " 142,\n",
              " 144,\n",
              " 146,\n",
              " 148,\n",
              " 150,\n",
              " 152,\n",
              " 154,\n",
              " 156,\n",
              " 158,\n",
              " 160,\n",
              " 162,\n",
              " 164,\n",
              " 166,\n",
              " 168,\n",
              " 170,\n",
              " 172,\n",
              " 174,\n",
              " 176,\n",
              " 178,\n",
              " 180,\n",
              " 182,\n",
              " 184,\n",
              " 186,\n",
              " 188,\n",
              " 190,\n",
              " 192,\n",
              " 194,\n",
              " 196,\n",
              " 198,\n",
              " 200]"
            ]
          },
          "metadata": {},
          "execution_count": 38
        }
      ]
    },
    {
      "cell_type": "markdown",
      "source": [
        "## PROBLEM - 30\n",
        "\n",
        "Use filter to generate a list of odd numbers from 0 to 100"
      ],
      "metadata": {
        "id": "9V8qKs9MnBBu"
      }
    },
    {
      "cell_type": "code",
      "source": [
        "l = list(range(1,101))\n",
        "\n",
        "list(filter(lambda x : x%2 == 1,l))"
      ],
      "metadata": {
        "colab": {
          "base_uri": "https://localhost:8080/"
        },
        "id": "uc_tlORUmOoP",
        "outputId": "827a7014-e693-41d8-9515-e1876912adc7"
      },
      "execution_count": null,
      "outputs": [
        {
          "output_type": "execute_result",
          "data": {
            "text/plain": [
              "[1,\n",
              " 3,\n",
              " 5,\n",
              " 7,\n",
              " 9,\n",
              " 11,\n",
              " 13,\n",
              " 15,\n",
              " 17,\n",
              " 19,\n",
              " 21,\n",
              " 23,\n",
              " 25,\n",
              " 27,\n",
              " 29,\n",
              " 31,\n",
              " 33,\n",
              " 35,\n",
              " 37,\n",
              " 39,\n",
              " 41,\n",
              " 43,\n",
              " 45,\n",
              " 47,\n",
              " 49,\n",
              " 51,\n",
              " 53,\n",
              " 55,\n",
              " 57,\n",
              " 59,\n",
              " 61,\n",
              " 63,\n",
              " 65,\n",
              " 67,\n",
              " 69,\n",
              " 71,\n",
              " 73,\n",
              " 75,\n",
              " 77,\n",
              " 79,\n",
              " 81,\n",
              " 83,\n",
              " 85,\n",
              " 87,\n",
              " 89,\n",
              " 91,\n",
              " 93,\n",
              " 95,\n",
              " 97,\n",
              " 99]"
            ]
          },
          "metadata": {},
          "execution_count": 41
        }
      ]
    },
    {
      "cell_type": "markdown",
      "source": [
        "## PROBLEM 31\n",
        "Use a list comprehension to generate a list of odd numbers from 0 to 100\n"
      ],
      "metadata": {
        "id": "JRRKJ_lpnWtI"
      }
    },
    {
      "cell_type": "code",
      "source": [
        "[i for i in range(1,100,2)]"
      ],
      "metadata": {
        "colab": {
          "base_uri": "https://localhost:8080/"
        },
        "id": "Ee7mNipqnM-w",
        "outputId": "1d800ff6-6571-46d1-ffb0-adb56c109697"
      },
      "execution_count": null,
      "outputs": [
        {
          "output_type": "execute_result",
          "data": {
            "text/plain": [
              "[1,\n",
              " 3,\n",
              " 5,\n",
              " 7,\n",
              " 9,\n",
              " 11,\n",
              " 13,\n",
              " 15,\n",
              " 17,\n",
              " 19,\n",
              " 21,\n",
              " 23,\n",
              " 25,\n",
              " 27,\n",
              " 29,\n",
              " 31,\n",
              " 33,\n",
              " 35,\n",
              " 37,\n",
              " 39,\n",
              " 41,\n",
              " 43,\n",
              " 45,\n",
              " 47,\n",
              " 49,\n",
              " 51,\n",
              " 53,\n",
              " 55,\n",
              " 57,\n",
              " 59,\n",
              " 61,\n",
              " 63,\n",
              " 65,\n",
              " 67,\n",
              " 69,\n",
              " 71,\n",
              " 73,\n",
              " 75,\n",
              " 77,\n",
              " 79,\n",
              " 81,\n",
              " 83,\n",
              " 85,\n",
              " 87,\n",
              " 89,\n",
              " 91,\n",
              " 93,\n",
              " 95,\n",
              " 97,\n",
              " 99]"
            ]
          },
          "metadata": {},
          "execution_count": 44
        }
      ]
    },
    {
      "cell_type": "markdown",
      "source": [
        "## PROBLEM - 32\n",
        "\n",
        "Write a generator function (using the yield keyword) that generates factorial numbers."
      ],
      "metadata": {
        "id": "aKRJvSIbn4wB"
      }
    },
    {
      "cell_type": "code",
      "source": [
        "def fact():\n",
        "  i = 1\n",
        "  factorial = 1\n",
        "  while True:\n",
        "    yield factorial\n",
        "    i += 1\n",
        "    factorial *= i\n",
        "\n",
        "obj = fact()\n",
        "\n",
        "for _ in range(50):\n",
        "  print(next(obj))"
      ],
      "metadata": {
        "id": "X8SA6tHnsAqO",
        "colab": {
          "base_uri": "https://localhost:8080/"
        },
        "outputId": "843b4ec9-2404-44c8-e9a3-7f8c01ce8f8a"
      },
      "execution_count": 114,
      "outputs": [
        {
          "output_type": "stream",
          "name": "stdout",
          "text": [
            "1\n",
            "2\n",
            "6\n",
            "24\n",
            "120\n",
            "720\n",
            "5040\n",
            "40320\n",
            "362880\n",
            "3628800\n",
            "39916800\n",
            "479001600\n",
            "6227020800\n",
            "87178291200\n",
            "1307674368000\n",
            "20922789888000\n",
            "355687428096000\n",
            "6402373705728000\n",
            "121645100408832000\n",
            "2432902008176640000\n",
            "51090942171709440000\n",
            "1124000727777607680000\n",
            "25852016738884976640000\n",
            "620448401733239439360000\n",
            "15511210043330985984000000\n",
            "403291461126605635584000000\n",
            "10888869450418352160768000000\n",
            "304888344611713860501504000000\n",
            "8841761993739701954543616000000\n",
            "265252859812191058636308480000000\n",
            "8222838654177922817725562880000000\n",
            "263130836933693530167218012160000000\n",
            "8683317618811886495518194401280000000\n",
            "295232799039604140847618609643520000000\n",
            "10333147966386144929666651337523200000000\n",
            "371993326789901217467999448150835200000000\n",
            "13763753091226345046315979581580902400000000\n",
            "523022617466601111760007224100074291200000000\n",
            "20397882081197443358640281739902897356800000000\n",
            "815915283247897734345611269596115894272000000000\n",
            "33452526613163807108170062053440751665152000000000\n",
            "1405006117752879898543142606244511569936384000000000\n",
            "60415263063373835637355132068513997507264512000000000\n",
            "2658271574788448768043625811014615890319638528000000000\n",
            "119622220865480194561963161495657715064383733760000000000\n",
            "5502622159812088949850305428800254892961651752960000000000\n",
            "258623241511168180642964355153611979969197632389120000000000\n",
            "12413915592536072670862289047373375038521486354677760000000000\n",
            "608281864034267560872252163321295376887552831379210240000000000\n",
            "30414093201713378043612608166064768844377641568960512000000000000\n"
          ]
        }
      ]
    },
    {
      "cell_type": "markdown",
      "source": [
        "## PROBLEM - 33\n",
        "\n",
        " Ackermann’s Function\n",
        "\n",
        "Ackermann’s Function is defined as:\n",
        "\n",
        "          n+1 if m = 0\n",
        "\n",
        "          A(m,n) = A(m−1,1) if m > 0 and n = 0\n",
        "\n",
        "          A(m−1,A(m,n−1)) if m > 0 and n > 0\n",
        "\n",
        "i. Write a recursive Python function to implement Ackermann’s Function.\n",
        "\n",
        "ii. How many recursive calls will be required to evaluate A(2,3)?"
      ],
      "metadata": {
        "id": "GJVGBngWseRf"
      }
    },
    {
      "cell_type": "code",
      "source": [
        "counter = 0\n",
        "\n",
        "def ackermann(m,n):\n",
        "  global counter\n",
        "  counter += 1\n",
        "  if m == 0:\n",
        "    return n+1\n",
        "  elif m > 0 and n> 0:\n",
        "    return ackermann(m-1,ackermann(m,n-1))\n",
        "  else:\n",
        "    return ackermann(m-1,1)\n",
        "\n",
        "print(ackermann(2,3))\n",
        "print(counter)"
      ],
      "metadata": {
        "colab": {
          "base_uri": "https://localhost:8080/"
        },
        "id": "HxiG6LsWsyLE",
        "outputId": "e5987b00-95d4-45e2-b973-5cd0f06515f0"
      },
      "execution_count": null,
      "outputs": [
        {
          "output_type": "stream",
          "name": "stdout",
          "text": [
            "9\n",
            "44\n"
          ]
        }
      ]
    },
    {
      "cell_type": "markdown",
      "source": [
        "## PROBLEM - 34\n",
        "\n",
        "Palindrome String\n",
        "\n",
        "  Write a recursive function implementation of isPalindrome to test whether or not a string is a palindrome.\n",
        "\n",
        "  a man, a plan, a canal, panama! is a palindrome – so we do not make spaces and special characters(! here) significant."
      ],
      "metadata": {
        "id": "ItACh7LQvNSr"
      }
    },
    {
      "cell_type": "code",
      "source": [
        "def ispalin(string):\n",
        "  string = list(string)\n",
        "  string = list(filter(lambda x : x.isalpha() , string))\n",
        "  if len(string) == 0 or len(string) == 1:\n",
        "    return 'is palindrome'\n",
        "  else:\n",
        "    if string[0] == string[-1]:\n",
        "      return ispalin(string[1:-1])\n",
        "    else:\n",
        "      print('not palindrome')\n",
        "\n",
        "ispalin('a man, a plan, a canal, panama! ')"
      ],
      "metadata": {
        "colab": {
          "base_uri": "https://localhost:8080/"
        },
        "id": "pZuNQIVUvRva",
        "outputId": "7468446f-6cef-47e6-9932-53bde3c8686f"
      },
      "execution_count": null,
      "outputs": [
        {
          "output_type": "stream",
          "name": "stdout",
          "text": [
            "not palindrome\n"
          ]
        }
      ]
    },
    {
      "cell_type": "markdown",
      "source": [
        "## Problem- 35\n",
        "\n",
        "Create a module for playing Tic-Tac-Toe.\n",
        "\n",
        "Hint: You may want to consider the following functions:\n",
        "\n",
        "print_board ( ) – from the programming exercise above, except that you will want to use a global board variable, rather than a function argument.\n",
        "\n",
        "has_won ( ) – check to see whether either player has won. This function should return the string ’o’ or ’x’ if either the o or x player has won and ’#’ if neither player has won. A player wins in Tic-Tac-Toe if they have three of their counters in a row, a column or a diagonal.\n",
        "\n",
        "place_counter ( sq , counter ) – place the counter on a particular square of the board. The first argument should be a number between 0 and 8 and the second argument should be either ’o’ or ’x’. You should consider the squares on the board to be numbered as in the diagram below.\n",
        "\n",
        "    0 | 1 | 2\n",
        "    ----------\n",
        "    3 | 4 | 5\n",
        "    ----------\n",
        "    6 | 7 | 8\n",
        "Using a numbering such as this one makes the answer to this challenge simpler!\n",
        "\n",
        "next_play ( ) – This function should ask the user for the next move they want to play. You should make sure that the user knows whether x or o is currently playing. You can assume that the user will enter an integer value. You should still check that the integer the player has provided is between 0 and 8 inclusive.\n"
      ],
      "metadata": {
        "id": "0Q_m_GRuy9cj"
      }
    },
    {
      "cell_type": "code",
      "source": [
        "class tictactoe:\n",
        "\n",
        "  def __init__(self):\n",
        "    self.l = [[j for j in range(i,i+3)] for i in range(0,9,3)]\n",
        "    self.play = 'X'\n",
        "    self.flag = None\n",
        "\n",
        "  def display(self):\n",
        "    for i in self.l:\n",
        "      print('-'*15)\n",
        "      print(i[0],' | ',i[1],' | ',i[2])\n",
        "    self.next_play()\n",
        "\n",
        "  def next_play(self):\n",
        "    if self.play == 'X' :\n",
        "      print('X Turn')\n",
        "      pos = int(input('enter the position'))\n",
        "\n",
        "    else:\n",
        "      print('O Turn')\n",
        "      pos = int(input('enter the position'))\n",
        "\n",
        "    if pos < 3:\n",
        "      self.l[0][pos] = self.play\n",
        "    elif pos < 6:\n",
        "      self.l[1][pos-3] = self.play\n",
        "    else:\n",
        "      self.l[2][pos-6] = self.play\n",
        "\n",
        "    self.play = 'X' if self.play == 'O' else 'O'\n",
        "\n",
        "    self.result()\n",
        "\n",
        "  def result(self):\n",
        "    if sum([i == 'X' for i in self.l[0]]) == 3:\n",
        "      self.flag = 'X'\n",
        "\n",
        "    elif sum([i == 'X' for i in self.l[1]]) == 3:\n",
        "      self.flag = 'X'\n",
        "\n",
        "    elif sum([i == 'X' for i in self.l[2]]) == 3:\n",
        "      self.flag = 'X'\n",
        "\n",
        "    elif sum([k == 'X' for k in [self.l[i][i] for i in range(3)]]) == 3:\n",
        "      self.flag = 'X'\n",
        "\n",
        "    elif sum([i == 'X' for i in [self.l[i][2-i] for i in range(2,-1,-1)]]) == 3:\n",
        "      self.flag = 'X'\n",
        "\n",
        "    elif sum([i == 'X' for i in [self.l[i][0] for i in range(3)]]) == 3:\n",
        "      self.flag = 'X'\n",
        "\n",
        "    elif sum([i == 'X' for i in [self.l[i][1] for i in range(3)]]) == 3:\n",
        "      self.flag = 'X'\n",
        "\n",
        "    elif sum([i == 'X' for i in [self.l[i][2] for i in range(3)]]) == 3:\n",
        "      self.flag = 'X'\n",
        "\n",
        "    else:\n",
        "\n",
        "      if sum([i == 'O' for i in self.l[0]]) == 3:\n",
        "        self.flag = 'O'\n",
        "\n",
        "      elif sum([i == 'O' for i in self.l[1]]) == 3:\n",
        "        self.flag = 'O'\n",
        "\n",
        "      elif sum([i == 'O' for i in self.l[2]]) == 3:\n",
        "        self.flag = 'O'\n",
        "\n",
        "      elif sum([k == 'O' for k in [self.l[i][i] for i in range(3)]]) == 3:\n",
        "        self.flag = 'O'\n",
        "\n",
        "      elif sum([i == 'O' for i in [self.l[i][2-i] for i in range(2,-1,-1)]]) == 3:\n",
        "        self.flag = 'O'\n",
        "\n",
        "      elif sum([i == 'O' for i in [self.l[i][0] for i in range(3)]]) == 3:\n",
        "        self.flag = 'O'\n",
        "\n",
        "      elif sum([i == 'O' for i in [self.l[i][1] for i in range(3)]]) == 3:\n",
        "        self.flag = 'O'\n",
        "\n",
        "      elif sum([i == 'O' for i in [self.l[i][2] for i in range(3)]]) == 3:\n",
        "        self.flag = 'O'\n",
        "\n",
        "      else:\n",
        "        pass\n",
        "\n",
        "\n",
        "    if self.flag == 'O':\n",
        "      print('O is winner')\n",
        "    elif self.flag == 'X':\n",
        "      print('X is winner')\n",
        "    else:\n",
        "      self.display()\n",
        "\n",
        "game = tictactoe()\n",
        "game.display()"
      ],
      "metadata": {
        "colab": {
          "base_uri": "https://localhost:8080/"
        },
        "id": "4V5xc21QzCnX",
        "outputId": "a5ac4fe1-e1ae-4d57-fc5b-4d8d8acf1ca4"
      },
      "execution_count": null,
      "outputs": [
        {
          "output_type": "stream",
          "name": "stdout",
          "text": [
            "---------------\n",
            "0  |  1  |  2\n",
            "---------------\n",
            "3  |  4  |  5\n",
            "---------------\n",
            "6  |  7  |  8\n",
            "X Turn\n",
            "enter the position0\n",
            "---------------\n",
            "X  |  1  |  2\n",
            "---------------\n",
            "3  |  4  |  5\n",
            "---------------\n",
            "6  |  7  |  8\n",
            "O Turn\n",
            "enter the position0\n",
            "---------------\n",
            "O  |  1  |  2\n",
            "---------------\n",
            "3  |  4  |  5\n",
            "---------------\n",
            "6  |  7  |  8\n",
            "X Turn\n",
            "enter the position4\n",
            "---------------\n",
            "O  |  1  |  2\n",
            "---------------\n",
            "3  |  X  |  5\n",
            "---------------\n",
            "6  |  7  |  8\n",
            "O Turn\n",
            "enter the position4\n",
            "---------------\n",
            "O  |  1  |  2\n",
            "---------------\n",
            "3  |  O  |  5\n",
            "---------------\n",
            "6  |  7  |  8\n",
            "X Turn\n",
            "enter the position8\n",
            "---------------\n",
            "O  |  1  |  2\n",
            "---------------\n",
            "3  |  O  |  5\n",
            "---------------\n",
            "6  |  7  |  X\n",
            "O Turn\n",
            "enter the position8\n",
            "O is winner\n"
          ]
        }
      ]
    },
    {
      "cell_type": "markdown",
      "source": [
        "PROBLEM - 36\n",
        "\n",
        "Create a class to represent a single die that can have any positive integer number of sides. The class should have a method roll that returns a random integer from 1 to the number of sides."
      ],
      "metadata": {
        "id": "8hPqkioyrC4h"
      }
    },
    {
      "cell_type": "code",
      "source": [
        "import random\n",
        "class die:\n",
        "  def __init__(self,n):\n",
        "    self.n = n\n",
        "\n",
        "  def roll(self):\n",
        "    return random.randint(1,self.n)"
      ],
      "metadata": {
        "id": "VPZUHpnnrMwX"
      },
      "execution_count": null,
      "outputs": []
    },
    {
      "cell_type": "code",
      "source": [
        "d = die(5)\n",
        "d.roll()"
      ],
      "metadata": {
        "colab": {
          "base_uri": "https://localhost:8080/"
        },
        "id": "oh5T95GJrfHQ",
        "outputId": "beabd327-bdf4-4e7c-f18d-d19233cb0e39"
      },
      "execution_count": null,
      "outputs": [
        {
          "output_type": "execute_result",
          "data": {
            "text/plain": [
              "1"
            ]
          },
          "metadata": {},
          "execution_count": 28
        }
      ]
    },
    {
      "cell_type": "markdown",
      "source": [
        "## Problem- 40  \n",
        "Account class\n",
        "\n",
        "Write a class Account that stores the current balance, interest rate and account number of a bank account. Your class should provide methods to withdraw, deposit and add interest to the account. The user should only be allowed to withdraw money up to some overdraft limit. If an account goes overdrawn, there is fee charged.\n",
        "\n"
      ],
      "metadata": {
        "id": "QscuY0rlsJZX"
      }
    },
    {
      "cell_type": "code",
      "source": [
        "class Account:\n",
        "\n",
        "  def __init__(self,balance,interest,account_number):\n",
        "    self.balance = balance\n",
        "    self.interest = interest\n",
        "    self.account_number = account_number\n",
        "\n",
        "  def withdraw(self,amount):\n",
        "    if (self.balance - 1000) > amount:\n",
        "      self.balance = self.balance - amount\n",
        "    elif self.balance > amount:\n",
        "      self.balance = self.balance - amount - (amount*0.1)\n",
        "      print('overdrawn !!',amount*0.1,' is deducted as charge. ')\n",
        "    print(amount,' is withdrawl !!\\nRemaining is ',self.balance)\n",
        "\n",
        "  def deposit(self,amount):\n",
        "    self.balance += amount\n",
        "    print('Total balance ',self.balance)\n",
        "\n",
        "  def intrt(self):\n",
        "    print('total interest you got - ',self.balance*(self.interest/100))\n",
        "\n",
        "acc = Account(5000000000000,10,1234565432)\n",
        "\n",
        "acc.withdraw(1)\n",
        "acc.deposit(1)\n",
        "acc.intrt()"
      ],
      "metadata": {
        "colab": {
          "base_uri": "https://localhost:8080/"
        },
        "id": "EmLCUg-6rkNk",
        "outputId": "7627f0df-b137-4752-cae0-98a96e1e0c6b"
      },
      "execution_count": null,
      "outputs": [
        {
          "output_type": "stream",
          "name": "stdout",
          "text": [
            "1  is withdrawl !!\n",
            "Remaining is  4999999999999\n",
            "Total balance  5000000000000\n",
            "total interest you got -  500000000000.0\n"
          ]
        }
      ]
    }
  ]
}